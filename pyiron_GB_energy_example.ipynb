{
 "cells": [
  {
   "cell_type": "markdown",
   "metadata": {},
   "source": [
    "### A pyiron workflow to calculate a grain boundary energy using multiple potentials, and compare to literature DFT data.\n",
    "\n",
    "This notebook __doesn't__ work out of the box if you haven't configured LAMMPS for pyiron\n",
    "\n",
    "conda install -c conda-forge lammps \n",
    "\n",
    "OR\n",
    "\n",
    "mamba install -c conda-forge lammps\n",
    "\n",
    "In the python environment in which you are running pyiron\n",
    "\n",
    "WARNING: In practice/production you should configure a compiled LAMMPS executable that is optimised for your cluster!"
   ]
  },
  {
   "cell_type": "code",
   "execution_count": 1,
   "metadata": {},
   "outputs": [
    {
     "data": {
      "application/vnd.jupyter.widget-view+json": {
       "model_id": "02dd55e19f874f09833c1a9c37922160",
       "version_major": 2,
       "version_minor": 0
      },
      "text/plain": []
     },
     "metadata": {},
     "output_type": "display_data"
    }
   ],
   "source": [
    "from pyiron.project import Project\n",
    "\n",
    "import numpy as np\n",
    "import pandas as pd\n",
    "\n",
    "from ase.lattice.cubic import BodyCenteredCubic as bcc\n",
    "from ase.build import stack\n",
    "\n",
    "from pyiron.atomistics.structure.atoms import ase_to_pyiron"
   ]
  },
  {
   "cell_type": "code",
   "execution_count": 2,
   "metadata": {},
   "outputs": [],
   "source": [
    "pr = Project(\"GB_calcs\")"
   ]
  },
  {
   "cell_type": "markdown",
   "metadata": {},
   "source": [
    "Create the structure that we're going to use:\n",
    "a $\\Sigma 3 [1 \\bar{1}0](111)$ Fe GB"
   ]
  },
  {
   "cell_type": "code",
   "execution_count": 3,
   "metadata": {},
   "outputs": [],
   "source": [
    "surface1 = [1, 1, 1]\n",
    "surface2 = [1, 1, -1]\n",
    "rotation_axis = [1, -1, 0]\n",
    "element = \"Fe\"\n",
    "lc = 2.8318488966083\n",
    "GB_name = \"S3-RA110-S1-11\"\n",
    "\n",
    "# The minimum required length of the cell.\n",
    "req_length = 15\n",
    "\n",
    "v1 = list(-np.cross(rotation_axis,surface1))\n",
    "v2 = list(-np.cross(rotation_axis,surface2)) \n",
    "\n",
    "length = 0\n",
    "n = 0\n",
    "while length < req_length:\n",
    "    n += 1\n",
    "    \n",
    "    slab1 = bcc(symbol=element, latticeconstant=lc,directions=[rotation_axis,v1,surface1], size=[1,1,n])\n",
    "    slab2 = bcc(symbol=element, latticeconstant=lc,directions=[rotation_axis,v2,surface2], size=[1,1,n])\n",
    "\n",
    "    gb = stack(slab1, slab2)\n",
    "    slab = stack(slab1, slab1)\n",
    "    length = gb.cell[-1,-1]\n",
    "    \n",
    "    # Rattle the gb structure using rattle in ASE to perturb symmetry\n",
    "    gb.rattle()\n",
    "    slab.rattle()"
   ]
  },
  {
   "cell_type": "markdown",
   "metadata": {},
   "source": [
    "Create the pyiron job, assign the structure to the job."
   ]
  },
  {
   "cell_type": "code",
   "execution_count": 4,
   "metadata": {},
   "outputs": [],
   "source": [
    "job = pr.create_job(job_type=pr.job_type.Lammps, job_name='Fe_S3_GB')\n",
    "\n",
    "job.structure = ase_to_pyiron(gb)"
   ]
  },
  {
   "cell_type": "markdown",
   "metadata": {},
   "source": [
    "We need to see the potentials, pyiron has an inbuilt potential database\n",
    "\n",
    "It automatically finds the applicable potentials given the structure provided."
   ]
  },
  {
   "cell_type": "code",
   "execution_count": 5,
   "metadata": {},
   "outputs": [
    {
     "data": {
      "text/plain": [
       "['1997--Ackland-G-J--Fe--LAMMPS--ipr1',\n",
       " '1998--Meyer-R--Fe--LAMMPS--ipr1',\n",
       " '2001--Lee-B-J--Fe--LAMMPS--ipr1',\n",
       " '2001--Lee-B-J--Fe-Cr--LAMMPS--ipr1',\n",
       " '2003--Mendelev-M-I--Fe-2--LAMMPS--ipr3',\n",
       " '2003--Mendelev-M-I--Fe-5--LAMMPS--ipr1',\n",
       " '2004--Ackland-G-J--Fe-P--LAMMPS--ipr1',\n",
       " '2004--Zhou-X-W--Fe--LAMMPS--ipr2',\n",
       " '2005--Lee-B-J--Fe-Cu--LAMMPS--ipr1',\n",
       " '2005--Mendelev-M-I--Al-Fe--LAMMPS--ipr1']"
      ]
     },
     "execution_count": 5,
     "metadata": {},
     "output_type": "execute_result"
    }
   ],
   "source": [
    "job.list_potentials()[:10]"
   ]
  },
  {
   "cell_type": "code",
   "execution_count": 6,
   "metadata": {},
   "outputs": [
    {
     "name": "stderr",
     "output_type": "stream",
     "text": [
      "2023-08-11 18:23:41,995 - pyiron_log - WARNING - No HDF5 file found - remove database entry and create new job! S3_GB_0\n"
     ]
    },
    {
     "name": "stdout",
     "output_type": "stream",
     "text": [
      "The job S3_GB_0 was saved and received the ID: 753\n"
     ]
    },
    {
     "name": "stderr",
     "output_type": "stream",
     "text": [
      "2023-08-11 18:23:42,505 - pyiron_log - WARNING - No HDF5 file found - remove database entry and create new job! S3_SLAB_0\n"
     ]
    },
    {
     "name": "stdout",
     "output_type": "stream",
     "text": [
      "The job S3_SLAB_0 was saved and received the ID: 754\n"
     ]
    },
    {
     "name": "stderr",
     "output_type": "stream",
     "text": [
      "2023-08-11 18:23:42,972 - pyiron_log - WARNING - No HDF5 file found - remove database entry and create new job! S3_GB_1\n"
     ]
    },
    {
     "name": "stdout",
     "output_type": "stream",
     "text": [
      "The job S3_GB_1 was saved and received the ID: 755\n"
     ]
    },
    {
     "name": "stderr",
     "output_type": "stream",
     "text": [
      "2023-08-11 18:23:43,630 - pyiron_log - WARNING - No HDF5 file found - remove database entry and create new job! S3_SLAB_1\n"
     ]
    },
    {
     "name": "stdout",
     "output_type": "stream",
     "text": [
      "The job S3_SLAB_1 was saved and received the ID: 756\n"
     ]
    },
    {
     "name": "stderr",
     "output_type": "stream",
     "text": [
      "2023-08-11 18:23:44,299 - pyiron_log - WARNING - No HDF5 file found - remove database entry and create new job! S3_GB_2\n"
     ]
    },
    {
     "name": "stdout",
     "output_type": "stream",
     "text": [
      "The job S3_GB_2 was saved and received the ID: 757\n"
     ]
    },
    {
     "name": "stderr",
     "output_type": "stream",
     "text": [
      "2023-08-11 18:23:44,694 - pyiron_log - WARNING - No HDF5 file found - remove database entry and create new job! S3_SLAB_2\n"
     ]
    },
    {
     "name": "stdout",
     "output_type": "stream",
     "text": [
      "The job S3_SLAB_2 was saved and received the ID: 758\n"
     ]
    },
    {
     "name": "stderr",
     "output_type": "stream",
     "text": [
      "2023-08-11 18:23:45,081 - pyiron_log - WARNING - No HDF5 file found - remove database entry and create new job! S3_GB_3\n"
     ]
    },
    {
     "name": "stdout",
     "output_type": "stream",
     "text": [
      "The job S3_GB_3 was saved and received the ID: 759\n"
     ]
    },
    {
     "name": "stderr",
     "output_type": "stream",
     "text": [
      "2023-08-11 18:23:45,611 - pyiron_log - WARNING - No HDF5 file found - remove database entry and create new job! S3_SLAB_3\n"
     ]
    },
    {
     "name": "stdout",
     "output_type": "stream",
     "text": [
      "The job S3_SLAB_3 was saved and received the ID: 760\n"
     ]
    },
    {
     "name": "stderr",
     "output_type": "stream",
     "text": [
      "2023-08-11 18:23:46,006 - pyiron_log - WARNING - No HDF5 file found - remove database entry and create new job! S3_GB_4\n"
     ]
    },
    {
     "name": "stdout",
     "output_type": "stream",
     "text": [
      "The job S3_GB_4 was saved and received the ID: 761\n"
     ]
    },
    {
     "name": "stderr",
     "output_type": "stream",
     "text": [
      "2023-08-11 18:23:46,599 - pyiron_log - WARNING - No HDF5 file found - remove database entry and create new job! S3_SLAB_4\n"
     ]
    },
    {
     "name": "stdout",
     "output_type": "stream",
     "text": [
      "The job S3_SLAB_4 was saved and received the ID: 762\n"
     ]
    },
    {
     "name": "stderr",
     "output_type": "stream",
     "text": [
      "2023-08-11 18:23:47,134 - pyiron_log - WARNING - No HDF5 file found - remove database entry and create new job! S3_GB_5\n"
     ]
    },
    {
     "name": "stdout",
     "output_type": "stream",
     "text": [
      "The job S3_GB_5 was saved and received the ID: 763\n"
     ]
    },
    {
     "name": "stderr",
     "output_type": "stream",
     "text": [
      "2023-08-11 18:23:47,747 - pyiron_log - WARNING - No HDF5 file found - remove database entry and create new job! S3_SLAB_5\n"
     ]
    },
    {
     "name": "stdout",
     "output_type": "stream",
     "text": [
      "The job S3_SLAB_5 was saved and received the ID: 764\n"
     ]
    },
    {
     "name": "stderr",
     "output_type": "stream",
     "text": [
      "2023-08-11 18:23:48,523 - pyiron_log - WARNING - No HDF5 file found - remove database entry and create new job! S3_GB_6\n"
     ]
    },
    {
     "name": "stdout",
     "output_type": "stream",
     "text": [
      "The job S3_GB_6 was saved and received the ID: 767\n"
     ]
    },
    {
     "name": "stderr",
     "output_type": "stream",
     "text": [
      "2023-08-11 18:23:49,542 - pyiron_log - WARNING - No HDF5 file found - remove database entry and create new job! S3_SLAB_6\n"
     ]
    },
    {
     "name": "stdout",
     "output_type": "stream",
     "text": [
      "The job S3_SLAB_6 was saved and received the ID: 769\n"
     ]
    },
    {
     "name": "stderr",
     "output_type": "stream",
     "text": [
      "2023-08-11 18:23:50,458 - pyiron_log - WARNING - No HDF5 file found - remove database entry and create new job! S3_GB_7\n"
     ]
    },
    {
     "name": "stdout",
     "output_type": "stream",
     "text": [
      "The job S3_GB_7 was saved and received the ID: 772\n"
     ]
    },
    {
     "name": "stderr",
     "output_type": "stream",
     "text": [
      "2023-08-11 18:23:50,986 - pyiron_log - WARNING - No HDF5 file found - remove database entry and create new job! S3_SLAB_7\n"
     ]
    },
    {
     "name": "stdout",
     "output_type": "stream",
     "text": [
      "The job S3_SLAB_7 was saved and received the ID: 773\n"
     ]
    },
    {
     "name": "stderr",
     "output_type": "stream",
     "text": [
      "2023-08-11 18:23:51,404 - pyiron_log - WARNING - No HDF5 file found - remove database entry and create new job! S3_GB_8\n"
     ]
    },
    {
     "name": "stdout",
     "output_type": "stream",
     "text": [
      "The job S3_GB_8 was saved and received the ID: 774\n"
     ]
    },
    {
     "name": "stderr",
     "output_type": "stream",
     "text": [
      "2023-08-11 18:23:51,922 - pyiron_log - WARNING - No HDF5 file found - remove database entry and create new job! S3_SLAB_8\n"
     ]
    },
    {
     "name": "stdout",
     "output_type": "stream",
     "text": [
      "The job S3_SLAB_8 was saved and received the ID: 776\n"
     ]
    },
    {
     "name": "stderr",
     "output_type": "stream",
     "text": [
      "2023-08-11 18:23:52,534 - pyiron_log - WARNING - No HDF5 file found - remove database entry and create new job! S3_GB_9\n"
     ]
    },
    {
     "name": "stdout",
     "output_type": "stream",
     "text": [
      "The job S3_GB_9 was saved and received the ID: 778\n"
     ]
    },
    {
     "name": "stderr",
     "output_type": "stream",
     "text": [
      "2023-08-11 18:23:53,346 - pyiron_log - WARNING - No HDF5 file found - remove database entry and create new job! S3_SLAB_9\n"
     ]
    },
    {
     "name": "stdout",
     "output_type": "stream",
     "text": [
      "The job S3_SLAB_9 was saved and received the ID: 779\n"
     ]
    },
    {
     "name": "stderr",
     "output_type": "stream",
     "text": [
      "2023-08-11 18:23:54,283 - pyiron_log - WARNING - No HDF5 file found - remove database entry and create new job! S3_GB_10\n"
     ]
    },
    {
     "name": "stdout",
     "output_type": "stream",
     "text": [
      "The job S3_GB_10 was saved and received the ID: 782\n"
     ]
    },
    {
     "name": "stderr",
     "output_type": "stream",
     "text": [
      "2023-08-11 18:23:54,959 - pyiron_log - WARNING - No HDF5 file found - remove database entry and create new job! S3_SLAB_10\n"
     ]
    },
    {
     "name": "stdout",
     "output_type": "stream",
     "text": [
      "The job S3_SLAB_10 was saved and received the ID: 784\n"
     ]
    },
    {
     "name": "stderr",
     "output_type": "stream",
     "text": [
      "2023-08-11 18:23:55,533 - pyiron_log - WARNING - No HDF5 file found - remove database entry and create new job! S3_GB_11\n"
     ]
    },
    {
     "name": "stdout",
     "output_type": "stream",
     "text": [
      "The job S3_GB_11 was saved and received the ID: 785\n"
     ]
    },
    {
     "name": "stderr",
     "output_type": "stream",
     "text": [
      "2023-08-11 18:23:56,130 - pyiron_log - WARNING - No HDF5 file found - remove database entry and create new job! S3_SLAB_11\n"
     ]
    },
    {
     "name": "stdout",
     "output_type": "stream",
     "text": [
      "The job S3_SLAB_11 was saved and received the ID: 787\n"
     ]
    },
    {
     "name": "stderr",
     "output_type": "stream",
     "text": [
      "2023-08-11 18:23:56,690 - pyiron_log - WARNING - No HDF5 file found - remove database entry and create new job! S3_GB_12\n"
     ]
    },
    {
     "name": "stdout",
     "output_type": "stream",
     "text": [
      "The job S3_GB_12 was saved and received the ID: 789\n"
     ]
    },
    {
     "name": "stderr",
     "output_type": "stream",
     "text": [
      "2023-08-11 18:23:57,221 - pyiron_log - WARNING - No HDF5 file found - remove database entry and create new job! S3_SLAB_12\n"
     ]
    },
    {
     "name": "stdout",
     "output_type": "stream",
     "text": [
      "The job S3_SLAB_12 was saved and received the ID: 791\n"
     ]
    },
    {
     "name": "stderr",
     "output_type": "stream",
     "text": [
      "2023-08-11 18:23:57,752 - pyiron_log - WARNING - No HDF5 file found - remove database entry and create new job! S3_GB_13\n"
     ]
    },
    {
     "name": "stdout",
     "output_type": "stream",
     "text": [
      "The job S3_GB_13 was saved and received the ID: 792\n"
     ]
    },
    {
     "name": "stderr",
     "output_type": "stream",
     "text": [
      "2023-08-11 18:23:58,253 - pyiron_log - WARNING - No HDF5 file found - remove database entry and create new job! S3_SLAB_13\n"
     ]
    },
    {
     "name": "stdout",
     "output_type": "stream",
     "text": [
      "The job S3_SLAB_13 was saved and received the ID: 794\n"
     ]
    },
    {
     "name": "stderr",
     "output_type": "stream",
     "text": [
      "2023-08-11 18:23:58,764 - pyiron_log - WARNING - No HDF5 file found - remove database entry and create new job! S3_GB_14\n"
     ]
    },
    {
     "name": "stdout",
     "output_type": "stream",
     "text": [
      "The job S3_GB_14 was saved and received the ID: 795\n"
     ]
    },
    {
     "name": "stderr",
     "output_type": "stream",
     "text": [
      "2023-08-11 18:23:59,246 - pyiron_log - WARNING - No HDF5 file found - remove database entry and create new job! S3_SLAB_14\n"
     ]
    },
    {
     "name": "stdout",
     "output_type": "stream",
     "text": [
      "The job S3_SLAB_14 was saved and received the ID: 797\n"
     ]
    },
    {
     "name": "stderr",
     "output_type": "stream",
     "text": [
      "2023-08-11 18:23:59,804 - pyiron_log - WARNING - No HDF5 file found - remove database entry and create new job! S3_GB_15\n"
     ]
    },
    {
     "name": "stdout",
     "output_type": "stream",
     "text": [
      "The job S3_GB_15 was saved and received the ID: 799\n"
     ]
    },
    {
     "name": "stderr",
     "output_type": "stream",
     "text": [
      "2023-08-11 18:24:00,841 - pyiron_log - WARNING - No HDF5 file found - remove database entry and create new job! S3_SLAB_15\n"
     ]
    },
    {
     "name": "stdout",
     "output_type": "stream",
     "text": [
      "The job S3_SLAB_15 was saved and received the ID: 801\n"
     ]
    },
    {
     "name": "stderr",
     "output_type": "stream",
     "text": [
      "2023-08-11 18:24:01,763 - pyiron_log - WARNING - No HDF5 file found - remove database entry and create new job! S3_GB_16\n"
     ]
    },
    {
     "name": "stdout",
     "output_type": "stream",
     "text": [
      "The job S3_GB_16 was saved and received the ID: 804\n"
     ]
    },
    {
     "name": "stderr",
     "output_type": "stream",
     "text": [
      "2023-08-11 18:24:03,176 - pyiron_log - WARNING - No HDF5 file found - remove database entry and create new job! S3_SLAB_16\n"
     ]
    },
    {
     "name": "stdout",
     "output_type": "stream",
     "text": [
      "The job S3_SLAB_16 was saved and received the ID: 806\n"
     ]
    },
    {
     "name": "stderr",
     "output_type": "stream",
     "text": [
      "2023-08-11 18:24:04,699 - pyiron_log - WARNING - No HDF5 file found - remove database entry and create new job! S3_GB_17\n"
     ]
    },
    {
     "name": "stdout",
     "output_type": "stream",
     "text": [
      "The job S3_GB_17 was saved and received the ID: 810\n"
     ]
    },
    {
     "name": "stderr",
     "output_type": "stream",
     "text": [
      "2023-08-11 18:24:05,144 - pyiron_log - WARNING - No HDF5 file found - remove database entry and create new job! S3_SLAB_17\n"
     ]
    },
    {
     "name": "stdout",
     "output_type": "stream",
     "text": [
      "The job S3_SLAB_17 was saved and received the ID: 811\n"
     ]
    },
    {
     "name": "stderr",
     "output_type": "stream",
     "text": [
      "2023-08-11 18:24:05,693 - pyiron_log - WARNING - No HDF5 file found - remove database entry and create new job! S3_GB_18\n"
     ]
    },
    {
     "name": "stdout",
     "output_type": "stream",
     "text": [
      "The job S3_GB_18 was saved and received the ID: 813\n"
     ]
    },
    {
     "name": "stderr",
     "output_type": "stream",
     "text": [
      "2023-08-11 18:24:06,304 - pyiron_log - WARNING - No HDF5 file found - remove database entry and create new job! S3_SLAB_18\n"
     ]
    },
    {
     "name": "stdout",
     "output_type": "stream",
     "text": [
      "The job S3_SLAB_18 was saved and received the ID: 815\n"
     ]
    },
    {
     "name": "stderr",
     "output_type": "stream",
     "text": [
      "2023-08-11 18:24:06,754 - pyiron_log - WARNING - No HDF5 file found - remove database entry and create new job! S3_GB_19\n"
     ]
    },
    {
     "name": "stdout",
     "output_type": "stream",
     "text": [
      "The job S3_GB_19 was saved and received the ID: 816\n"
     ]
    },
    {
     "name": "stderr",
     "output_type": "stream",
     "text": [
      "2023-08-11 18:24:07,382 - pyiron_log - WARNING - No HDF5 file found - remove database entry and create new job! S3_SLAB_19\n"
     ]
    },
    {
     "name": "stdout",
     "output_type": "stream",
     "text": [
      "The job S3_SLAB_19 was saved and received the ID: 817\n"
     ]
    },
    {
     "name": "stderr",
     "output_type": "stream",
     "text": [
      "2023-08-11 18:24:08,255 - pyiron_log - WARNING - No HDF5 file found - remove database entry and create new job! S3_GB_20\n"
     ]
    },
    {
     "name": "stdout",
     "output_type": "stream",
     "text": [
      "The job S3_GB_20 was saved and received the ID: 820\n"
     ]
    },
    {
     "name": "stderr",
     "output_type": "stream",
     "text": [
      "2023-08-11 18:24:08,833 - pyiron_log - WARNING - No HDF5 file found - remove database entry and create new job! S3_SLAB_20\n"
     ]
    },
    {
     "name": "stdout",
     "output_type": "stream",
     "text": [
      "The job S3_SLAB_20 was saved and received the ID: 821\n"
     ]
    },
    {
     "name": "stderr",
     "output_type": "stream",
     "text": [
      "2023-08-11 18:24:09,356 - pyiron_log - WARNING - No HDF5 file found - remove database entry and create new job! S3_GB_21\n"
     ]
    },
    {
     "name": "stdout",
     "output_type": "stream",
     "text": [
      "The job S3_GB_21 was saved and received the ID: 822\n"
     ]
    },
    {
     "name": "stderr",
     "output_type": "stream",
     "text": [
      "2023-08-11 18:24:10,014 - pyiron_log - WARNING - No HDF5 file found - remove database entry and create new job! S3_SLAB_21\n"
     ]
    },
    {
     "name": "stdout",
     "output_type": "stream",
     "text": [
      "The job S3_SLAB_21 was saved and received the ID: 824\n"
     ]
    },
    {
     "name": "stderr",
     "output_type": "stream",
     "text": [
      "2023-08-11 18:24:10,606 - pyiron_log - WARNING - No HDF5 file found - remove database entry and create new job! S3_GB_22\n"
     ]
    },
    {
     "name": "stdout",
     "output_type": "stream",
     "text": [
      "The job S3_GB_22 was saved and received the ID: 826\n"
     ]
    },
    {
     "name": "stderr",
     "output_type": "stream",
     "text": [
      "2023-08-11 18:24:11,121 - pyiron_log - WARNING - No HDF5 file found - remove database entry and create new job! S3_SLAB_22\n"
     ]
    },
    {
     "name": "stdout",
     "output_type": "stream",
     "text": [
      "The job S3_SLAB_22 was saved and received the ID: 827\n"
     ]
    },
    {
     "name": "stderr",
     "output_type": "stream",
     "text": [
      "2023-08-11 18:24:11,512 - pyiron_log - WARNING - No HDF5 file found - remove database entry and create new job! S3_GB_23\n"
     ]
    },
    {
     "name": "stdout",
     "output_type": "stream",
     "text": [
      "The job S3_GB_23 was saved and received the ID: 828\n"
     ]
    },
    {
     "name": "stderr",
     "output_type": "stream",
     "text": [
      "2023-08-11 18:24:12,011 - pyiron_log - WARNING - No HDF5 file found - remove database entry and create new job! S3_SLAB_23\n"
     ]
    },
    {
     "name": "stdout",
     "output_type": "stream",
     "text": [
      "The job S3_SLAB_23 was saved and received the ID: 829\n"
     ]
    },
    {
     "name": "stderr",
     "output_type": "stream",
     "text": [
      "2023-08-11 18:24:12,611 - pyiron_log - WARNING - No HDF5 file found - remove database entry and create new job! S3_GB_24\n"
     ]
    },
    {
     "name": "stdout",
     "output_type": "stream",
     "text": [
      "The job S3_GB_24 was saved and received the ID: 831\n"
     ]
    },
    {
     "name": "stderr",
     "output_type": "stream",
     "text": [
      "2023-08-11 18:24:13,210 - pyiron_log - WARNING - No HDF5 file found - remove database entry and create new job! S3_SLAB_24\n"
     ]
    },
    {
     "name": "stdout",
     "output_type": "stream",
     "text": [
      "The job S3_SLAB_24 was saved and received the ID: 833\n"
     ]
    },
    {
     "name": "stderr",
     "output_type": "stream",
     "text": [
      "2023-08-11 18:24:13,712 - pyiron_log - WARNING - No HDF5 file found - remove database entry and create new job! S3_GB_25\n"
     ]
    },
    {
     "name": "stdout",
     "output_type": "stream",
     "text": [
      "The job S3_GB_25 was saved and received the ID: 835\n"
     ]
    },
    {
     "name": "stderr",
     "output_type": "stream",
     "text": [
      "2023-08-11 18:24:14,270 - pyiron_log - WARNING - No HDF5 file found - remove database entry and create new job! S3_SLAB_25\n"
     ]
    },
    {
     "name": "stdout",
     "output_type": "stream",
     "text": [
      "The job S3_SLAB_25 was saved and received the ID: 836\n"
     ]
    },
    {
     "name": "stderr",
     "output_type": "stream",
     "text": [
      "2023-08-11 18:24:14,789 - pyiron_log - WARNING - No HDF5 file found - remove database entry and create new job! S3_GB_26\n"
     ]
    },
    {
     "name": "stdout",
     "output_type": "stream",
     "text": [
      "The job S3_GB_26 was saved and received the ID: 838\n"
     ]
    },
    {
     "name": "stderr",
     "output_type": "stream",
     "text": [
      "2023-08-11 18:24:15,295 - pyiron_log - WARNING - No HDF5 file found - remove database entry and create new job! S3_SLAB_26\n"
     ]
    },
    {
     "name": "stdout",
     "output_type": "stream",
     "text": [
      "The job S3_SLAB_26 was saved and received the ID: 839\n"
     ]
    },
    {
     "name": "stderr",
     "output_type": "stream",
     "text": [
      "2023-08-11 18:24:15,700 - pyiron_log - WARNING - No HDF5 file found - remove database entry and create new job! S3_GB_27\n"
     ]
    },
    {
     "name": "stdout",
     "output_type": "stream",
     "text": [
      "The job S3_GB_27 was saved and received the ID: 840\n"
     ]
    },
    {
     "name": "stderr",
     "output_type": "stream",
     "text": [
      "2023-08-11 18:24:17,235 - pyiron_log - WARNING - No HDF5 file found - remove database entry and create new job! S3_SLAB_27\n"
     ]
    },
    {
     "name": "stdout",
     "output_type": "stream",
     "text": [
      "The job S3_SLAB_27 was saved and received the ID: 842\n"
     ]
    },
    {
     "name": "stderr",
     "output_type": "stream",
     "text": [
      "2023-08-11 18:24:18,921 - pyiron_log - WARNING - No HDF5 file found - remove database entry and create new job! S3_GB_28\n",
      "2023-08-11 18:24:19,237 - pyiron_log - WARNING - Job aborted\n",
      "2023-08-11 18:24:19,240 - pyiron_log - WARNING - LAMMPS (28 Mar 2023 - Update 1)\n",
      "Reading data file ...\n",
      "  orthogonal box = (0 0 0) to (4.0048391 6.9365848 19.619625)\n",
      "  1 by 1 by 1 MPI processor grid\n",
      "  reading atoms ...\n",
      "  48 atoms\n",
      "  read_data CPU = 0.001 seconds\n",
      "ERROR on proc 0: Not a valid floating-point number: 'Infinity' (src/MANYBODY/pair_eam_alloy.cpp:174)\n",
      "Last command: pair_coeff * * eam/alloy FeCr_d.eam.alloy Fe Cr\n",
      "\n",
      "2023-08-11 18:24:19,262 - pyiron_log - WARNING - No HDF5 file found - remove database entry and create new job! S3_GB_29\n"
     ]
    },
    {
     "name": "stdout",
     "output_type": "stream",
     "text": [
      "The job S3_GB_28 was saved and received the ID: 846\n",
      "The job S3_GB_29 was saved and received the ID: 847\n"
     ]
    },
    {
     "name": "stderr",
     "output_type": "stream",
     "text": [
      "2023-08-11 18:24:20,537 - pyiron_log - WARNING - No HDF5 file found - remove database entry and create new job! S3_SLAB_29\n"
     ]
    },
    {
     "name": "stdout",
     "output_type": "stream",
     "text": [
      "The job S3_SLAB_29 was saved and received the ID: 848\n"
     ]
    },
    {
     "name": "stderr",
     "output_type": "stream",
     "text": [
      "2023-08-11 18:24:21,809 - pyiron_log - WARNING - No HDF5 file found - remove database entry and create new job! S3_GB_30\n",
      "2023-08-11 18:24:21,989 - pyiron_log - WARNING - Job aborted\n",
      "2023-08-11 18:24:21,990 - pyiron_log - WARNING - LAMMPS (28 Mar 2023 - Update 1)\n",
      "Reading data file ...\n",
      "  orthogonal box = (0 0 0) to (4.0048391 6.9365848 19.619625)\n",
      "  1 by 1 by 1 MPI processor grid\n",
      "  reading atoms ...\n",
      "  48 atoms\n",
      "  read_data CPU = 0.000 seconds\n",
      "ERROR on proc 0: Not a valid floating-point number: 'INF' (src/MANYBODY/pair_eam_alloy.cpp:174)\n",
      "Last command: pair_coeff * * FeNiCr.eam.alloy Fe Ni Cr\n",
      "\n",
      "2023-08-11 18:24:22,001 - pyiron_log - WARNING - No HDF5 file found - remove database entry and create new job! S3_GB_31\n"
     ]
    },
    {
     "name": "stdout",
     "output_type": "stream",
     "text": [
      "The job S3_GB_30 was saved and received the ID: 849\n",
      "The job S3_GB_31 was saved and received the ID: 850\n"
     ]
    },
    {
     "name": "stderr",
     "output_type": "stream",
     "text": [
      "2023-08-11 18:24:22,754 - pyiron_log - WARNING - No HDF5 file found - remove database entry and create new job! S3_SLAB_31\n"
     ]
    },
    {
     "name": "stdout",
     "output_type": "stream",
     "text": [
      "The job S3_SLAB_31 was saved and received the ID: 852\n"
     ]
    },
    {
     "name": "stderr",
     "output_type": "stream",
     "text": [
      "2023-08-11 18:24:23,589 - pyiron_log - WARNING - No HDF5 file found - remove database entry and create new job! S3_GB_32\n"
     ]
    },
    {
     "name": "stdout",
     "output_type": "stream",
     "text": [
      "The job S3_GB_32 was saved and received the ID: 854\n"
     ]
    },
    {
     "name": "stderr",
     "output_type": "stream",
     "text": [
      "2023-08-11 18:24:24,231 - pyiron_log - WARNING - No HDF5 file found - remove database entry and create new job! S3_SLAB_32\n"
     ]
    },
    {
     "name": "stdout",
     "output_type": "stream",
     "text": [
      "The job S3_SLAB_32 was saved and received the ID: 856\n"
     ]
    },
    {
     "name": "stderr",
     "output_type": "stream",
     "text": [
      "2023-08-11 18:24:25,081 - pyiron_log - WARNING - No HDF5 file found - remove database entry and create new job! S3_GB_33\n"
     ]
    },
    {
     "name": "stdout",
     "output_type": "stream",
     "text": [
      "The job S3_GB_33 was saved and received the ID: 858\n"
     ]
    },
    {
     "name": "stderr",
     "output_type": "stream",
     "text": [
      "2023-08-11 18:24:25,678 - pyiron_log - WARNING - No HDF5 file found - remove database entry and create new job! S3_SLAB_33\n"
     ]
    },
    {
     "name": "stdout",
     "output_type": "stream",
     "text": [
      "The job S3_SLAB_33 was saved and received the ID: 860\n"
     ]
    },
    {
     "name": "stderr",
     "output_type": "stream",
     "text": [
      "2023-08-11 18:24:26,191 - pyiron_log - WARNING - No HDF5 file found - remove database entry and create new job! S3_GB_34\n"
     ]
    },
    {
     "name": "stdout",
     "output_type": "stream",
     "text": [
      "The job S3_GB_34 was saved and received the ID: 862\n"
     ]
    },
    {
     "name": "stderr",
     "output_type": "stream",
     "text": [
      "2023-08-11 18:24:26,817 - pyiron_log - WARNING - No HDF5 file found - remove database entry and create new job! S3_SLAB_34\n"
     ]
    },
    {
     "name": "stdout",
     "output_type": "stream",
     "text": [
      "The job S3_SLAB_34 was saved and received the ID: 864\n"
     ]
    },
    {
     "name": "stderr",
     "output_type": "stream",
     "text": [
      "2023-08-11 18:24:27,471 - pyiron_log - WARNING - No HDF5 file found - remove database entry and create new job! S3_GB_35\n"
     ]
    },
    {
     "name": "stdout",
     "output_type": "stream",
     "text": [
      "The job S3_GB_35 was saved and received the ID: 866\n"
     ]
    },
    {
     "name": "stderr",
     "output_type": "stream",
     "text": [
      "2023-08-11 18:24:29,181 - pyiron_log - WARNING - No HDF5 file found - remove database entry and create new job! S3_SLAB_35\n"
     ]
    },
    {
     "name": "stdout",
     "output_type": "stream",
     "text": [
      "The job S3_SLAB_35 was saved and received the ID: 869\n"
     ]
    },
    {
     "name": "stderr",
     "output_type": "stream",
     "text": [
      "2023-08-11 18:24:31,167 - pyiron_log - WARNING - No HDF5 file found - remove database entry and create new job! S3_GB_36\n",
      "2023-08-11 18:24:31,445 - pyiron_log - WARNING - Job aborted\n",
      "2023-08-11 18:24:31,447 - pyiron_log - WARNING - LAMMPS (28 Mar 2023 - Update 1)\n",
      "Reading data file ...\n",
      "  orthogonal box = (0 0 0) to (4.0048391 6.9365848 19.619625)\n",
      "  1 by 1 by 1 MPI processor grid\n",
      "  reading atoms ...\n",
      "  48 atoms\n",
      "  read_data CPU = 0.000 seconds\n",
      "ERROR on proc 0: Not a valid floating-point number: 'Infinity' (src/MANYBODY/pair_eam_alloy.cpp:174)\n",
      "Last command: pair_coeff * * eam/alloy FeCrW_d.eam.alloy Fe Cr W\n",
      "\n",
      "2023-08-11 18:24:31,461 - pyiron_log - WARNING - No HDF5 file found - remove database entry and create new job! S3_GB_37\n"
     ]
    },
    {
     "name": "stdout",
     "output_type": "stream",
     "text": [
      "The job S3_GB_36 was saved and received the ID: 873\n",
      "The job S3_GB_37 was saved and received the ID: 875\n"
     ]
    },
    {
     "name": "stderr",
     "output_type": "stream",
     "text": [
      "2023-08-11 18:24:33,364 - pyiron_log - WARNING - No HDF5 file found - remove database entry and create new job! S3_SLAB_37\n"
     ]
    },
    {
     "name": "stdout",
     "output_type": "stream",
     "text": [
      "The job S3_SLAB_37 was saved and received the ID: 877\n"
     ]
    },
    {
     "name": "stderr",
     "output_type": "stream",
     "text": [
      "2023-08-11 18:24:35,558 - pyiron_log - WARNING - No HDF5 file found - remove database entry and create new job! S3_GB_38\n"
     ]
    },
    {
     "name": "stdout",
     "output_type": "stream",
     "text": [
      "The job S3_GB_38 was saved and received the ID: 881\n"
     ]
    },
    {
     "name": "stderr",
     "output_type": "stream",
     "text": [
      "2023-08-11 18:24:36,227 - pyiron_log - WARNING - No HDF5 file found - remove database entry and create new job! S3_SLAB_38\n"
     ]
    },
    {
     "name": "stdout",
     "output_type": "stream",
     "text": [
      "The job S3_SLAB_38 was saved and received the ID: 882\n"
     ]
    },
    {
     "name": "stderr",
     "output_type": "stream",
     "text": [
      "2023-08-11 18:24:36,900 - pyiron_log - WARNING - No HDF5 file found - remove database entry and create new job! S3_GB_39\n"
     ]
    },
    {
     "name": "stdout",
     "output_type": "stream",
     "text": [
      "The job S3_GB_39 was saved and received the ID: 884\n"
     ]
    },
    {
     "name": "stderr",
     "output_type": "stream",
     "text": [
      "2023-08-11 18:24:37,595 - pyiron_log - WARNING - No HDF5 file found - remove database entry and create new job! S3_SLAB_39\n"
     ]
    },
    {
     "name": "stdout",
     "output_type": "stream",
     "text": [
      "The job S3_SLAB_39 was saved and received the ID: 885\n"
     ]
    },
    {
     "name": "stderr",
     "output_type": "stream",
     "text": [
      "2023-08-11 18:24:38,209 - pyiron_log - WARNING - No HDF5 file found - remove database entry and create new job! S3_GB_40\n"
     ]
    },
    {
     "name": "stdout",
     "output_type": "stream",
     "text": [
      "The job S3_GB_40 was saved and received the ID: 886\n"
     ]
    },
    {
     "name": "stderr",
     "output_type": "stream",
     "text": [
      "2023-08-11 18:24:38,669 - pyiron_log - WARNING - No HDF5 file found - remove database entry and create new job! S3_SLAB_40\n"
     ]
    },
    {
     "name": "stdout",
     "output_type": "stream",
     "text": [
      "The job S3_SLAB_40 was saved and received the ID: 888\n"
     ]
    },
    {
     "name": "stderr",
     "output_type": "stream",
     "text": [
      "2023-08-11 18:24:39,237 - pyiron_log - WARNING - No HDF5 file found - remove database entry and create new job! S3_GB_41\n",
      "2023-08-11 18:24:39,400 - pyiron_log - WARNING - Job aborted\n",
      "2023-08-11 18:24:39,401 - pyiron_log - WARNING - LAMMPS (28 Mar 2023 - Update 1)\n",
      "Reading data file ...\n",
      "  orthogonal box = (0 0 0) to (4.0048391 6.9365848 19.619625)\n",
      "  1 by 1 by 1 MPI processor grid\n",
      "  reading atoms ...\n",
      "  48 atoms\n",
      "  read_data CPU = 0.000 seconds\n",
      "ERROR on proc 0: Not a valid integer number: '0.000000' (src/MEAM/pair_meam.cpp:466)\n",
      "Last command: pair_coeff * * Fe3C_library_Liyanage_2014.meam Fe C Fe3C_Liyanage_2014.meam Fe C\n",
      "\n",
      "2023-08-11 18:24:39,414 - pyiron_log - WARNING - No HDF5 file found - remove database entry and create new job! S3_GB_42\n"
     ]
    },
    {
     "name": "stdout",
     "output_type": "stream",
     "text": [
      "The job S3_GB_41 was saved and received the ID: 890\n"
     ]
    },
    {
     "name": "stderr",
     "output_type": "stream",
     "text": [
      "2023-08-11 18:24:39,602 - pyiron_log - WARNING - Job aborted\n",
      "2023-08-11 18:24:39,603 - pyiron_log - WARNING - LAMMPS (28 Mar 2023 - Update 1)\n",
      "Reading data file ...\n",
      "  orthogonal box = (0 0 0) to (4.0048391 6.9365848 19.619625)\n",
      "  1 by 1 by 1 MPI processor grid\n",
      "  reading atoms ...\n",
      "  48 atoms\n",
      "  read_data CPU = 0.000 seconds\n",
      "ERROR on proc 0: Not a valid integer number: '-5.000000' (src/MEAM/pair_meam.cpp:466)\n",
      "Last command: pair_coeff * * library.Fe.meam Fe Fe.meam Fe\n",
      "\n",
      "2023-08-11 18:24:39,616 - pyiron_log - WARNING - No HDF5 file found - remove database entry and create new job! S3_GB_43\n"
     ]
    },
    {
     "name": "stdout",
     "output_type": "stream",
     "text": [
      "The job S3_GB_42 was saved and received the ID: 891\n",
      "The job S3_GB_43 was saved and received the ID: 892\n"
     ]
    },
    {
     "name": "stderr",
     "output_type": "stream",
     "text": [
      "2023-08-11 18:24:40,877 - pyiron_log - WARNING - No HDF5 file found - remove database entry and create new job! S3_SLAB_43\n"
     ]
    },
    {
     "name": "stdout",
     "output_type": "stream",
     "text": [
      "The job S3_SLAB_43 was saved and received the ID: 894\n"
     ]
    },
    {
     "name": "stderr",
     "output_type": "stream",
     "text": [
      "2023-08-11 18:24:42,155 - pyiron_log - WARNING - No HDF5 file found - remove database entry and create new job! S3_GB_44\n"
     ]
    },
    {
     "name": "stdout",
     "output_type": "stream",
     "text": [
      "The job S3_GB_44 was saved and received the ID: 897\n"
     ]
    },
    {
     "name": "stderr",
     "output_type": "stream",
     "text": [
      "2023-08-11 18:24:42,892 - pyiron_log - WARNING - No HDF5 file found - remove database entry and create new job! S3_SLAB_44\n"
     ]
    },
    {
     "name": "stdout",
     "output_type": "stream",
     "text": [
      "The job S3_SLAB_44 was saved and received the ID: 899\n"
     ]
    },
    {
     "name": "stderr",
     "output_type": "stream",
     "text": [
      "2023-08-11 18:24:43,551 - pyiron_log - WARNING - No HDF5 file found - remove database entry and create new job! S3_GB_45\n"
     ]
    },
    {
     "name": "stdout",
     "output_type": "stream",
     "text": [
      "The job S3_GB_45 was saved and received the ID: 901\n"
     ]
    },
    {
     "name": "stderr",
     "output_type": "stream",
     "text": [
      "2023-08-11 18:24:44,036 - pyiron_log - WARNING - No HDF5 file found - remove database entry and create new job! S3_SLAB_45\n"
     ]
    },
    {
     "name": "stdout",
     "output_type": "stream",
     "text": [
      "The job S3_SLAB_45 was saved and received the ID: 903\n"
     ]
    },
    {
     "name": "stderr",
     "output_type": "stream",
     "text": [
      "2023-08-11 18:24:44,585 - pyiron_log - WARNING - No HDF5 file found - remove database entry and create new job! S3_GB_46\n"
     ]
    },
    {
     "name": "stdout",
     "output_type": "stream",
     "text": [
      "The job S3_GB_46 was saved and received the ID: 904\n"
     ]
    },
    {
     "name": "stderr",
     "output_type": "stream",
     "text": [
      "2023-08-11 18:24:45,151 - pyiron_log - WARNING - No HDF5 file found - remove database entry and create new job! S3_SLAB_46\n"
     ]
    },
    {
     "name": "stdout",
     "output_type": "stream",
     "text": [
      "The job S3_SLAB_46 was saved and received the ID: 906\n"
     ]
    },
    {
     "name": "stderr",
     "output_type": "stream",
     "text": [
      "2023-08-11 18:24:45,766 - pyiron_log - WARNING - No HDF5 file found - remove database entry and create new job! S3_GB_47\n"
     ]
    },
    {
     "name": "stdout",
     "output_type": "stream",
     "text": [
      "The job S3_GB_47 was saved and received the ID: 908\n"
     ]
    },
    {
     "name": "stderr",
     "output_type": "stream",
     "text": [
      "2023-08-11 18:24:46,319 - pyiron_log - WARNING - No HDF5 file found - remove database entry and create new job! S3_SLAB_47\n"
     ]
    },
    {
     "name": "stdout",
     "output_type": "stream",
     "text": [
      "The job S3_SLAB_47 was saved and received the ID: 910\n"
     ]
    },
    {
     "name": "stderr",
     "output_type": "stream",
     "text": [
      "2023-08-11 18:24:46,729 - pyiron_log - WARNING - No HDF5 file found - remove database entry and create new job! S3_GB_48\n"
     ]
    },
    {
     "name": "stdout",
     "output_type": "stream",
     "text": [
      "The job S3_GB_48 was saved and received the ID: 911\n"
     ]
    },
    {
     "name": "stderr",
     "output_type": "stream",
     "text": [
      "2023-08-11 18:24:47,254 - pyiron_log - WARNING - No HDF5 file found - remove database entry and create new job! S3_SLAB_48\n"
     ]
    },
    {
     "name": "stdout",
     "output_type": "stream",
     "text": [
      "The job S3_SLAB_48 was saved and received the ID: 912\n"
     ]
    },
    {
     "name": "stderr",
     "output_type": "stream",
     "text": [
      "2023-08-11 18:24:47,742 - pyiron_log - WARNING - No HDF5 file found - remove database entry and create new job! S3_GB_49\n",
      "2023-08-11 18:24:47,922 - pyiron_log - WARNING - Job aborted\n",
      "2023-08-11 18:24:47,924 - pyiron_log - WARNING - LAMMPS (28 Mar 2023 - Update 1)\n",
      "Reading data file ...\n",
      "  orthogonal box = (0 0 0) to (4.0048391 6.9365848 19.619625)\n",
      "  1 by 1 by 1 MPI processor grid\n",
      "  reading atoms ...\n",
      "  48 atoms\n",
      "  read_data CPU = 0.000 seconds\n",
      "ERROR on proc 0: Not a valid integer number: '-5.000000' (src/MEAM/pair_meam.cpp:466)\n",
      "Last command: pair_coeff * * library.Fe.meam Fe Fe.meam Fe\n",
      "\n",
      "2023-08-11 18:24:47,935 - pyiron_log - WARNING - No HDF5 file found - remove database entry and create new job! S3_GB_50\n"
     ]
    },
    {
     "name": "stdout",
     "output_type": "stream",
     "text": [
      "The job S3_GB_49 was saved and received the ID: 913\n",
      "The job S3_GB_50 was saved and received the ID: 914\n"
     ]
    },
    {
     "name": "stderr",
     "output_type": "stream",
     "text": [
      "2023-08-11 18:24:48,413 - pyiron_log - WARNING - No HDF5 file found - remove database entry and create new job! S3_SLAB_50\n"
     ]
    },
    {
     "name": "stdout",
     "output_type": "stream",
     "text": [
      "The job S3_SLAB_50 was saved and received the ID: 915\n"
     ]
    },
    {
     "name": "stderr",
     "output_type": "stream",
     "text": [
      "2023-08-11 18:24:48,928 - pyiron_log - WARNING - No HDF5 file found - remove database entry and create new job! S3_GB_51\n"
     ]
    },
    {
     "name": "stdout",
     "output_type": "stream",
     "text": [
      "The job S3_GB_51 was saved and received the ID: 916\n"
     ]
    },
    {
     "name": "stderr",
     "output_type": "stream",
     "text": [
      "2023-08-11 18:24:49,392 - pyiron_log - WARNING - No HDF5 file found - remove database entry and create new job! S3_SLAB_51\n"
     ]
    },
    {
     "name": "stdout",
     "output_type": "stream",
     "text": [
      "The job S3_SLAB_51 was saved and received the ID: 917\n"
     ]
    },
    {
     "name": "stderr",
     "output_type": "stream",
     "text": [
      "2023-08-11 18:24:49,840 - pyiron_log - WARNING - No HDF5 file found - remove database entry and create new job! S3_GB_52\n"
     ]
    },
    {
     "name": "stdout",
     "output_type": "stream",
     "text": [
      "The job S3_GB_52 was saved and received the ID: 918\n"
     ]
    },
    {
     "name": "stderr",
     "output_type": "stream",
     "text": [
      "2023-08-11 18:24:50,402 - pyiron_log - WARNING - No HDF5 file found - remove database entry and create new job! S3_SLAB_52\n"
     ]
    },
    {
     "name": "stdout",
     "output_type": "stream",
     "text": [
      "The job S3_SLAB_52 was saved and received the ID: 919\n"
     ]
    },
    {
     "name": "stderr",
     "output_type": "stream",
     "text": [
      "2023-08-11 18:24:50,952 - pyiron_log - WARNING - No HDF5 file found - remove database entry and create new job! S3_GB_53\n"
     ]
    },
    {
     "name": "stdout",
     "output_type": "stream",
     "text": [
      "The job S3_GB_53 was saved and received the ID: 920\n"
     ]
    },
    {
     "name": "stderr",
     "output_type": "stream",
     "text": [
      "2023-08-11 18:24:51,591 - pyiron_log - WARNING - No HDF5 file found - remove database entry and create new job! S3_SLAB_53\n"
     ]
    },
    {
     "name": "stdout",
     "output_type": "stream",
     "text": [
      "The job S3_SLAB_53 was saved and received the ID: 921\n"
     ]
    },
    {
     "name": "stderr",
     "output_type": "stream",
     "text": [
      "2023-08-11 18:24:52,201 - pyiron_log - WARNING - No HDF5 file found - remove database entry and create new job! S3_GB_54\n"
     ]
    },
    {
     "name": "stdout",
     "output_type": "stream",
     "text": [
      "The job S3_GB_54 was saved and received the ID: 922\n"
     ]
    },
    {
     "name": "stderr",
     "output_type": "stream",
     "text": [
      "2023-08-11 18:24:52,728 - pyiron_log - WARNING - No HDF5 file found - remove database entry and create new job! S3_SLAB_54\n"
     ]
    },
    {
     "name": "stdout",
     "output_type": "stream",
     "text": [
      "The job S3_SLAB_54 was saved and received the ID: 923\n"
     ]
    },
    {
     "name": "stderr",
     "output_type": "stream",
     "text": [
      "2023-08-11 18:24:53,211 - pyiron_log - WARNING - No HDF5 file found - remove database entry and create new job! S3_GB_55\n"
     ]
    },
    {
     "name": "stdout",
     "output_type": "stream",
     "text": [
      "The job S3_GB_55 was saved and received the ID: 924\n"
     ]
    },
    {
     "name": "stderr",
     "output_type": "stream",
     "text": [
      "2023-08-11 18:24:53,628 - pyiron_log - WARNING - No HDF5 file found - remove database entry and create new job! S3_SLAB_55\n"
     ]
    },
    {
     "name": "stdout",
     "output_type": "stream",
     "text": [
      "The job S3_SLAB_55 was saved and received the ID: 925\n"
     ]
    },
    {
     "name": "stderr",
     "output_type": "stream",
     "text": [
      "2023-08-11 18:24:54,072 - pyiron_log - WARNING - No HDF5 file found - remove database entry and create new job! S3_GB_56\n"
     ]
    },
    {
     "name": "stdout",
     "output_type": "stream",
     "text": [
      "The job S3_GB_56 was saved and received the ID: 926\n"
     ]
    },
    {
     "name": "stderr",
     "output_type": "stream",
     "text": [
      "2023-08-11 18:24:54,862 - pyiron_log - WARNING - No HDF5 file found - remove database entry and create new job! S3_SLAB_56\n"
     ]
    },
    {
     "name": "stdout",
     "output_type": "stream",
     "text": [
      "The job S3_SLAB_56 was saved and received the ID: 927\n"
     ]
    },
    {
     "name": "stderr",
     "output_type": "stream",
     "text": [
      "2023-08-11 18:24:55,657 - pyiron_log - WARNING - No HDF5 file found - remove database entry and create new job! S3_GB_57\n"
     ]
    },
    {
     "name": "stdout",
     "output_type": "stream",
     "text": [
      "The job S3_GB_57 was saved and received the ID: 928\n"
     ]
    },
    {
     "name": "stderr",
     "output_type": "stream",
     "text": [
      "2023-08-11 18:24:56,127 - pyiron_log - WARNING - No HDF5 file found - remove database entry and create new job! S3_SLAB_57\n"
     ]
    },
    {
     "name": "stdout",
     "output_type": "stream",
     "text": [
      "The job S3_SLAB_57 was saved and received the ID: 929\n"
     ]
    },
    {
     "name": "stderr",
     "output_type": "stream",
     "text": [
      "2023-08-11 18:24:56,599 - pyiron_log - WARNING - No HDF5 file found - remove database entry and create new job! S3_GB_58\n"
     ]
    },
    {
     "name": "stdout",
     "output_type": "stream",
     "text": [
      "The job S3_GB_58 was saved and received the ID: 930\n"
     ]
    },
    {
     "name": "stderr",
     "output_type": "stream",
     "text": [
      "2023-08-11 18:24:57,133 - pyiron_log - WARNING - No HDF5 file found - remove database entry and create new job! S3_SLAB_58\n"
     ]
    },
    {
     "name": "stdout",
     "output_type": "stream",
     "text": [
      "The job S3_SLAB_58 was saved and received the ID: 931\n"
     ]
    },
    {
     "name": "stderr",
     "output_type": "stream",
     "text": [
      "2023-08-11 18:24:57,630 - pyiron_log - WARNING - No HDF5 file found - remove database entry and create new job! S3_GB_59\n"
     ]
    },
    {
     "name": "stdout",
     "output_type": "stream",
     "text": [
      "The job S3_GB_59 was saved and received the ID: 932\n"
     ]
    },
    {
     "name": "stderr",
     "output_type": "stream",
     "text": [
      "2023-08-11 18:24:58,891 - pyiron_log - WARNING - No HDF5 file found - remove database entry and create new job! S3_SLAB_59\n"
     ]
    },
    {
     "name": "stdout",
     "output_type": "stream",
     "text": [
      "The job S3_SLAB_59 was saved and received the ID: 933\n"
     ]
    },
    {
     "name": "stderr",
     "output_type": "stream",
     "text": [
      "2023-08-11 18:25:00,164 - pyiron_log - WARNING - No HDF5 file found - remove database entry and create new job! S3_GB_60\n",
      "2023-08-11 18:25:00,308 - pyiron_log - WARNING - No HDF5 file found - remove database entry and create new job! S3_GB_61\n"
     ]
    },
    {
     "name": "stdout",
     "output_type": "stream",
     "text": [
      "The job S3_GB_61 was saved and received the ID: 935\n"
     ]
    },
    {
     "name": "stderr",
     "output_type": "stream",
     "text": [
      "2023-08-11 18:25:00,776 - pyiron_log - WARNING - No HDF5 file found - remove database entry and create new job! S3_SLAB_61\n"
     ]
    },
    {
     "name": "stdout",
     "output_type": "stream",
     "text": [
      "The job S3_SLAB_61 was saved and received the ID: 936\n"
     ]
    },
    {
     "name": "stderr",
     "output_type": "stream",
     "text": [
      "2023-08-11 18:25:01,288 - pyiron_log - WARNING - No HDF5 file found - remove database entry and create new job! S3_GB_62\n"
     ]
    },
    {
     "name": "stdout",
     "output_type": "stream",
     "text": [
      "The job S3_GB_62 was saved and received the ID: 937\n"
     ]
    },
    {
     "name": "stderr",
     "output_type": "stream",
     "text": [
      "2023-08-11 18:25:01,949 - pyiron_log - WARNING - No HDF5 file found - remove database entry and create new job! S3_SLAB_62\n"
     ]
    },
    {
     "name": "stdout",
     "output_type": "stream",
     "text": [
      "The job S3_SLAB_62 was saved and received the ID: 939\n"
     ]
    },
    {
     "name": "stderr",
     "output_type": "stream",
     "text": [
      "2023-08-11 18:25:02,637 - pyiron_log - WARNING - No HDF5 file found - remove database entry and create new job! S3_GB_63\n"
     ]
    },
    {
     "name": "stdout",
     "output_type": "stream",
     "text": [
      "The job S3_GB_63 was saved and received the ID: 941\n"
     ]
    },
    {
     "name": "stderr",
     "output_type": "stream",
     "text": [
      "2023-08-11 18:25:03,243 - pyiron_log - WARNING - No HDF5 file found - remove database entry and create new job! S3_SLAB_63\n"
     ]
    },
    {
     "name": "stdout",
     "output_type": "stream",
     "text": [
      "The job S3_SLAB_63 was saved and received the ID: 942\n"
     ]
    },
    {
     "name": "stderr",
     "output_type": "stream",
     "text": [
      "2023-08-11 18:25:03,913 - pyiron_log - WARNING - No HDF5 file found - remove database entry and create new job! S3_GB_64\n"
     ]
    },
    {
     "name": "stdout",
     "output_type": "stream",
     "text": [
      "The job S3_GB_64 was saved and received the ID: 943\n"
     ]
    },
    {
     "name": "stderr",
     "output_type": "stream",
     "text": [
      "2023-08-11 18:25:05,205 - pyiron_log - WARNING - No HDF5 file found - remove database entry and create new job! S3_SLAB_64\n"
     ]
    },
    {
     "name": "stdout",
     "output_type": "stream",
     "text": [
      "The job S3_SLAB_64 was saved and received the ID: 945\n"
     ]
    },
    {
     "name": "stderr",
     "output_type": "stream",
     "text": [
      "2023-08-11 18:25:06,133 - pyiron_log - WARNING - No HDF5 file found - remove database entry and create new job! S3_GB_65\n"
     ]
    },
    {
     "name": "stdout",
     "output_type": "stream",
     "text": [
      "The job S3_GB_65 was saved and received the ID: 948\n"
     ]
    },
    {
     "name": "stderr",
     "output_type": "stream",
     "text": [
      "2023-08-11 18:25:06,610 - pyiron_log - WARNING - No HDF5 file found - remove database entry and create new job! S3_SLAB_65\n"
     ]
    },
    {
     "name": "stdout",
     "output_type": "stream",
     "text": [
      "The job S3_SLAB_65 was saved and received the ID: 949\n"
     ]
    },
    {
     "name": "stderr",
     "output_type": "stream",
     "text": [
      "2023-08-11 18:25:07,118 - pyiron_log - WARNING - No HDF5 file found - remove database entry and create new job! S3_GB_66\n"
     ]
    },
    {
     "name": "stdout",
     "output_type": "stream",
     "text": [
      "The job S3_GB_66 was saved and received the ID: 950\n"
     ]
    },
    {
     "name": "stderr",
     "output_type": "stream",
     "text": [
      "2023-08-11 18:25:07,572 - pyiron_log - WARNING - No HDF5 file found - remove database entry and create new job! S3_SLAB_66\n"
     ]
    },
    {
     "name": "stdout",
     "output_type": "stream",
     "text": [
      "The job S3_SLAB_66 was saved and received the ID: 951\n"
     ]
    },
    {
     "name": "stderr",
     "output_type": "stream",
     "text": [
      "2023-08-11 18:25:08,032 - pyiron_log - WARNING - No HDF5 file found - remove database entry and create new job! S3_GB_67\n"
     ]
    },
    {
     "name": "stdout",
     "output_type": "stream",
     "text": [
      "The job S3_GB_67 was saved and received the ID: 952\n"
     ]
    },
    {
     "name": "stderr",
     "output_type": "stream",
     "text": [
      "2023-08-11 18:25:08,641 - pyiron_log - WARNING - No HDF5 file found - remove database entry and create new job! S3_SLAB_67\n"
     ]
    },
    {
     "name": "stdout",
     "output_type": "stream",
     "text": [
      "The job S3_SLAB_67 was saved and received the ID: 954\n"
     ]
    },
    {
     "name": "stderr",
     "output_type": "stream",
     "text": [
      "2023-08-11 18:25:09,197 - pyiron_log - WARNING - No HDF5 file found - remove database entry and create new job! S3_GB_68\n",
      "2023-08-11 18:25:09,374 - pyiron_log - WARNING - Job aborted\n",
      "2023-08-11 18:25:09,375 - pyiron_log - WARNING - LAMMPS (28 Mar 2023 - Update 1)\n",
      "Reading data file ...\n",
      "  orthogonal box = (0 0 0) to (4.0048391 6.9365848 19.619625)\n",
      "  1 by 1 by 1 MPI processor grid\n",
      "  reading atoms ...\n",
      "  48 atoms\n",
      "  read_data CPU = 0.000 seconds\n",
      "ERROR: KIM ModelCreate failed (src/KIM/pair_kim.cpp:828)\n",
      "Last command: pair_style kim EAM_Dynamo_AcklandBaconCalder_1997_Fe__MO_142799717516_005\n",
      "\n",
      "2023-08-11 18:25:09,388 - pyiron_log - WARNING - No HDF5 file found - remove database entry and create new job! S3_GB_69\n"
     ]
    },
    {
     "name": "stdout",
     "output_type": "stream",
     "text": [
      "The job S3_GB_68 was saved and received the ID: 955\n",
      "The job S3_GB_69 was saved and received the ID: 956\n"
     ]
    },
    {
     "name": "stderr",
     "output_type": "stream",
     "text": [
      "2023-08-11 18:25:09,580 - pyiron_log - WARNING - Job aborted\n",
      "2023-08-11 18:25:09,581 - pyiron_log - WARNING - LAMMPS (28 Mar 2023 - Update 1)\n",
      "Reading data file ...\n",
      "  orthogonal box = (0 0 0) to (4.0048391 6.9365848 19.619625)\n",
      "  1 by 1 by 1 MPI processor grid\n",
      "  reading atoms ...\n",
      "  48 atoms\n",
      "  read_data CPU = 0.000 seconds\n",
      "ERROR: KIM ModelCreate failed (src/KIM/pair_kim.cpp:828)\n",
      "Last command: pair_style kim EAM_Dynamo_AcklandMendelevSrolovitz_2004_FeP__MO_884343146310_005\n",
      "\n",
      "2023-08-11 18:25:09,593 - pyiron_log - WARNING - No HDF5 file found - remove database entry and create new job! S3_GB_70\n",
      "2023-08-11 18:25:09,775 - pyiron_log - WARNING - Job aborted\n",
      "2023-08-11 18:25:09,776 - pyiron_log - WARNING - LAMMPS (28 Mar 2023 - Update 1)\n",
      "Reading data file ...\n",
      "  orthogonal box = (0 0 0) to (4.0048391 6.9365848 19.619625)\n",
      "  1 by 1 by 1 MPI processor grid\n",
      "  reading atoms ...\n",
      "  48 atoms\n",
      "  read_data CPU = 0.000 seconds\n",
      "ERROR: KIM ModelCreate failed (src/KIM/pair_kim.cpp:828)\n",
      "Last command: pair_style kim EAM_Dynamo_BonnyCastinBullens_2013_FeW__MO_737567242631_000\n",
      "\n",
      "2023-08-11 18:25:09,788 - pyiron_log - WARNING - No HDF5 file found - remove database entry and create new job! S3_GB_71\n"
     ]
    },
    {
     "name": "stdout",
     "output_type": "stream",
     "text": [
      "The job S3_GB_70 was saved and received the ID: 957\n",
      "The job S3_GB_71 was saved and received the ID: 958\n"
     ]
    },
    {
     "name": "stderr",
     "output_type": "stream",
     "text": [
      "2023-08-11 18:25:09,964 - pyiron_log - WARNING - Job aborted\n",
      "2023-08-11 18:25:09,966 - pyiron_log - WARNING - LAMMPS (28 Mar 2023 - Update 1)\n",
      "Reading data file ...\n",
      "  orthogonal box = (0 0 0) to (4.0048391 6.9365848 19.619625)\n",
      "  1 by 1 by 1 MPI processor grid\n",
      "  reading atoms ...\n",
      "  48 atoms\n",
      "  read_data CPU = 0.000 seconds\n",
      "ERROR: KIM ModelCreate failed (src/KIM/pair_kim.cpp:828)\n",
      "Last command: pair_style kim EAM_Dynamo_BonnyCastinTerentyev_2013_FeNiCr__MO_763197941039_000\n",
      "\n",
      "2023-08-11 18:25:09,980 - pyiron_log - WARNING - No HDF5 file found - remove database entry and create new job! S3_GB_72\n",
      "2023-08-11 18:25:10,168 - pyiron_log - WARNING - Job aborted\n",
      "2023-08-11 18:25:10,169 - pyiron_log - WARNING - LAMMPS (28 Mar 2023 - Update 1)\n",
      "Reading data file ...\n",
      "  orthogonal box = (0 0 0) to (4.0048391 6.9365848 19.619625)\n",
      "  1 by 1 by 1 MPI processor grid\n",
      "  reading atoms ...\n",
      "  48 atoms\n",
      "  read_data CPU = 0.000 seconds\n",
      "ERROR: KIM ModelCreate failed (src/KIM/pair_kim.cpp:828)\n",
      "Last command: pair_style kim EAM_Dynamo_BonnyPasianotCastin_2009_FeCuNi__MO_469343973171_005\n",
      "\n",
      "2023-08-11 18:25:10,183 - pyiron_log - WARNING - No HDF5 file found - remove database entry and create new job! S3_GB_73\n"
     ]
    },
    {
     "name": "stdout",
     "output_type": "stream",
     "text": [
      "The job S3_GB_72 was saved and received the ID: 959\n"
     ]
    },
    {
     "name": "stderr",
     "output_type": "stream",
     "text": [
      "2023-08-11 18:25:10,388 - pyiron_log - WARNING - Job aborted\n",
      "2023-08-11 18:25:10,389 - pyiron_log - WARNING - LAMMPS (28 Mar 2023 - Update 1)\n",
      "Reading data file ...\n",
      "  orthogonal box = (0 0 0) to (4.0048391 6.9365848 19.619625)\n",
      "  1 by 1 by 1 MPI processor grid\n",
      "  reading atoms ...\n",
      "  48 atoms\n",
      "  read_data CPU = 0.005 seconds\n",
      "ERROR: KIM ModelCreate failed (src/KIM/pair_kim.cpp:828)\n",
      "Last command: pair_style kim EAM_Dynamo_BonnyPasianotMalerba_2009_FeNi__MO_267721408934_005\n",
      "\n",
      "2023-08-11 18:25:10,403 - pyiron_log - WARNING - No HDF5 file found - remove database entry and create new job! S3_GB_74\n"
     ]
    },
    {
     "name": "stdout",
     "output_type": "stream",
     "text": [
      "The job S3_GB_73 was saved and received the ID: 960\n",
      "The job S3_GB_74 was saved and received the ID: 961\n"
     ]
    },
    {
     "name": "stderr",
     "output_type": "stream",
     "text": [
      "2023-08-11 18:25:10,557 - pyiron_log - WARNING - Job aborted\n",
      "2023-08-11 18:25:10,558 - pyiron_log - WARNING - LAMMPS (28 Mar 2023 - Update 1)\n",
      "Reading data file ...\n",
      "  orthogonal box = (0 0 0) to (4.0048391 6.9365848 19.619625)\n",
      "  1 by 1 by 1 MPI processor grid\n",
      "  reading atoms ...\n",
      "  48 atoms\n",
      "  read_data CPU = 0.000 seconds\n",
      "ERROR: KIM ModelCreate failed (src/KIM/pair_kim.cpp:828)\n",
      "Last command: pair_style kim EAM_Dynamo_ChamatiPapanicolaouMishin_2006_Fe__MO_960699513424_000\n",
      "\n",
      "2023-08-11 18:25:10,572 - pyiron_log - WARNING - No HDF5 file found - remove database entry and create new job! S3_GB_75\n",
      "2023-08-11 18:25:10,739 - pyiron_log - WARNING - Job aborted\n",
      "2023-08-11 18:25:10,741 - pyiron_log - WARNING - LAMMPS (28 Mar 2023 - Update 1)\n",
      "Reading data file ...\n",
      "  orthogonal box = (0 0 0) to (4.0048391 6.9365848 19.619625)\n",
      "  1 by 1 by 1 MPI processor grid\n",
      "  reading atoms ...\n",
      "  48 atoms\n",
      "  read_data CPU = 0.000 seconds\n",
      "ERROR: KIM ModelCreate failed (src/KIM/pair_kim.cpp:828)\n",
      "Last command: pair_style kim EAM_Dynamo_HepburnAckland_2008_FeC__MO_143977152728_005\n",
      "\n",
      "2023-08-11 18:25:10,755 - pyiron_log - WARNING - No HDF5 file found - remove database entry and create new job! S3_GB_76\n"
     ]
    },
    {
     "name": "stdout",
     "output_type": "stream",
     "text": [
      "The job S3_GB_75 was saved and received the ID: 962\n"
     ]
    },
    {
     "name": "stderr",
     "output_type": "stream",
     "text": [
      "2023-08-11 18:25:10,996 - pyiron_log - WARNING - Job aborted\n",
      "2023-08-11 18:25:10,997 - pyiron_log - WARNING - LAMMPS (28 Mar 2023 - Update 1)\n",
      "Reading data file ...\n",
      "  orthogonal box = (0 0 0) to (4.0048391 6.9365848 19.619625)\n",
      "  1 by 1 by 1 MPI processor grid\n",
      "  reading atoms ...\n",
      "  48 atoms\n",
      "  read_data CPU = 0.000 seconds\n",
      "ERROR: KIM ModelCreate failed (src/KIM/pair_kim.cpp:828)\n",
      "Last command: pair_style kim EAM_Dynamo_Marinica_2007_Fe__MO_466808877130_000\n",
      "\n",
      "2023-08-11 18:25:11,013 - pyiron_log - WARNING - No HDF5 file found - remove database entry and create new job! S3_GB_77\n"
     ]
    },
    {
     "name": "stdout",
     "output_type": "stream",
     "text": [
      "The job S3_GB_76 was saved and received the ID: 963\n"
     ]
    },
    {
     "name": "stderr",
     "output_type": "stream",
     "text": [
      "2023-08-11 18:25:11,254 - pyiron_log - WARNING - Job aborted\n",
      "2023-08-11 18:25:11,255 - pyiron_log - WARNING - LAMMPS (28 Mar 2023 - Update 1)\n",
      "Reading data file ...\n",
      "  orthogonal box = (0 0 0) to (4.0048391 6.9365848 19.619625)\n",
      "  1 by 1 by 1 MPI processor grid\n",
      "  reading atoms ...\n",
      "  48 atoms\n",
      "  read_data CPU = 0.000 seconds\n",
      "ERROR: KIM ModelCreate failed (src/KIM/pair_kim.cpp:828)\n",
      "Last command: pair_style kim EAM_Dynamo_Marinica_2011_Fe__MO_255315407910_000\n",
      "\n",
      "2023-08-11 18:25:11,268 - pyiron_log - WARNING - No HDF5 file found - remove database entry and create new job! S3_GB_78\n"
     ]
    },
    {
     "name": "stdout",
     "output_type": "stream",
     "text": [
      "The job S3_GB_77 was saved and received the ID: 965\n"
     ]
    },
    {
     "name": "stderr",
     "output_type": "stream",
     "text": [
      "2023-08-11 18:25:11,483 - pyiron_log - WARNING - Job aborted\n",
      "2023-08-11 18:25:11,485 - pyiron_log - WARNING - LAMMPS (28 Mar 2023 - Update 1)\n",
      "Reading data file ...\n",
      "  orthogonal box = (0 0 0) to (4.0048391 6.9365848 19.619625)\n",
      "  1 by 1 by 1 MPI processor grid\n",
      "  reading atoms ...\n",
      "  48 atoms\n",
      "  read_data CPU = 0.000 seconds\n",
      "ERROR: KIM ModelCreate failed (src/KIM/pair_kim.cpp:828)\n",
      "Last command: pair_style kim EAM_Dynamo_MendelevBorovikov_2020_FeNiCr__MO_922363340570_000\n",
      "\n",
      "2023-08-11 18:25:11,498 - pyiron_log - WARNING - No HDF5 file found - remove database entry and create new job! S3_GB_79\n"
     ]
    },
    {
     "name": "stdout",
     "output_type": "stream",
     "text": [
      "The job S3_GB_78 was saved and received the ID: 966\n",
      "The job S3_GB_79 was saved and received the ID: 967\n"
     ]
    },
    {
     "name": "stderr",
     "output_type": "stream",
     "text": [
      "2023-08-11 18:25:11,680 - pyiron_log - WARNING - Job aborted\n",
      "2023-08-11 18:25:11,683 - pyiron_log - WARNING - LAMMPS (28 Mar 2023 - Update 1)\n",
      "Reading data file ...\n",
      "  orthogonal box = (0 0 0) to (4.0048391 6.9365848 19.619625)\n",
      "  1 by 1 by 1 MPI processor grid\n",
      "  reading atoms ...\n",
      "  48 atoms\n",
      "  read_data CPU = 0.000 seconds\n",
      "ERROR: KIM ModelCreate failed (src/KIM/pair_kim.cpp:828)\n",
      "Last command: pair_style kim EAM_Dynamo_MendelevHanSon_2007_VFe__MO_249706810527_005\n",
      "\n",
      "2023-08-11 18:25:11,744 - pyiron_log - WARNING - No HDF5 file found - remove database entry and create new job! S3_GB_80\n",
      "2023-08-11 18:25:11,990 - pyiron_log - WARNING - Job aborted\n",
      "2023-08-11 18:25:11,991 - pyiron_log - WARNING - LAMMPS (28 Mar 2023 - Update 1)\n",
      "Reading data file ...\n",
      "  orthogonal box = (0 0 0) to (4.0048391 6.9365848 19.619625)\n",
      "  1 by 1 by 1 MPI processor grid\n",
      "  reading atoms ...\n",
      "  48 atoms\n",
      "  read_data CPU = 0.000 seconds\n",
      "ERROR: KIM ModelCreate failed (src/KIM/pair_kim.cpp:828)\n",
      "Last command: pair_style kim EAM_Dynamo_MendelevHanSrolovitz_2003Potential2_Fe__MO_769582363439_005\n",
      "\n",
      "2023-08-11 18:25:12,004 - pyiron_log - WARNING - No HDF5 file found - remove database entry and create new job! S3_GB_81\n"
     ]
    },
    {
     "name": "stdout",
     "output_type": "stream",
     "text": [
      "The job S3_GB_80 was saved and received the ID: 969\n"
     ]
    },
    {
     "name": "stderr",
     "output_type": "stream",
     "text": [
      "2023-08-11 18:25:12,254 - pyiron_log - WARNING - Job aborted\n",
      "2023-08-11 18:25:12,255 - pyiron_log - WARNING - LAMMPS (28 Mar 2023 - Update 1)\n",
      "Reading data file ...\n",
      "  orthogonal box = (0 0 0) to (4.0048391 6.9365848 19.619625)\n",
      "  1 by 1 by 1 MPI processor grid\n",
      "  reading atoms ...\n",
      "  48 atoms\n",
      "  read_data CPU = 0.000 seconds\n",
      "ERROR: KIM ModelCreate failed (src/KIM/pair_kim.cpp:828)\n",
      "Last command: pair_style kim EAM_Dynamo_MendelevHanSrolovitz_2003Potential5_Fe__MO_942420706858_005\n",
      "\n",
      "2023-08-11 18:25:12,270 - pyiron_log - WARNING - No HDF5 file found - remove database entry and create new job! S3_GB_82\n"
     ]
    },
    {
     "name": "stdout",
     "output_type": "stream",
     "text": [
      "The job S3_GB_81 was saved and received the ID: 970\n"
     ]
    },
    {
     "name": "stderr",
     "output_type": "stream",
     "text": [
      "2023-08-11 18:25:12,452 - pyiron_log - WARNING - Job aborted\n",
      "2023-08-11 18:25:12,453 - pyiron_log - WARNING - LAMMPS (28 Mar 2023 - Update 1)\n",
      "Reading data file ...\n",
      "  orthogonal box = (0 0 0) to (4.0048391 6.9365848 19.619625)\n",
      "  1 by 1 by 1 MPI processor grid\n",
      "  reading atoms ...\n",
      "  48 atoms\n",
      "  read_data CPU = 0.000 seconds\n",
      "ERROR: KIM ModelCreate failed (src/KIM/pair_kim.cpp:828)\n",
      "Last command: pair_style kim EAM_Dynamo_MendelevHanSrolovitz_2003_Fe__MO_807997826449_000\n",
      "\n",
      "2023-08-11 18:25:12,465 - pyiron_log - WARNING - No HDF5 file found - remove database entry and create new job! S3_GB_83\n"
     ]
    },
    {
     "name": "stdout",
     "output_type": "stream",
     "text": [
      "The job S3_GB_82 was saved and received the ID: 971\n"
     ]
    },
    {
     "name": "stderr",
     "output_type": "stream",
     "text": [
      "2023-08-11 18:25:12,759 - pyiron_log - WARNING - Job aborted\n",
      "2023-08-11 18:25:12,760 - pyiron_log - WARNING - LAMMPS (28 Mar 2023 - Update 1)\n",
      "Reading data file ...\n",
      "  orthogonal box = (0 0 0) to (4.0048391 6.9365848 19.619625)\n",
      "  1 by 1 by 1 MPI processor grid\n",
      "  reading atoms ...\n",
      "  48 atoms\n",
      "  read_data CPU = 0.000 seconds\n",
      "ERROR: KIM ModelCreate failed (src/KIM/pair_kim.cpp:828)\n",
      "Last command: pair_style kim EAM_Dynamo_MendelevSrolovitzAckland_2005_AlFe__MO_577453891941_005\n",
      "\n",
      "2023-08-11 18:25:12,774 - pyiron_log - WARNING - No HDF5 file found - remove database entry and create new job! S3_GB_84\n"
     ]
    },
    {
     "name": "stdout",
     "output_type": "stream",
     "text": [
      "The job S3_GB_83 was saved and received the ID: 973\n"
     ]
    },
    {
     "name": "stderr",
     "output_type": "stream",
     "text": [
      "2023-08-11 18:25:12,979 - pyiron_log - WARNING - Job aborted\n",
      "2023-08-11 18:25:12,980 - pyiron_log - WARNING - LAMMPS (28 Mar 2023 - Update 1)\n",
      "Reading data file ...\n",
      "  orthogonal box = (0 0 0) to (4.0048391 6.9365848 19.619625)\n",
      "  1 by 1 by 1 MPI processor grid\n",
      "  reading atoms ...\n",
      "  48 atoms\n",
      "  read_data CPU = 0.000 seconds\n",
      "ERROR: KIM ModelCreate failed (src/KIM/pair_kim.cpp:828)\n",
      "Last command: pair_style kim EAM_Dynamo_Mendelev_2003_Fe__MO_546673549085_000\n",
      "\n",
      "2023-08-11 18:25:13,009 - pyiron_log - WARNING - No HDF5 file found - remove database entry and create new job! S3_GB_85\n"
     ]
    },
    {
     "name": "stdout",
     "output_type": "stream",
     "text": [
      "The job S3_GB_84 was saved and received the ID: 974\n"
     ]
    },
    {
     "name": "stderr",
     "output_type": "stream",
     "text": [
      "2023-08-11 18:25:13,258 - pyiron_log - WARNING - Job aborted\n",
      "2023-08-11 18:25:13,259 - pyiron_log - WARNING - LAMMPS (28 Mar 2023 - Update 1)\n",
      "Reading data file ...\n",
      "  orthogonal box = (0 0 0) to (4.0048391 6.9365848 19.619625)\n",
      "  1 by 1 by 1 MPI processor grid\n",
      "  reading atoms ...\n",
      "  48 atoms\n",
      "  read_data CPU = 0.000 seconds\n",
      "ERROR: KIM ModelCreate failed (src/KIM/pair_kim.cpp:828)\n",
      "Last command: pair_style kim EAM_Dynamo_ZhouJohnsonWadley_2004NISTretabulation_Fe__MO_681088298208_000\n",
      "\n",
      "2023-08-11 18:25:13,297 - pyiron_log - WARNING - No HDF5 file found - remove database entry and create new job! S3_GB_86\n"
     ]
    },
    {
     "name": "stdout",
     "output_type": "stream",
     "text": [
      "The job S3_GB_85 was saved and received the ID: 975\n"
     ]
    },
    {
     "name": "stderr",
     "output_type": "stream",
     "text": [
      "2023-08-11 18:25:13,542 - pyiron_log - WARNING - Job aborted\n",
      "2023-08-11 18:25:13,543 - pyiron_log - WARNING - LAMMPS (28 Mar 2023 - Update 1)\n",
      "Reading data file ...\n",
      "  orthogonal box = (0 0 0) to (4.0048391 6.9365848 19.619625)\n",
      "  1 by 1 by 1 MPI processor grid\n",
      "  reading atoms ...\n",
      "  48 atoms\n",
      "  read_data CPU = 0.000 seconds\n",
      "ERROR: KIM ModelCreate failed (src/KIM/pair_kim.cpp:828)\n",
      "Last command: pair_style kim EAM_Dynamo_ZhouJohnsonWadley_2004_Fe__MO_650279905230_005\n",
      "\n",
      "2023-08-11 18:25:13,556 - pyiron_log - WARNING - No HDF5 file found - remove database entry and create new job! S3_GB_87\n"
     ]
    },
    {
     "name": "stdout",
     "output_type": "stream",
     "text": [
      "The job S3_GB_86 was saved and received the ID: 977\n"
     ]
    },
    {
     "name": "stderr",
     "output_type": "stream",
     "text": [
      "2023-08-11 18:25:13,854 - pyiron_log - WARNING - Job aborted\n",
      "2023-08-11 18:25:13,855 - pyiron_log - WARNING - LAMMPS (28 Mar 2023 - Update 1)\n",
      "Reading data file ...\n",
      "  orthogonal box = (0 0 0) to (4.0048391 6.9365848 19.619625)\n",
      "  1 by 1 by 1 MPI processor grid\n",
      "  reading atoms ...\n",
      "  48 atoms\n",
      "  read_data CPU = 0.000 seconds\n",
      "ERROR: KIM ModelCreate failed (src/KIM/pair_kim.cpp:828)\n",
      "Last command: pair_style kim EAM_Magnetic2GQuintic_ChiesaDerletDudarev_2011_Fe__MO_140444321607_002\n",
      "\n",
      "2023-08-11 18:25:13,869 - pyiron_log - WARNING - No HDF5 file found - remove database entry and create new job! S3_GB_88\n"
     ]
    },
    {
     "name": "stdout",
     "output_type": "stream",
     "text": [
      "The job S3_GB_87 was saved and received the ID: 978\n"
     ]
    },
    {
     "name": "stderr",
     "output_type": "stream",
     "text": [
      "2023-08-11 18:25:14,176 - pyiron_log - WARNING - Job aborted\n",
      "2023-08-11 18:25:14,177 - pyiron_log - WARNING - LAMMPS (28 Mar 2023 - Update 1)\n",
      "Reading data file ...\n",
      "  orthogonal box = (0 0 0) to (4.0048391 6.9365848 19.619625)\n",
      "  1 by 1 by 1 MPI processor grid\n",
      "  reading atoms ...\n",
      "  48 atoms\n",
      "  read_data CPU = 0.000 seconds\n",
      "ERROR: KIM ModelCreate failed (src/KIM/pair_kim.cpp:828)\n",
      "Last command: pair_style kim EAM_MagneticCubic_DudarevDerlet_2005_Fe__MO_135034229282_002\n",
      "\n",
      "2023-08-11 18:25:14,205 - pyiron_log - WARNING - No HDF5 file found - remove database entry and create new job! S3_GB_89\n"
     ]
    },
    {
     "name": "stdout",
     "output_type": "stream",
     "text": [
      "The job S3_GB_88 was saved and received the ID: 979\n"
     ]
    },
    {
     "name": "stderr",
     "output_type": "stream",
     "text": [
      "2023-08-11 18:25:14,482 - pyiron_log - WARNING - Job aborted\n",
      "2023-08-11 18:25:14,486 - pyiron_log - WARNING - LAMMPS (28 Mar 2023 - Update 1)\n",
      "Reading data file ...\n",
      "  orthogonal box = (0 0 0) to (4.0048391 6.9365848 19.619625)\n",
      "  1 by 1 by 1 MPI processor grid\n",
      "  reading atoms ...\n",
      "  48 atoms\n",
      "  read_data CPU = 0.000 seconds\n",
      "ERROR: KIM ModelCreate failed (src/KIM/pair_kim.cpp:828)\n",
      "Last command: pair_style kim EAM_MagneticCubic_MendelevHanSrolovitz_2003_Fe__MO_856295952425_002\n",
      "\n",
      "2023-08-11 18:25:14,535 - pyiron_log - WARNING - No HDF5 file found - remove database entry and create new job! S3_GB_90\n"
     ]
    },
    {
     "name": "stdout",
     "output_type": "stream",
     "text": [
      "The job S3_GB_89 was saved and received the ID: 981\n"
     ]
    },
    {
     "name": "stderr",
     "output_type": "stream",
     "text": [
      "2023-08-11 18:25:14,840 - pyiron_log - WARNING - Job aborted\n",
      "2023-08-11 18:25:14,841 - pyiron_log - WARNING - LAMMPS (28 Mar 2023 - Update 1)\n",
      "Reading data file ...\n",
      "  orthogonal box = (0 0 0) to (4.0048391 6.9365848 19.619625)\n",
      "  1 by 1 by 1 MPI processor grid\n",
      "  reading atoms ...\n",
      "  48 atoms\n",
      "  read_data CPU = 0.000 seconds\n",
      "ERROR: KIM ModelCreate failed (src/KIM/pair_kim.cpp:828)\n",
      "Last command: pair_style kim MEAM_LAMMPS_AsadiZaeemNouranian_2015_Fe__MO_492310898779_000\n",
      "\n",
      "2023-08-11 18:25:14,856 - pyiron_log - WARNING - No HDF5 file found - remove database entry and create new job! S3_GB_91\n"
     ]
    },
    {
     "name": "stdout",
     "output_type": "stream",
     "text": [
      "The job S3_GB_90 was saved and received the ID: 983\n"
     ]
    },
    {
     "name": "stderr",
     "output_type": "stream",
     "text": [
      "2023-08-11 18:25:15,161 - pyiron_log - WARNING - Job aborted\n",
      "2023-08-11 18:25:15,162 - pyiron_log - WARNING - LAMMPS (28 Mar 2023 - Update 1)\n",
      "Reading data file ...\n",
      "  orthogonal box = (0 0 0) to (4.0048391 6.9365848 19.619625)\n",
      "  1 by 1 by 1 MPI processor grid\n",
      "  reading atoms ...\n",
      "  48 atoms\n",
      "  read_data CPU = 0.000 seconds\n",
      "ERROR: KIM ModelCreate failed (src/KIM/pair_kim.cpp:828)\n",
      "Last command: pair_style kim MEAM_LAMMPS_ChoiJoSohn_2018_CoNiCrFeMn__MO_115454747503_000\n",
      "\n",
      "2023-08-11 18:25:15,186 - pyiron_log - WARNING - No HDF5 file found - remove database entry and create new job! S3_GB_92\n"
     ]
    },
    {
     "name": "stdout",
     "output_type": "stream",
     "text": [
      "The job S3_GB_91 was saved and received the ID: 984\n"
     ]
    },
    {
     "name": "stderr",
     "output_type": "stream",
     "text": [
      "2023-08-11 18:25:15,497 - pyiron_log - WARNING - Job aborted\n",
      "2023-08-11 18:25:15,499 - pyiron_log - WARNING - LAMMPS (28 Mar 2023 - Update 1)\n",
      "Reading data file ...\n",
      "  orthogonal box = (0 0 0) to (4.0048391 6.9365848 19.619625)\n",
      "  1 by 1 by 1 MPI processor grid\n",
      "  reading atoms ...\n",
      "  48 atoms\n",
      "  read_data CPU = 0.000 seconds\n",
      "ERROR: KIM ModelCreate failed (src/KIM/pair_kim.cpp:828)\n",
      "Last command: pair_style kim MEAM_LAMMPS_ChoiKimSeol_2017_CoFe__MO_179158257180_000\n",
      "\n",
      "2023-08-11 18:25:15,521 - pyiron_log - WARNING - No HDF5 file found - remove database entry and create new job! S3_GB_93\n"
     ]
    },
    {
     "name": "stdout",
     "output_type": "stream",
     "text": [
      "The job S3_GB_92 was saved and received the ID: 986\n"
     ]
    },
    {
     "name": "stderr",
     "output_type": "stream",
     "text": [
      "2023-08-11 18:25:15,834 - pyiron_log - WARNING - Job aborted\n",
      "2023-08-11 18:25:15,835 - pyiron_log - WARNING - LAMMPS (28 Mar 2023 - Update 1)\n",
      "Reading data file ...\n",
      "  orthogonal box = (0 0 0) to (4.0048391 6.9365848 19.619625)\n",
      "  1 by 1 by 1 MPI processor grid\n",
      "  reading atoms ...\n",
      "  48 atoms\n",
      "  read_data CPU = 0.001 seconds\n",
      "ERROR: KIM ModelCreate failed (src/KIM/pair_kim.cpp:828)\n",
      "Last command: pair_style kim MEAM_LAMMPS_EtesamiAsadi_2018_Fe__MO_549900287421_000\n",
      "\n",
      "2023-08-11 18:25:15,852 - pyiron_log - WARNING - No HDF5 file found - remove database entry and create new job! S3_GB_94\n"
     ]
    },
    {
     "name": "stdout",
     "output_type": "stream",
     "text": [
      "The job S3_GB_93 was saved and received the ID: 988\n"
     ]
    },
    {
     "name": "stderr",
     "output_type": "stream",
     "text": [
      "2023-08-11 18:25:16,105 - pyiron_log - WARNING - Job aborted\n",
      "2023-08-11 18:25:16,106 - pyiron_log - WARNING - LAMMPS (28 Mar 2023 - Update 1)\n",
      "Reading data file ...\n",
      "  orthogonal box = (0 0 0) to (4.0048391 6.9365848 19.619625)\n",
      "  1 by 1 by 1 MPI processor grid\n",
      "  reading atoms ...\n",
      "  48 atoms\n",
      "  read_data CPU = 0.000 seconds\n",
      "ERROR: KIM ModelCreate failed (src/KIM/pair_kim.cpp:828)\n",
      "Last command: pair_style kim MEAM_LAMMPS_JelinekGrohHorstemeyer_2012_AlSiMgCuFe__MO_262519520678_000\n",
      "\n",
      "2023-08-11 18:25:16,133 - pyiron_log - WARNING - No HDF5 file found - remove database entry and create new job! S3_GB_95\n"
     ]
    },
    {
     "name": "stdout",
     "output_type": "stream",
     "text": [
      "The job S3_GB_94 was saved and received the ID: 989\n"
     ]
    },
    {
     "name": "stderr",
     "output_type": "stream",
     "text": [
      "2023-08-11 18:25:16,423 - pyiron_log - WARNING - Job aborted\n",
      "2023-08-11 18:25:16,425 - pyiron_log - WARNING - LAMMPS (28 Mar 2023 - Update 1)\n",
      "Reading data file ...\n",
      "  orthogonal box = (0 0 0) to (4.0048391 6.9365848 19.619625)\n",
      "  1 by 1 by 1 MPI processor grid\n",
      "  reading atoms ...\n",
      "  48 atoms\n",
      "  read_data CPU = 0.000 seconds\n",
      "ERROR: KIM ModelCreate failed (src/KIM/pair_kim.cpp:828)\n",
      "Last command: pair_style kim MEAM_LAMMPS_JeongParkDo_2018_PdFe__MO_924736622203_000\n",
      "\n",
      "2023-08-11 18:25:16,443 - pyiron_log - WARNING - No HDF5 file found - remove database entry and create new job! S3_GB_96\n"
     ]
    },
    {
     "name": "stdout",
     "output_type": "stream",
     "text": [
      "The job S3_GB_95 was saved and received the ID: 991\n"
     ]
    },
    {
     "name": "stderr",
     "output_type": "stream",
     "text": [
      "2023-08-11 18:25:16,701 - pyiron_log - WARNING - Job aborted\n",
      "2023-08-11 18:25:16,703 - pyiron_log - WARNING - LAMMPS (28 Mar 2023 - Update 1)\n",
      "Reading data file ...\n",
      "  orthogonal box = (0 0 0) to (4.0048391 6.9365848 19.619625)\n",
      "  1 by 1 by 1 MPI processor grid\n",
      "  reading atoms ...\n",
      "  48 atoms\n",
      "  read_data CPU = 0.000 seconds\n",
      "ERROR: KIM ModelCreate failed (src/KIM/pair_kim.cpp:828)\n",
      "Last command: pair_style kim MEAM_LAMMPS_KimJungLee_2009_FeTiC__MO_110119204723_000\n",
      "\n",
      "2023-08-11 18:25:16,717 - pyiron_log - WARNING - No HDF5 file found - remove database entry and create new job! S3_GB_97\n"
     ]
    },
    {
     "name": "stdout",
     "output_type": "stream",
     "text": [
      "The job S3_GB_96 was saved and received the ID: 992\n"
     ]
    },
    {
     "name": "stderr",
     "output_type": "stream",
     "text": [
      "2023-08-11 18:25:17,001 - pyiron_log - WARNING - Job aborted\n",
      "2023-08-11 18:25:17,003 - pyiron_log - WARNING - LAMMPS (28 Mar 2023 - Update 1)\n",
      "Reading data file ...\n",
      "  orthogonal box = (0 0 0) to (4.0048391 6.9365848 19.619625)\n",
      "  1 by 1 by 1 MPI processor grid\n",
      "  reading atoms ...\n",
      "  48 atoms\n",
      "  read_data CPU = 0.001 seconds\n",
      "ERROR: KIM ModelCreate failed (src/KIM/pair_kim.cpp:828)\n",
      "Last command: pair_style kim MEAM_LAMMPS_KimJungLee_2010_FeNbC__MO_072689718616_000\n",
      "\n",
      "2023-08-11 18:25:17,025 - pyiron_log - WARNING - No HDF5 file found - remove database entry and create new job! S3_GB_98\n"
     ]
    },
    {
     "name": "stdout",
     "output_type": "stream",
     "text": [
      "The job S3_GB_97 was saved and received the ID: 993\n"
     ]
    },
    {
     "name": "stderr",
     "output_type": "stream",
     "text": [
      "2023-08-11 18:25:17,266 - pyiron_log - WARNING - Job aborted\n",
      "2023-08-11 18:25:17,267 - pyiron_log - WARNING - LAMMPS (28 Mar 2023 - Update 1)\n",
      "Reading data file ...\n",
      "  orthogonal box = (0 0 0) to (4.0048391 6.9365848 19.619625)\n",
      "  1 by 1 by 1 MPI processor grid\n",
      "  reading atoms ...\n",
      "  48 atoms\n",
      "  read_data CPU = 0.003 seconds\n",
      "ERROR: KIM ModelCreate failed (src/KIM/pair_kim.cpp:828)\n",
      "Last command: pair_style kim MEAM_LAMMPS_KimLee_2006_PtFe__MO_343168101490_000\n",
      "\n",
      "2023-08-11 18:25:17,281 - pyiron_log - WARNING - No HDF5 file found - remove database entry and create new job! S3_GB_99\n"
     ]
    },
    {
     "name": "stdout",
     "output_type": "stream",
     "text": [
      "The job S3_GB_98 was saved and received the ID: 994\n"
     ]
    },
    {
     "name": "stderr",
     "output_type": "stream",
     "text": [
      "2023-08-11 18:25:17,505 - pyiron_log - WARNING - Job aborted\n",
      "2023-08-11 18:25:17,506 - pyiron_log - WARNING - LAMMPS (28 Mar 2023 - Update 1)\n",
      "Reading data file ...\n",
      "  orthogonal box = (0 0 0) to (4.0048391 6.9365848 19.619625)\n",
      "  1 by 1 by 1 MPI processor grid\n",
      "  reading atoms ...\n",
      "  48 atoms\n",
      "  read_data CPU = 0.000 seconds\n",
      "ERROR: KIM ModelCreate failed (src/KIM/pair_kim.cpp:828)\n",
      "Last command: pair_style kim MEAM_LAMMPS_KimShinLee_2009_FeMn__MO_058735400462_000\n",
      "\n",
      "2023-08-11 18:25:17,523 - pyiron_log - WARNING - No HDF5 file found - remove database entry and create new job! S3_GB_100\n"
     ]
    },
    {
     "name": "stdout",
     "output_type": "stream",
     "text": [
      "The job S3_GB_99 was saved and received the ID: 995\n"
     ]
    },
    {
     "name": "stderr",
     "output_type": "stream",
     "text": [
      "2023-08-11 18:25:17,807 - pyiron_log - WARNING - Job aborted\n",
      "2023-08-11 18:25:17,807 - pyiron_log - WARNING - LAMMPS (28 Mar 2023 - Update 1)\n",
      "Reading data file ...\n",
      "  orthogonal box = (0 0 0) to (4.0048391 6.9365848 19.619625)\n",
      "  1 by 1 by 1 MPI processor grid\n",
      "  reading atoms ...\n",
      "  48 atoms\n",
      "  read_data CPU = 0.000 seconds\n",
      "ERROR: KIM ModelCreate failed (src/KIM/pair_kim.cpp:828)\n",
      "Last command: pair_style kim MEAM_LAMMPS_KoJimLee_2012_FeP__MO_179420363944_000\n",
      "\n",
      "2023-08-11 18:25:17,821 - pyiron_log - WARNING - No HDF5 file found - remove database entry and create new job! S3_GB_101\n"
     ]
    },
    {
     "name": "stdout",
     "output_type": "stream",
     "text": [
      "The job S3_GB_100 was saved and received the ID: 997\n"
     ]
    },
    {
     "name": "stderr",
     "output_type": "stream",
     "text": [
      "2023-08-11 18:25:18,020 - pyiron_log - WARNING - Job aborted\n",
      "2023-08-11 18:25:18,021 - pyiron_log - WARNING - LAMMPS (28 Mar 2023 - Update 1)\n",
      "Reading data file ...\n",
      "  orthogonal box = (0 0 0) to (4.0048391 6.9365848 19.619625)\n",
      "  1 by 1 by 1 MPI processor grid\n",
      "  reading atoms ...\n",
      "  48 atoms\n",
      "  read_data CPU = 0.000 seconds\n",
      "ERROR: KIM ModelCreate failed (src/KIM/pair_kim.cpp:828)\n",
      "Last command: pair_style kim MEAM_LAMMPS_LeeJang_2007_FeH__MO_095610951957_000\n",
      "\n",
      "2023-08-11 18:25:18,042 - pyiron_log - WARNING - No HDF5 file found - remove database entry and create new job! S3_GB_102\n"
     ]
    },
    {
     "name": "stdout",
     "output_type": "stream",
     "text": [
      "The job S3_GB_101 was saved and received the ID: 998\n"
     ]
    },
    {
     "name": "stderr",
     "output_type": "stream",
     "text": [
      "2023-08-11 18:25:18,360 - pyiron_log - WARNING - Job aborted\n",
      "2023-08-11 18:25:18,363 - pyiron_log - WARNING - LAMMPS (28 Mar 2023 - Update 1)\n",
      "Reading data file ...\n",
      "  orthogonal box = (0 0 0) to (4.0048391 6.9365848 19.619625)\n",
      "  1 by 1 by 1 MPI processor grid\n",
      "  reading atoms ...\n",
      "  48 atoms\n",
      "  read_data CPU = 0.000 seconds\n",
      "ERROR: KIM ModelCreate failed (src/KIM/pair_kim.cpp:828)\n",
      "Last command: pair_style kim MEAM_LAMMPS_LeeLeeKim_2006_FeN__MO_432861766738_000\n",
      "\n",
      "2023-08-11 18:25:18,388 - pyiron_log - WARNING - No HDF5 file found - remove database entry and create new job! S3_GB_103\n"
     ]
    },
    {
     "name": "stdout",
     "output_type": "stream",
     "text": [
      "The job S3_GB_102 was saved and received the ID: 999\n"
     ]
    },
    {
     "name": "stderr",
     "output_type": "stream",
     "text": [
      "2023-08-11 18:25:18,631 - pyiron_log - WARNING - Job aborted\n",
      "2023-08-11 18:25:18,632 - pyiron_log - WARNING - LAMMPS (28 Mar 2023 - Update 1)\n",
      "Reading data file ...\n",
      "  orthogonal box = (0 0 0) to (4.0048391 6.9365848 19.619625)\n",
      "  1 by 1 by 1 MPI processor grid\n",
      "  reading atoms ...\n",
      "  48 atoms\n",
      "  read_data CPU = 0.000 seconds\n",
      "ERROR: KIM ModelCreate failed (src/KIM/pair_kim.cpp:828)\n",
      "Last command: pair_style kim MEAM_LAMMPS_LeeLee_2010_FeAl__MO_332211522050_000\n",
      "\n",
      "2023-08-11 18:25:18,648 - pyiron_log - WARNING - No HDF5 file found - remove database entry and create new job! S3_GB_104\n"
     ]
    },
    {
     "name": "stdout",
     "output_type": "stream",
     "text": [
      "The job S3_GB_103 was saved and received the ID: 1000\n"
     ]
    },
    {
     "name": "stderr",
     "output_type": "stream",
     "text": [
      "2023-08-11 18:25:18,875 - pyiron_log - WARNING - Job aborted\n",
      "2023-08-11 18:25:18,876 - pyiron_log - WARNING - LAMMPS (28 Mar 2023 - Update 1)\n",
      "Reading data file ...\n",
      "  orthogonal box = (0 0 0) to (4.0048391 6.9365848 19.619625)\n",
      "  1 by 1 by 1 MPI processor grid\n",
      "  reading atoms ...\n",
      "  48 atoms\n",
      "  read_data CPU = 0.000 seconds\n",
      "ERROR: KIM ModelCreate failed (src/KIM/pair_kim.cpp:828)\n",
      "Last command: pair_style kim MEAM_LAMMPS_LeeWirthShim_2005_FeCu__MO_063626065437_000\n",
      "\n",
      "2023-08-11 18:25:18,890 - pyiron_log - WARNING - No HDF5 file found - remove database entry and create new job! S3_GB_105\n"
     ]
    },
    {
     "name": "stdout",
     "output_type": "stream",
     "text": [
      "The job S3_GB_104 was saved and received the ID: 1001\n",
      "The job S3_GB_105 was saved and received the ID: 1002\n"
     ]
    },
    {
     "name": "stderr",
     "output_type": "stream",
     "text": [
      "2023-08-11 18:25:19,075 - pyiron_log - WARNING - Job aborted\n",
      "2023-08-11 18:25:19,076 - pyiron_log - WARNING - LAMMPS (28 Mar 2023 - Update 1)\n",
      "Reading data file ...\n",
      "  orthogonal box = (0 0 0) to (4.0048391 6.9365848 19.619625)\n",
      "  1 by 1 by 1 MPI processor grid\n",
      "  reading atoms ...\n",
      "  48 atoms\n",
      "  read_data CPU = 0.000 seconds\n",
      "ERROR: KIM ModelCreate failed (src/KIM/pair_kim.cpp:828)\n",
      "Last command: pair_style kim MEAM_LAMMPS_Lee_2006_FeC__MO_856956178669_000\n",
      "\n",
      "2023-08-11 18:25:19,089 - pyiron_log - WARNING - No HDF5 file found - remove database entry and create new job! S3_GB_106\n",
      "2023-08-11 18:25:19,262 - pyiron_log - WARNING - Job aborted\n",
      "2023-08-11 18:25:19,263 - pyiron_log - WARNING - LAMMPS (28 Mar 2023 - Update 1)\n",
      "Reading data file ...\n",
      "  orthogonal box = (0 0 0) to (4.0048391 6.9365848 19.619625)\n",
      "  1 by 1 by 1 MPI processor grid\n",
      "  reading atoms ...\n",
      "  48 atoms\n",
      "  read_data CPU = 0.000 seconds\n",
      "ERROR: KIM ModelCreate failed (src/KIM/pair_kim.cpp:828)\n",
      "Last command: pair_style kim MEAM_LAMMPS_LiyanageKimHouze_2014_FeC__MO_075279800195_000\n",
      "\n",
      "2023-08-11 18:25:19,278 - pyiron_log - WARNING - No HDF5 file found - remove database entry and create new job! S3_GB_107\n"
     ]
    },
    {
     "name": "stdout",
     "output_type": "stream",
     "text": [
      "The job S3_GB_106 was saved and received the ID: 1003\n"
     ]
    },
    {
     "name": "stderr",
     "output_type": "stream",
     "text": [
      "2023-08-11 18:25:19,593 - pyiron_log - WARNING - Job aborted\n",
      "2023-08-11 18:25:19,594 - pyiron_log - WARNING - LAMMPS (28 Mar 2023 - Update 1)\n",
      "Reading data file ...\n",
      "  orthogonal box = (0 0 0) to (4.0048391 6.9365848 19.619625)\n",
      "  1 by 1 by 1 MPI processor grid\n",
      "  reading atoms ...\n",
      "  48 atoms\n",
      "  read_data CPU = 0.001 seconds\n",
      "ERROR: KIM ModelCreate failed (src/KIM/pair_kim.cpp:828)\n",
      "Last command: pair_style kim MEAM_LAMMPS_SaLee_2008_FeTi__MO_260546967793_000\n",
      "\n",
      "2023-08-11 18:25:19,610 - pyiron_log - WARNING - No HDF5 file found - remove database entry and create new job! S3_GB_108\n"
     ]
    },
    {
     "name": "stdout",
     "output_type": "stream",
     "text": [
      "The job S3_GB_107 was saved and received the ID: 1005\n"
     ]
    },
    {
     "name": "stderr",
     "output_type": "stream",
     "text": [
      "2023-08-11 18:25:19,831 - pyiron_log - WARNING - Job aborted\n",
      "2023-08-11 18:25:19,832 - pyiron_log - WARNING - LAMMPS (28 Mar 2023 - Update 1)\n",
      "Reading data file ...\n",
      "  orthogonal box = (0 0 0) to (4.0048391 6.9365848 19.619625)\n",
      "  1 by 1 by 1 MPI processor grid\n",
      "  reading atoms ...\n",
      "  48 atoms\n",
      "  read_data CPU = 0.000 seconds\n",
      "ERROR: KIM ModelCreate failed (src/KIM/pair_kim.cpp:828)\n",
      "Last command: pair_style kim MEAM_LAMMPS_SaLee_2008_NbFe__MO_162036141261_000\n",
      "\n",
      "2023-08-11 18:25:19,844 - pyiron_log - WARNING - No HDF5 file found - remove database entry and create new job! S3_GB_109\n"
     ]
    },
    {
     "name": "stdout",
     "output_type": "stream",
     "text": [
      "The job S3_GB_108 was saved and received the ID: 1006\n"
     ]
    },
    {
     "name": "stderr",
     "output_type": "stream",
     "text": [
      "2023-08-11 18:25:20,085 - pyiron_log - WARNING - Job aborted\n",
      "2023-08-11 18:25:20,087 - pyiron_log - WARNING - LAMMPS (28 Mar 2023 - Update 1)\n",
      "Reading data file ...\n",
      "  orthogonal box = (0 0 0) to (4.0048391 6.9365848 19.619625)\n",
      "  1 by 1 by 1 MPI processor grid\n",
      "  reading atoms ...\n",
      "  48 atoms\n",
      "  read_data CPU = 0.000 seconds\n",
      "ERROR: KIM ModelCreate failed (src/KIM/pair_kim.cpp:828)\n",
      "Last command: pair_style kim MEAM_LAMMPS_WuLeeSu_2017_NiCrFe__MO_912636107108_000\n",
      "\n",
      "2023-08-11 18:25:20,111 - pyiron_log - WARNING - No HDF5 file found - remove database entry and create new job! S3_GB_110\n"
     ]
    },
    {
     "name": "stdout",
     "output_type": "stream",
     "text": [
      "The job S3_GB_109 was saved and received the ID: 1007\n"
     ]
    },
    {
     "name": "stderr",
     "output_type": "stream",
     "text": [
      "2023-08-11 18:25:20,374 - pyiron_log - WARNING - Job aborted\n",
      "2023-08-11 18:25:20,376 - pyiron_log - WARNING - LAMMPS (28 Mar 2023 - Update 1)\n",
      "Reading data file ...\n",
      "  orthogonal box = (0 0 0) to (4.0048391 6.9365848 19.619625)\n",
      "  1 by 1 by 1 MPI processor grid\n",
      "  reading atoms ...\n",
      "  48 atoms\n",
      "  read_data CPU = 0.000 seconds\n",
      "ERROR: KIM ModelCreate failed (src/KIM/pair_kim.cpp:828)\n",
      "Last command: pair_style kim MEAM_LAMMPS_WuLeeSu_2017_NiFe__MO_321233176498_000\n",
      "\n",
      "2023-08-11 18:25:20,415 - pyiron_log - WARNING - No HDF5 file found - remove database entry and create new job! S3_GB_111\n"
     ]
    },
    {
     "name": "stdout",
     "output_type": "stream",
     "text": [
      "The job S3_GB_110 was saved and received the ID: 1008\n"
     ]
    },
    {
     "name": "stderr",
     "output_type": "stream",
     "text": [
      "2023-08-11 18:25:20,759 - pyiron_log - WARNING - Job aborted\n",
      "2023-08-11 18:25:20,760 - pyiron_log - WARNING - LAMMPS (28 Mar 2023 - Update 1)\n",
      "Reading data file ...\n",
      "  orthogonal box = (0 0 0) to (4.0048391 6.9365848 19.619625)\n",
      "  1 by 1 by 1 MPI processor grid\n",
      "  reading atoms ...\n",
      "  48 atoms\n",
      "  read_data CPU = 0.000 seconds\n",
      "ERROR: KIM ModelCreate failed (src/KIM/pair_kim.cpp:828)\n",
      "Last command: pair_style kim MJ_MorrisAgaLevashov_2008_Fe__MO_857282754307_003\n",
      "\n",
      "2023-08-11 18:25:20,782 - pyiron_log - WARNING - No HDF5 file found - remove database entry and create new job! S3_GB_112\n"
     ]
    },
    {
     "name": "stdout",
     "output_type": "stream",
     "text": [
      "The job S3_GB_111 was saved and received the ID: 1010\n"
     ]
    },
    {
     "name": "stderr",
     "output_type": "stream",
     "text": [
      "2023-08-11 18:25:21,117 - pyiron_log - WARNING - Job aborted\n",
      "2023-08-11 18:25:21,118 - pyiron_log - WARNING - LAMMPS (28 Mar 2023 - Update 1)\n",
      "Reading data file ...\n",
      "  orthogonal box = (0 0 0) to (4.0048391 6.9365848 19.619625)\n",
      "  1 by 1 by 1 MPI processor grid\n",
      "  reading atoms ...\n",
      "  48 atoms\n",
      "  read_data CPU = 0.000 seconds\n",
      "ERROR: KIM ModelCreate failed (src/KIM/pair_kim.cpp:828)\n",
      "Last command: pair_style kim Morse_Shifted_GirifalcoWeizer_1959HighCutoff_Fe__MO_147603128437_004\n",
      "\n",
      "2023-08-11 18:25:21,150 - pyiron_log - WARNING - No HDF5 file found - remove database entry and create new job! S3_GB_113\n"
     ]
    },
    {
     "name": "stdout",
     "output_type": "stream",
     "text": [
      "The job S3_GB_112 was saved and received the ID: 1011\n"
     ]
    },
    {
     "name": "stderr",
     "output_type": "stream",
     "text": [
      "2023-08-11 18:25:21,402 - pyiron_log - WARNING - Job aborted\n",
      "2023-08-11 18:25:21,404 - pyiron_log - WARNING - LAMMPS (28 Mar 2023 - Update 1)\n",
      "Reading data file ...\n",
      "  orthogonal box = (0 0 0) to (4.0048391 6.9365848 19.619625)\n",
      "  1 by 1 by 1 MPI processor grid\n",
      "  reading atoms ...\n",
      "  48 atoms\n",
      "  read_data CPU = 0.000 seconds\n",
      "ERROR: KIM ModelCreate failed (src/KIM/pair_kim.cpp:828)\n",
      "Last command: pair_style kim Morse_Shifted_GirifalcoWeizer_1959LowCutoff_Fe__MO_331285495617_004\n",
      "\n",
      "2023-08-11 18:25:21,442 - pyiron_log - WARNING - No HDF5 file found - remove database entry and create new job! S3_GB_114\n"
     ]
    },
    {
     "name": "stdout",
     "output_type": "stream",
     "text": [
      "The job S3_GB_113 was saved and received the ID: 1012\n"
     ]
    },
    {
     "name": "stderr",
     "output_type": "stream",
     "text": [
      "2023-08-11 18:25:21,739 - pyiron_log - WARNING - Job aborted\n",
      "2023-08-11 18:25:21,740 - pyiron_log - WARNING - LAMMPS (28 Mar 2023 - Update 1)\n",
      "Reading data file ...\n",
      "  orthogonal box = (0 0 0) to (4.0048391 6.9365848 19.619625)\n",
      "  1 by 1 by 1 MPI processor grid\n",
      "  reading atoms ...\n",
      "  48 atoms\n",
      "  read_data CPU = 0.000 seconds\n",
      "ERROR: KIM ModelCreate failed (src/KIM/pair_kim.cpp:828)\n",
      "Last command: pair_style kim Morse_Shifted_GirifalcoWeizer_1959MedCutoff_Fe__MO_984358344196_004\n",
      "\n",
      "2023-08-11 18:25:21,753 - pyiron_log - WARNING - No HDF5 file found - remove database entry and create new job! S3_GB_115\n"
     ]
    },
    {
     "name": "stdout",
     "output_type": "stream",
     "text": [
      "The job S3_GB_114 was saved and received the ID: 1014\n"
     ]
    },
    {
     "name": "stderr",
     "output_type": "stream",
     "text": [
      "2023-08-11 18:25:21,975 - pyiron_log - WARNING - Job aborted\n",
      "2023-08-11 18:25:21,976 - pyiron_log - WARNING - LAMMPS (28 Mar 2023 - Update 1)\n",
      "Reading data file ...\n",
      "  orthogonal box = (0 0 0) to (4.0048391 6.9365848 19.619625)\n",
      "  1 by 1 by 1 MPI processor grid\n",
      "  reading atoms ...\n",
      "  48 atoms\n",
      "  read_data CPU = 0.000 seconds\n",
      "ERROR: KIM ModelCreate failed (src/KIM/pair_kim.cpp:828)\n",
      "Last command: pair_style kim Tersoff_LAMMPS_MuellerErhartAlbe_2007_Fe__MO_137964310702_003\n",
      "\n",
      "2023-08-11 18:25:21,994 - pyiron_log - WARNING - No HDF5 file found - remove database entry and create new job! S3_GB_116\n"
     ]
    },
    {
     "name": "stdout",
     "output_type": "stream",
     "text": [
      "The job S3_GB_115 was saved and received the ID: 1015\n"
     ]
    },
    {
     "name": "stderr",
     "output_type": "stream",
     "text": [
      "2023-08-11 18:25:22,239 - pyiron_log - WARNING - Job aborted\n",
      "2023-08-11 18:25:22,240 - pyiron_log - WARNING - LAMMPS (28 Mar 2023 - Update 1)\n",
      "Reading data file ...\n",
      "  orthogonal box = (0 0 0) to (4.0048391 6.9365848 19.619625)\n",
      "  1 by 1 by 1 MPI processor grid\n",
      "  reading atoms ...\n",
      "  48 atoms\n",
      "  read_data CPU = 0.000 seconds\n",
      "ERROR: KIM ModelCreate failed (src/KIM/pair_kim.cpp:828)\n",
      "Last command: pair_style kim Sim_LAMMPS_EAMCD_StukowskiSadighErhart_2009_FeCr__SM_775564499513_000\n",
      "\n",
      "2023-08-11 18:25:22,256 - pyiron_log - WARNING - No HDF5 file found - remove database entry and create new job! S3_GB_117\n"
     ]
    },
    {
     "name": "stdout",
     "output_type": "stream",
     "text": [
      "The job S3_GB_116 was saved and received the ID: 1016\n"
     ]
    },
    {
     "name": "stderr",
     "output_type": "stream",
     "text": [
      "2023-08-11 18:25:22,483 - pyiron_log - WARNING - Job aborted\n",
      "2023-08-11 18:25:22,484 - pyiron_log - WARNING - LAMMPS (28 Mar 2023 - Update 1)\n",
      "Reading data file ...\n",
      "  orthogonal box = (0 0 0) to (4.0048391 6.9365848 19.619625)\n",
      "  1 by 1 by 1 MPI processor grid\n",
      "  reading atoms ...\n",
      "  48 atoms\n",
      "  read_data CPU = 0.000 seconds\n",
      "ERROR: KIM ModelCreate failed (src/KIM/pair_kim.cpp:828)\n",
      "Last command: pair_style kim Sim_LAMMPS_EAM_BonnyCastinBullens_2013_FeCrW__SM_699257350704_000\n",
      "\n",
      "2023-08-11 18:25:22,498 - pyiron_log - WARNING - No HDF5 file found - remove database entry and create new job! S3_GB_118\n"
     ]
    },
    {
     "name": "stdout",
     "output_type": "stream",
     "text": [
      "The job S3_GB_117 was saved and received the ID: 1017\n"
     ]
    },
    {
     "name": "stderr",
     "output_type": "stream",
     "text": [
      "2023-08-11 18:25:22,811 - pyiron_log - WARNING - Job aborted\n",
      "2023-08-11 18:25:22,812 - pyiron_log - WARNING - LAMMPS (28 Mar 2023 - Update 1)\n",
      "Reading data file ...\n",
      "  orthogonal box = (0 0 0) to (4.0048391 6.9365848 19.619625)\n",
      "  1 by 1 by 1 MPI processor grid\n",
      "  reading atoms ...\n",
      "  48 atoms\n",
      "  read_data CPU = 0.000 seconds\n",
      "ERROR: KIM ModelCreate failed (src/KIM/pair_kim.cpp:828)\n",
      "Last command: pair_style kim Sim_LAMMPS_EAM_BonnyPasianotTerentyev_2011_FeCr__SM_237089298463_000\n",
      "\n",
      "2023-08-11 18:25:22,828 - pyiron_log - WARNING - No HDF5 file found - remove database entry and create new job! S3_GB_119\n"
     ]
    },
    {
     "name": "stdout",
     "output_type": "stream",
     "text": [
      "The job S3_GB_118 was saved and received the ID: 1018\n"
     ]
    },
    {
     "name": "stderr",
     "output_type": "stream",
     "text": [
      "2023-08-11 18:25:23,095 - pyiron_log - WARNING - Job aborted\n",
      "2023-08-11 18:25:23,097 - pyiron_log - WARNING - LAMMPS (28 Mar 2023 - Update 1)\n",
      "Reading data file ...\n",
      "  orthogonal box = (0 0 0) to (4.0048391 6.9365848 19.619625)\n",
      "  1 by 1 by 1 MPI processor grid\n",
      "  reading atoms ...\n",
      "  48 atoms\n",
      "  read_data CPU = 0.000 seconds\n",
      "ERROR: KIM ModelCreate failed (src/KIM/pair_kim.cpp:828)\n",
      "Last command: pair_style kim Sim_LAMMPS_MEAM_AsadiZaeemNouranian_2015_Fe__SM_042630680993_000\n",
      "\n",
      "2023-08-11 18:25:23,116 - pyiron_log - WARNING - No HDF5 file found - remove database entry and create new job! S3_GB_120\n"
     ]
    },
    {
     "name": "stdout",
     "output_type": "stream",
     "text": [
      "The job S3_GB_119 was saved and received the ID: 1020\n"
     ]
    },
    {
     "name": "stderr",
     "output_type": "stream",
     "text": [
      "2023-08-11 18:25:23,458 - pyiron_log - WARNING - Job aborted\n",
      "2023-08-11 18:25:23,460 - pyiron_log - WARNING - LAMMPS (28 Mar 2023 - Update 1)\n",
      "Reading data file ...\n",
      "  orthogonal box = (0 0 0) to (4.0048391 6.9365848 19.619625)\n",
      "  1 by 1 by 1 MPI processor grid\n",
      "  reading atoms ...\n",
      "  48 atoms\n",
      "  read_data CPU = 0.000 seconds\n",
      "ERROR: KIM ModelCreate failed (src/KIM/pair_kim.cpp:828)\n",
      "Last command: pair_style kim Sim_LAMMPS_MEAM_EtesamiAsadi_2018_Fe__SM_267016608755_000\n",
      "\n",
      "2023-08-11 18:25:23,509 - pyiron_log - WARNING - No HDF5 file found - remove database entry and create new job! S3_GB_121\n"
     ]
    },
    {
     "name": "stdout",
     "output_type": "stream",
     "text": [
      "The job S3_GB_120 was saved and received the ID: 1021\n"
     ]
    },
    {
     "name": "stderr",
     "output_type": "stream",
     "text": [
      "2023-08-11 18:25:23,845 - pyiron_log - WARNING - Job aborted\n",
      "2023-08-11 18:25:23,848 - pyiron_log - WARNING - LAMMPS (28 Mar 2023 - Update 1)\n",
      "Reading data file ...\n",
      "  orthogonal box = (0 0 0) to (4.0048391 6.9365848 19.619625)\n",
      "  1 by 1 by 1 MPI processor grid\n",
      "  reading atoms ...\n",
      "  48 atoms\n",
      "  read_data CPU = 0.000 seconds\n",
      "ERROR: KIM ModelCreate failed (src/KIM/pair_kim.cpp:828)\n",
      "Last command: pair_style kim Sim_LAMMPS_MEAM_JelinekGrohHorstemeyer_2012_AlSiMgCuFe__SM_656517352485_000\n",
      "\n",
      "2023-08-11 18:25:23,862 - pyiron_log - WARNING - No HDF5 file found - remove database entry and create new job! S3_GB_122\n"
     ]
    },
    {
     "name": "stdout",
     "output_type": "stream",
     "text": [
      "The job S3_GB_121 was saved and received the ID: 1023\n"
     ]
    },
    {
     "name": "stderr",
     "output_type": "stream",
     "text": [
      "2023-08-11 18:25:24,075 - pyiron_log - WARNING - Job aborted\n",
      "2023-08-11 18:25:24,076 - pyiron_log - WARNING - LAMMPS (28 Mar 2023 - Update 1)\n",
      "Reading data file ...\n",
      "  orthogonal box = (0 0 0) to (4.0048391 6.9365848 19.619625)\n",
      "  1 by 1 by 1 MPI processor grid\n",
      "  reading atoms ...\n",
      "  48 atoms\n",
      "  read_data CPU = 0.000 seconds\n",
      "ERROR: KIM ModelCreate failed (src/KIM/pair_kim.cpp:828)\n",
      "Last command: pair_style kim Sim_LAMMPS_MEAM_KimJungLee_2009_FeTiC__SM_531038274471_000\n",
      "\n",
      "2023-08-11 18:25:24,093 - pyiron_log - WARNING - No HDF5 file found - remove database entry and create new job! S3_GB_123\n"
     ]
    },
    {
     "name": "stdout",
     "output_type": "stream",
     "text": [
      "The job S3_GB_122 was saved and received the ID: 1024\n"
     ]
    },
    {
     "name": "stderr",
     "output_type": "stream",
     "text": [
      "2023-08-11 18:25:24,317 - pyiron_log - WARNING - Job aborted\n",
      "2023-08-11 18:25:24,318 - pyiron_log - WARNING - LAMMPS (28 Mar 2023 - Update 1)\n",
      "Reading data file ...\n",
      "  orthogonal box = (0 0 0) to (4.0048391 6.9365848 19.619625)\n",
      "  1 by 1 by 1 MPI processor grid\n",
      "  reading atoms ...\n",
      "  48 atoms\n",
      "  read_data CPU = 0.000 seconds\n",
      "ERROR: KIM ModelCreate failed (src/KIM/pair_kim.cpp:828)\n",
      "Last command: pair_style kim Sim_LAMMPS_MEAM_LiyanageKimHouze_2014_FeC__SM_652425777808_000\n",
      "\n",
      "2023-08-11 18:25:24,334 - pyiron_log - WARNING - No HDF5 file found - remove database entry and create new job! S3_GB_124\n"
     ]
    },
    {
     "name": "stdout",
     "output_type": "stream",
     "text": [
      "The job S3_GB_123 was saved and received the ID: 1025\n"
     ]
    },
    {
     "name": "stderr",
     "output_type": "stream",
     "text": [
      "2023-08-11 18:25:24,682 - pyiron_log - WARNING - Job aborted\n",
      "2023-08-11 18:25:24,683 - pyiron_log - WARNING - LAMMPS (28 Mar 2023 - Update 1)\n",
      "Reading data file ...\n",
      "  orthogonal box = (0 0 0) to (4.0048391 6.9365848 19.619625)\n",
      "  1 by 1 by 1 MPI processor grid\n",
      "  reading atoms ...\n",
      "  48 atoms\n",
      "  read_data CPU = 0.000 seconds\n",
      "ERROR: KIM ModelCreate failed (src/KIM/pair_kim.cpp:828)\n",
      "Last command: pair_style kim Sim_LAMMPS_ReaxFF_AryanpourVanDuinKubicki_2010_FeHO__SM_222964216001_001\n",
      "\n",
      "2023-08-11 18:25:24,702 - pyiron_log - WARNING - No HDF5 file found - remove database entry and create new job! S3_GB_125\n"
     ]
    },
    {
     "name": "stdout",
     "output_type": "stream",
     "text": [
      "The job S3_GB_124 was saved and received the ID: 1026\n"
     ]
    },
    {
     "name": "stderr",
     "output_type": "stream",
     "text": [
      "2023-08-11 18:25:24,982 - pyiron_log - WARNING - Job aborted\n",
      "2023-08-11 18:25:24,983 - pyiron_log - WARNING - LAMMPS (28 Mar 2023 - Update 1)\n",
      "Reading data file ...\n",
      "  orthogonal box = (0 0 0) to (4.0048391 6.9365848 19.619625)\n",
      "  1 by 1 by 1 MPI processor grid\n",
      "  reading atoms ...\n",
      "  48 atoms\n",
      "  read_data CPU = 0.000 seconds\n",
      "ERROR: KIM ModelCreate failed (src/KIM/pair_kim.cpp:828)\n",
      "Last command: pair_style kim Sim_LAMMPS_TersoffZBL_ByggmastarGranberg_2020_Fe__SM_958863895234_000\n",
      "\n",
      "2023-08-11 18:25:25,000 - pyiron_log - WARNING - No HDF5 file found - remove database entry and create new job! S3_GB_126\n"
     ]
    },
    {
     "name": "stdout",
     "output_type": "stream",
     "text": [
      "The job S3_GB_125 was saved and received the ID: 1028\n"
     ]
    },
    {
     "name": "stderr",
     "output_type": "stream",
     "text": [
      "2023-08-11 18:25:25,376 - pyiron_log - WARNING - Job aborted\n",
      "2023-08-11 18:25:25,378 - pyiron_log - WARNING - LAMMPS (28 Mar 2023 - Update 1)\n",
      "Reading data file ...\n",
      "  orthogonal box = (0 0 0) to (4.0048391 6.9365848 19.619625)\n",
      "  1 by 1 by 1 MPI processor grid\n",
      "  reading atoms ...\n",
      "  48 atoms\n",
      "  read_data CPU = 0.000 seconds\n",
      "ERROR: KIM ModelCreate failed (src/KIM/pair_kim.cpp:828)\n",
      "Last command: pair_style kim Sim_LAMMPS_TersoffZBL_HenrikssonBjorkasNordlund_2013_FeC__SM_473463498269_000\n",
      "\n"
     ]
    },
    {
     "name": "stdout",
     "output_type": "stream",
     "text": [
      "The job S3_GB_126 was saved and received the ID: 1029\n"
     ]
    }
   ],
   "source": [
    "potentials_tested = job.list_potentials()\n",
    "GB_energy_list = []\n",
    "for i, potential in enumerate(potentials_tested):\n",
    "    try:\n",
    "        job_GB_name = f\"S3_GB_{i}\"\n",
    "        job_GB = pr.create_job(job_type=pr.job_type.Lammps, job_name=job_GB_name)\n",
    "        job_GB.structure = ase_to_pyiron(gb)\n",
    "        job_GB.potential = potential\n",
    "        job_GB.calc_minimize(pressure=None,\n",
    "                            max_iter=10000)\n",
    "        job_GB.run(delete_existing_job=True)\n",
    "        \n",
    "        job_SLAB_name = f\"S3_SLAB_{i}\"\n",
    "        job_SLAB = pr.create_job(job_type=pr.job_type.Lammps, job_name=job_SLAB_name)\n",
    "        job_SLAB.structure = ase_to_pyiron(slab)\n",
    "        job_SLAB.potential = potential\n",
    "        job_SLAB.calc_minimize(pressure=None,\n",
    "                            max_iter=10000)\n",
    "        job_SLAB.run(delete_existing_job=True)\n",
    "        \n",
    "        # Formula for GB energy is E_GB_tot - E_SLAB_tot / 2 * (Interface area)\n",
    "        # The 2 in the denominator is to account for the second interface present in the cell due to the periodic conditions\n",
    "        \n",
    "        GB_energy = (job_GB['output/generic/energy_tot'][-1] - job_SLAB['output/generic/energy_tot'][-1]) \\\n",
    "                    / (2 * job_GB.structure.cell.volume / job_GB.structure.cell[-1,-1]) * 16.02\n",
    "        \n",
    "        GB_energy_list.append(GB_energy)\n",
    "    except:\n",
    "        GB_energy_list.append(np.nan)"
   ]
  },
  {
   "cell_type": "markdown",
   "metadata": {},
   "source": [
    "Construct a dataframe which contains the information about GB energy, and their errors with respect to a DFT computed value.\n",
    "\n",
    "The GB energy of 1.58 J/m^2 is from the value computed in this study:\n",
    "\n",
    "Mai, H.L., Cui, X.Y., Scheiber, D., Romaner, L. and Ringer, S.P., 2022. The segregation of transition metals to iron grain boundaries and their effects on cohesion. Acta materialia, 231, p.117902."
   ]
  },
  {
   "cell_type": "code",
   "execution_count": 7,
   "metadata": {},
   "outputs": [
    {
     "data": {
      "text/html": [
       "<div>\n",
       "<style scoped>\n",
       "    .dataframe tbody tr th:only-of-type {\n",
       "        vertical-align: middle;\n",
       "    }\n",
       "\n",
       "    .dataframe tbody tr th {\n",
       "        vertical-align: top;\n",
       "    }\n",
       "\n",
       "    .dataframe thead th {\n",
       "        text-align: right;\n",
       "    }\n",
       "</style>\n",
       "<table border=\"1\" class=\"dataframe\">\n",
       "  <thead>\n",
       "    <tr style=\"text-align: right;\">\n",
       "      <th></th>\n",
       "      <th>potential</th>\n",
       "      <th>GB_energy</th>\n",
       "      <th>err_DFT</th>\n",
       "      <th>rel_err_DFT</th>\n",
       "    </tr>\n",
       "  </thead>\n",
       "  <tbody>\n",
       "    <tr>\n",
       "      <th>0</th>\n",
       "      <td>1997--Ackland-G-J--Fe--LAMMPS--ipr1</td>\n",
       "      <td>0.980</td>\n",
       "      <td>0.600</td>\n",
       "      <td>38.0</td>\n",
       "    </tr>\n",
       "    <tr>\n",
       "      <th>1</th>\n",
       "      <td>1998--Meyer-R--Fe--LAMMPS--ipr1</td>\n",
       "      <td>1.078</td>\n",
       "      <td>0.502</td>\n",
       "      <td>32.0</td>\n",
       "    </tr>\n",
       "    <tr>\n",
       "      <th>2</th>\n",
       "      <td>2001--Lee-B-J--Fe--LAMMPS--ipr1</td>\n",
       "      <td>1.349</td>\n",
       "      <td>0.231</td>\n",
       "      <td>15.0</td>\n",
       "    </tr>\n",
       "    <tr>\n",
       "      <th>3</th>\n",
       "      <td>2001--Lee-B-J--Fe-Cr--LAMMPS--ipr1</td>\n",
       "      <td>1.342</td>\n",
       "      <td>0.238</td>\n",
       "      <td>15.0</td>\n",
       "    </tr>\n",
       "    <tr>\n",
       "      <th>4</th>\n",
       "      <td>2003--Mendelev-M-I--Fe-2--LAMMPS--ipr3</td>\n",
       "      <td>1.386</td>\n",
       "      <td>0.194</td>\n",
       "      <td>12.0</td>\n",
       "    </tr>\n",
       "    <tr>\n",
       "      <th>...</th>\n",
       "      <td>...</td>\n",
       "      <td>...</td>\n",
       "      <td>...</td>\n",
       "      <td>...</td>\n",
       "    </tr>\n",
       "    <tr>\n",
       "      <th>63</th>\n",
       "      <td>2021--Starikov-S--Fe--LAMMPS--ipr2</td>\n",
       "      <td>-0.604</td>\n",
       "      <td>2.184</td>\n",
       "      <td>138.0</td>\n",
       "    </tr>\n",
       "    <tr>\n",
       "      <th>64</th>\n",
       "      <td>2021--Wen-M--Fe-H--LAMMPS--ipr1</td>\n",
       "      <td>1.403</td>\n",
       "      <td>0.177</td>\n",
       "      <td>11.0</td>\n",
       "    </tr>\n",
       "    <tr>\n",
       "      <th>65</th>\n",
       "      <td>2022--Mahata-A--Al-Fe--LAMMPS--ipr1</td>\n",
       "      <td>1.196</td>\n",
       "      <td>0.384</td>\n",
       "      <td>24.0</td>\n",
       "    </tr>\n",
       "    <tr>\n",
       "      <th>66</th>\n",
       "      <td>2022--Starikov-S--Fe-Cr-H--LAMMPS--ipr1</td>\n",
       "      <td>1.609</td>\n",
       "      <td>-0.029</td>\n",
       "      <td>-2.0</td>\n",
       "    </tr>\n",
       "    <tr>\n",
       "      <th>67</th>\n",
       "      <td>2022--Sun-Y--Fe--LAMMPS--ipr1</td>\n",
       "      <td>0.506</td>\n",
       "      <td>1.074</td>\n",
       "      <td>68.0</td>\n",
       "    </tr>\n",
       "  </tbody>\n",
       "</table>\n",
       "<p>61 rows × 4 columns</p>\n",
       "</div>"
      ],
      "text/plain": [
       "                                  potential  GB_energy  err_DFT  rel_err_DFT\n",
       "0       1997--Ackland-G-J--Fe--LAMMPS--ipr1      0.980    0.600         38.0\n",
       "1           1998--Meyer-R--Fe--LAMMPS--ipr1      1.078    0.502         32.0\n",
       "2           2001--Lee-B-J--Fe--LAMMPS--ipr1      1.349    0.231         15.0\n",
       "3        2001--Lee-B-J--Fe-Cr--LAMMPS--ipr1      1.342    0.238         15.0\n",
       "4    2003--Mendelev-M-I--Fe-2--LAMMPS--ipr3      1.386    0.194         12.0\n",
       "..                                      ...        ...      ...          ...\n",
       "63       2021--Starikov-S--Fe--LAMMPS--ipr2     -0.604    2.184        138.0\n",
       "64          2021--Wen-M--Fe-H--LAMMPS--ipr1      1.403    0.177         11.0\n",
       "65      2022--Mahata-A--Al-Fe--LAMMPS--ipr1      1.196    0.384         24.0\n",
       "66  2022--Starikov-S--Fe-Cr-H--LAMMPS--ipr1      1.609   -0.029         -2.0\n",
       "67            2022--Sun-Y--Fe--LAMMPS--ipr1      0.506    1.074         68.0\n",
       "\n",
       "[61 rows x 4 columns]"
      ]
     },
     "execution_count": 7,
     "metadata": {},
     "output_type": "execute_result"
    }
   ],
   "source": [
    "data = {'potential': potentials_tested, 'GB_energy': GB_energy_list}\n",
    "df = pd.DataFrame(data)\n",
    "\n",
    "GB_energy_DFT = 1.58\n",
    "df[\"err_DFT\"] = np.round(GB_energy_DFT - df[\"GB_energy\"], 3)\n",
    "df[\"rel_err_DFT\"] = np.round((GB_energy_DFT - df[\"GB_energy\"]) / GB_energy_DFT * 100, 0)\n",
    "df[\"GB_energy\"] = np.round(df.GB_energy.tolist(), 3)\n",
    "df = df.dropna(subset=\"GB_energy\")\n",
    "df"
   ]
  },
  {
   "cell_type": "markdown",
   "metadata": {},
   "source": [
    "Order the potentials by the minimum error wrt. DFT!\n",
    "\n",
    "Now we have a good idea of how to search for an empirical potential which best captures the GB energetics of a specific grain boundary.\n",
    "\n",
    "You can see that there are some potentials that are very, very accurate at predicting this specific GB energy. \n",
    "\n",
    "For a real study you should consider not just a single GB, but validate it across multiple GBs and ideally the specific phenomena you want to study."
   ]
  },
  {
   "cell_type": "code",
   "execution_count": 8,
   "metadata": {},
   "outputs": [
    {
     "data": {
      "text/html": [
       "<div>\n",
       "<style scoped>\n",
       "    .dataframe tbody tr th:only-of-type {\n",
       "        vertical-align: middle;\n",
       "    }\n",
       "\n",
       "    .dataframe tbody tr th {\n",
       "        vertical-align: top;\n",
       "    }\n",
       "\n",
       "    .dataframe thead th {\n",
       "        text-align: right;\n",
       "    }\n",
       "</style>\n",
       "<table border=\"1\" class=\"dataframe\">\n",
       "  <thead>\n",
       "    <tr style=\"text-align: right;\">\n",
       "      <th></th>\n",
       "      <th>potential</th>\n",
       "      <th>GB_energy</th>\n",
       "      <th>err_DFT</th>\n",
       "      <th>rel_err_DFT</th>\n",
       "    </tr>\n",
       "  </thead>\n",
       "  <tbody>\n",
       "    <tr>\n",
       "      <th>66</th>\n",
       "      <td>2022--Starikov-S--Fe-Cr-H--LAMMPS--ipr1</td>\n",
       "      <td>1.609</td>\n",
       "      <td>-0.029</td>\n",
       "      <td>-2.0</td>\n",
       "    </tr>\n",
       "    <tr>\n",
       "      <th>27</th>\n",
       "      <td>2010--Malerba-L--Fe--LAMMPS--ipr1</td>\n",
       "      <td>1.549</td>\n",
       "      <td>0.031</td>\n",
       "      <td>2.0</td>\n",
       "    </tr>\n",
       "    <tr>\n",
       "      <th>55</th>\n",
       "      <td>2019--Byggmastar-J--Fe-O--LAMMPS--ipr1</td>\n",
       "      <td>1.499</td>\n",
       "      <td>0.081</td>\n",
       "      <td>5.0</td>\n",
       "    </tr>\n",
       "    <tr>\n",
       "      <th>40</th>\n",
       "      <td>2013--Henriksson-K-O-E--Fe-C--LAMMPS--ipr1</td>\n",
       "      <td>1.499</td>\n",
       "      <td>0.081</td>\n",
       "      <td>5.0</td>\n",
       "    </tr>\n",
       "    <tr>\n",
       "      <th>57</th>\n",
       "      <td>2020--Byggmastar-J--Fe--LAMMPS--ipr1</td>\n",
       "      <td>1.466</td>\n",
       "      <td>0.114</td>\n",
       "      <td>7.0</td>\n",
       "    </tr>\n",
       "    <tr>\n",
       "      <th>58</th>\n",
       "      <td>2020--Farkas-D--Fe-Ni-Cr-Co-Al--LAMMPS--ipr1</td>\n",
       "      <td>1.425</td>\n",
       "      <td>0.155</td>\n",
       "      <td>10.0</td>\n",
       "    </tr>\n",
       "    <tr>\n",
       "      <th>61</th>\n",
       "      <td>2021--Deluigi-O-R--Fe-Ni-Cr-Co-Cu--LAMMPS--ipr1</td>\n",
       "      <td>1.425</td>\n",
       "      <td>0.155</td>\n",
       "      <td>10.0</td>\n",
       "    </tr>\n",
       "    <tr>\n",
       "      <th>50</th>\n",
       "      <td>2018--Farkas-D--Fe-Ni-Cr-Co-Cu--LAMMPS--ipr2</td>\n",
       "      <td>1.425</td>\n",
       "      <td>0.155</td>\n",
       "      <td>10.0</td>\n",
       "    </tr>\n",
       "    <tr>\n",
       "      <th>6</th>\n",
       "      <td>2004--Ackland-G-J--Fe-P--LAMMPS--ipr1</td>\n",
       "      <td>1.404</td>\n",
       "      <td>0.176</td>\n",
       "      <td>11.0</td>\n",
       "    </tr>\n",
       "    <tr>\n",
       "      <th>9</th>\n",
       "      <td>2005--Mendelev-M-I--Al-Fe--LAMMPS--ipr1</td>\n",
       "      <td>1.404</td>\n",
       "      <td>0.176</td>\n",
       "      <td>11.0</td>\n",
       "    </tr>\n",
       "  </tbody>\n",
       "</table>\n",
       "</div>"
      ],
      "text/plain": [
       "                                          potential  GB_energy  err_DFT   \n",
       "66          2022--Starikov-S--Fe-Cr-H--LAMMPS--ipr1      1.609   -0.029  \\\n",
       "27                2010--Malerba-L--Fe--LAMMPS--ipr1      1.549    0.031   \n",
       "55           2019--Byggmastar-J--Fe-O--LAMMPS--ipr1      1.499    0.081   \n",
       "40       2013--Henriksson-K-O-E--Fe-C--LAMMPS--ipr1      1.499    0.081   \n",
       "57             2020--Byggmastar-J--Fe--LAMMPS--ipr1      1.466    0.114   \n",
       "58     2020--Farkas-D--Fe-Ni-Cr-Co-Al--LAMMPS--ipr1      1.425    0.155   \n",
       "61  2021--Deluigi-O-R--Fe-Ni-Cr-Co-Cu--LAMMPS--ipr1      1.425    0.155   \n",
       "50     2018--Farkas-D--Fe-Ni-Cr-Co-Cu--LAMMPS--ipr2      1.425    0.155   \n",
       "6             2004--Ackland-G-J--Fe-P--LAMMPS--ipr1      1.404    0.176   \n",
       "9           2005--Mendelev-M-I--Al-Fe--LAMMPS--ipr1      1.404    0.176   \n",
       "\n",
       "    rel_err_DFT  \n",
       "66         -2.0  \n",
       "27          2.0  \n",
       "55          5.0  \n",
       "40          5.0  \n",
       "57          7.0  \n",
       "58         10.0  \n",
       "61         10.0  \n",
       "50         10.0  \n",
       "6          11.0  \n",
       "9          11.0  "
      ]
     },
     "execution_count": 8,
     "metadata": {},
     "output_type": "execute_result"
    }
   ],
   "source": [
    "df.sort_values(by=\"err_DFT\").head(10)"
   ]
  }
 ],
 "metadata": {
  "kernelspec": {
   "display_name": "Python 3",
   "language": "python",
   "name": "python3"
  },
  "language_info": {
   "codemirror_mode": {
    "name": "ipython",
    "version": 3
   },
   "file_extension": ".py",
   "mimetype": "text/x-python",
   "name": "python",
   "nbconvert_exporter": "python",
   "pygments_lexer": "ipython3",
   "version": "3.10.10"
  },
  "orig_nbformat": 4
 },
 "nbformat": 4,
 "nbformat_minor": 2
}

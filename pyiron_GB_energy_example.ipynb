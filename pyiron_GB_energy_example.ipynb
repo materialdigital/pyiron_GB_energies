{
 "cells": [
  {
   "cell_type": "markdown",
   "metadata": {},
   "source": [
    "### A pyiron workflow to calculate a grain boundary energy using multiple potentials, and compare to literature DFT data.\n",
    "\n",
    "This notebook __doesn't__ work out of the box if you haven't configured LAMMPS for pyiron\n",
    "\n",
    "conda install -c conda-forge lammps \n",
    "\n",
    "OR\n",
    "\n",
    "mamba install -c conda-forge lammps\n",
    "\n",
    "In the python environment in which you are running pyiron\n",
    "\n",
    "WARNING: In practice/production you should configure a compiled LAMMPS executable that is optimised for your cluster!"
   ]
  },
  {
   "cell_type": "code",
   "execution_count": 1,
   "metadata": {},
   "outputs": [
    {
     "data": {
      "application/vnd.jupyter.widget-view+json": {
       "model_id": "13c7688e2c5847d2a761ff6cfac02fea",
       "version_major": 2,
       "version_minor": 0
      },
      "text/plain": []
     },
     "metadata": {},
     "output_type": "display_data"
    }
   ],
   "source": [
    "from pyiron.project import Project\n",
    "\n",
    "import numpy as np\n",
    "import pandas as pd\n",
    "\n",
    "from ase.lattice.cubic import BodyCenteredCubic as bcc\n",
    "from ase.build import stack\n",
    "\n",
    "from pymatgen.core import Structure\n",
    "from pymatgen.io.ase import AseAtomsAdaptor\n",
    "\n",
    "from pyiron.atomistics.structure.atoms import ase_to_pyiron, pymatgen_to_pyiron"
   ]
  },
  {
   "cell_type": "code",
   "execution_count": 2,
   "metadata": {},
   "outputs": [],
   "source": [
    "def add_vacuum(structure, vacuum):\n",
    "    \"\"\"\n",
    "    Adds padding to a slab or 2D material.\n",
    "\n",
    "    Args:\n",
    "        structure (Structure): Structure to add vacuum to\n",
    "        vacuum (float): Vacuum thickness to add in Angstroms\n",
    "    Returns:\n",
    "        Structure object with vacuum added.\n",
    "    \"\"\"\n",
    "    struct = structure.copy()\n",
    "    coords = [s.coords for s in struct.sites]\n",
    "    species = [s.specie for s in struct.sites]\n",
    "    lattice = struct.lattice.matrix\n",
    "    lattice.setflags(write=1)\n",
    "    lattice_C = lattice\n",
    "    lattice_C[2][2] += vacuum\n",
    "    struct = Structure(lattice_C, species, coords, coords_are_cartesian=True)\n",
    "    struct.translate_sites(range(len(struct)), [0,0,vacuum/2], frac_coords=False)\n",
    "    return struct"
   ]
  },
  {
   "cell_type": "code",
   "execution_count": 3,
   "metadata": {},
   "outputs": [],
   "source": [
    "pr = Project(\"GB_calcs\")"
   ]
  },
  {
   "cell_type": "markdown",
   "metadata": {},
   "source": [
    "Create the structure that we're going to use:\n",
    "a $\\Sigma 3 [1 \\bar{1}0](111)$ Fe GB"
   ]
  },
  {
   "cell_type": "code",
   "execution_count": 4,
   "metadata": {},
   "outputs": [],
   "source": [
    "surface1 = [1, 1, 1]\n",
    "surface2 = [1, 1, -1]\n",
    "rotation_axis = [1, -1, 0]\n",
    "element = \"Fe\"\n",
    "lc = 2.8318488966083\n",
    "GB_name = \"S3-RA110-S1-11\"\n",
    "\n",
    "# The minimum required length of the cell.\n",
    "req_length = 30\n",
    "\n",
    "v1 = list(-np.cross(rotation_axis,surface1))\n",
    "v2 = list(-np.cross(rotation_axis,surface2)) \n",
    "\n",
    "length = 0\n",
    "n = 0\n",
    "\n",
    "vacuum_slab = 15\n",
    "while length < req_length:\n",
    "    n += 1\n",
    "    \n",
    "    slab1 = bcc(symbol=element, latticeconstant=lc,directions=[rotation_axis,v1,surface1], size=[1,1,n])\n",
    "    slab2 = bcc(symbol=element, latticeconstant=lc,directions=[rotation_axis,v2,surface2], size=[1,1,n])\n",
    "\n",
    "    gb = stack(slab1, slab2)\n",
    "    slab = stack(slab1, slab1)\n",
    "    length = gb.cell[-1,-1]\n",
    "\n",
    "    # Rattle the gb structure using rattle in ASE to perturb symmetry\n",
    "    gb.rattle()\n",
    "    slab.rattle()\n",
    "        \n",
    "    slab_pmg = add_vacuum(AseAtomsAdaptor().get_structure(slab).copy(), vacuum_slab)\n",
    "    gb_pmg = add_vacuum(AseAtomsAdaptor().get_structure(gb).copy(), vacuum_slab)"
   ]
  },
  {
   "cell_type": "markdown",
   "metadata": {},
   "source": [
    "Create the pyiron job, assign the structure to the job."
   ]
  },
  {
   "cell_type": "code",
   "execution_count": 5,
   "metadata": {},
   "outputs": [],
   "source": [
    "job = pr.create_job(job_type=pr.job_type.Lammps, job_name='Fe_S3_GB')\n",
    "\n",
    "job.structure = ase_to_pyiron(gb)"
   ]
  },
  {
   "cell_type": "markdown",
   "metadata": {},
   "source": [
    "We need to see the potentials, pyiron has an inbuilt potential database\n",
    "\n",
    "It automatically finds the applicable potentials given the structure provided."
   ]
  },
  {
   "cell_type": "code",
   "execution_count": 6,
   "metadata": {},
   "outputs": [
    {
     "data": {
      "text/plain": [
       "['1997--Ackland-G-J--Fe--LAMMPS--ipr1',\n",
       " '1998--Meyer-R--Fe--LAMMPS--ipr1',\n",
       " '2001--Lee-B-J--Fe--LAMMPS--ipr1',\n",
       " '2001--Lee-B-J--Fe-Cr--LAMMPS--ipr1',\n",
       " '2003--Mendelev-M-I--Fe-2--LAMMPS--ipr3',\n",
       " '2003--Mendelev-M-I--Fe-5--LAMMPS--ipr1',\n",
       " '2004--Ackland-G-J--Fe-P--LAMMPS--ipr1',\n",
       " '2004--Zhou-X-W--Fe--LAMMPS--ipr2',\n",
       " '2005--Lee-B-J--Fe-Cu--LAMMPS--ipr1',\n",
       " '2005--Mendelev-M-I--Al-Fe--LAMMPS--ipr1']"
      ]
     },
     "execution_count": 6,
     "metadata": {},
     "output_type": "execute_result"
    }
   ],
   "source": [
    "job.list_potentials()[:10]"
   ]
  },
  {
   "cell_type": "code",
   "execution_count": 7,
   "metadata": {},
   "outputs": [],
   "source": [
    "def run_lammps_calc(structure, job_name, potential):\n",
    "    job = pr.create_job(job_type=pr.job_type.Lammps, job_name=job_name)\n",
    "    job.structure = structure\n",
    "    job.potential = potential\n",
    "    job.calc_minimize(pressure=None,\n",
    "                        max_iter=10000)\n",
    "    job.run(delete_existing_job=True)\n",
    "    return job['output/generic/energy_tot'][-1]"
   ]
  },
  {
   "cell_type": "code",
   "execution_count": 8,
   "metadata": {},
   "outputs": [
    {
     "name": "stdout",
     "output_type": "stream",
     "text": [
      "The job S3_GB_0 was saved and received the ID: 2507\n",
      "The job S3_SLAB_0 was saved and received the ID: 2508\n",
      "The job S3_GB_1 was saved and received the ID: 2509\n"
     ]
    },
    {
     "name": "stderr",
     "output_type": "stream",
     "text": [
      "2023-08-17 00:07:00,837 - pyiron_log - WARNING - Job aborted - please remove it and run again! S3_SLAB_1\n"
     ]
    },
    {
     "name": "stdout",
     "output_type": "stream",
     "text": [
      "The job S3_SLAB_1 was saved and received the ID: 2511\n",
      "The job S3_GB_2 was saved and received the ID: 2512\n",
      "The job S3_SLAB_2 was saved and received the ID: 2515\n",
      "The job S3_GB_3 was saved and received the ID: 2517\n",
      "The job S3_SLAB_3 was saved and received the ID: 2518\n",
      "The job S3_GB_4 was saved and received the ID: 2520\n",
      "The job S3_SLAB_4 was saved and received the ID: 2523\n",
      "The job S3_GB_5 was saved and received the ID: 2525\n",
      "The job S3_SLAB_5 was saved and received the ID: 2527\n",
      "The job S3_GB_6 was saved and received the ID: 2529\n",
      "The job S3_SLAB_6 was saved and received the ID: 2531\n",
      "The job S3_GB_7 was saved and received the ID: 2532\n",
      "The job S3_SLAB_7 was saved and received the ID: 2534\n",
      "The job S3_GB_8 was saved and received the ID: 2535\n",
      "The job S3_SLAB_8 was saved and received the ID: 2536\n",
      "The job S3_GB_9 was saved and received the ID: 2538\n",
      "The job S3_SLAB_9 was saved and received the ID: 2540\n",
      "The job S3_GB_10 was saved and received the ID: 2541\n",
      "The job S3_SLAB_10 was saved and received the ID: 2542\n",
      "The job S3_GB_11 was saved and received the ID: 2544\n",
      "The job S3_SLAB_11 was saved and received the ID: 2545\n",
      "The job S3_GB_12 was saved and received the ID: 2546\n",
      "The job S3_SLAB_12 was saved and received the ID: 2548\n",
      "The job S3_GB_13 was saved and received the ID: 2549\n",
      "The job S3_SLAB_13 was saved and received the ID: 2551\n",
      "The job S3_GB_14 was saved and received the ID: 2553\n",
      "The job S3_SLAB_14 was saved and received the ID: 2555\n"
     ]
    },
    {
     "name": "stderr",
     "output_type": "stream",
     "text": [
      "2023-08-17 00:07:17,765 - pyiron_log - WARNING - Job aborted - please remove it and run again! S3_GB_15\n"
     ]
    },
    {
     "name": "stdout",
     "output_type": "stream",
     "text": [
      "The job S3_GB_15 was saved and received the ID: 2557\n"
     ]
    },
    {
     "name": "stderr",
     "output_type": "stream",
     "text": [
      "2023-08-17 00:07:18,799 - pyiron_log - WARNING - No HDF5 file found - remove database entry and create new job! S3_SLAB_15\n"
     ]
    },
    {
     "name": "stdout",
     "output_type": "stream",
     "text": [
      "The job S3_SLAB_15 was saved and received the ID: 2559\n",
      "The job S3_GB_16 was saved and received the ID: 2563\n",
      "The job S3_SLAB_16 was saved and received the ID: 2565\n",
      "The job S3_GB_17 was saved and received the ID: 2568\n",
      "The job S3_SLAB_17 was saved and received the ID: 2569\n",
      "The job S3_GB_18 was saved and received the ID: 2572\n",
      "The job S3_SLAB_18 was saved and received the ID: 2574\n",
      "The job S3_GB_19 was saved and received the ID: 2577\n",
      "The job S3_SLAB_19 was saved and received the ID: 2579\n",
      "The job S3_GB_20 was saved and received the ID: 2582\n",
      "The job S3_SLAB_20 was saved and received the ID: 2584\n",
      "The job S3_GB_21 was saved and received the ID: 2586\n",
      "The job S3_SLAB_21 was saved and received the ID: 2589\n",
      "The job S3_GB_22 was saved and received the ID: 2591\n",
      "The job S3_SLAB_22 was saved and received the ID: 2593\n",
      "The job S3_GB_23 was saved and received the ID: 2595\n",
      "The job S3_SLAB_23 was saved and received the ID: 2597\n",
      "The job S3_GB_24 was saved and received the ID: 2599\n",
      "The job S3_SLAB_24 was saved and received the ID: 2600\n",
      "The job S3_GB_25 was saved and received the ID: 2602\n",
      "The job S3_SLAB_25 was saved and received the ID: 2604\n",
      "The job S3_GB_26 was saved and received the ID: 2605\n",
      "The job S3_SLAB_26 was saved and received the ID: 2607\n",
      "The job S3_GB_27 was saved and received the ID: 2609\n",
      "The job S3_SLAB_27 was saved and received the ID: 2612\n"
     ]
    },
    {
     "name": "stderr",
     "output_type": "stream",
     "text": [
      "2023-08-17 00:07:39,489 - pyiron_log - WARNING - Job aborted - please remove it and run again! S3_GB_28\n",
      "2023-08-17 00:07:39,759 - pyiron_log - WARNING - Job aborted\n",
      "2023-08-17 00:07:39,760 - pyiron_log - WARNING - LAMMPS (28 Mar 2023 - Update 1)\n",
      "Reading data file ...\n",
      "  orthogonal box = (0 0 0) to (4.0048391 6.9365848 49.334343)\n",
      "  1 by 1 by 1 MPI processor grid\n",
      "  reading atoms ...\n",
      "  84 atoms\n",
      "  read_data CPU = 0.002 seconds\n",
      "ERROR on proc 0: Not a valid floating-point number: 'Infinity' (src/MANYBODY/pair_eam_alloy.cpp:174)\n",
      "Last command: pair_coeff * * eam/alloy FeCr_d.eam.alloy Fe Cr\n",
      "\n"
     ]
    },
    {
     "name": "stdout",
     "output_type": "stream",
     "text": [
      "The job S3_GB_28 was saved and received the ID: 2616\n",
      "The job S3_GB_29 was saved and received the ID: 2618\n",
      "The job S3_SLAB_29 was saved and received the ID: 2620\n"
     ]
    },
    {
     "name": "stderr",
     "output_type": "stream",
     "text": [
      "2023-08-17 00:07:42,475 - pyiron_log - WARNING - Job aborted - please remove it and run again! S3_GB_30\n",
      "2023-08-17 00:07:42,712 - pyiron_log - WARNING - Job aborted\n",
      "2023-08-17 00:07:42,713 - pyiron_log - WARNING - LAMMPS (28 Mar 2023 - Update 1)\n",
      "Reading data file ...\n",
      "  orthogonal box = (0 0 0) to (4.0048391 6.9365848 49.334343)\n",
      "  1 by 1 by 1 MPI processor grid\n",
      "  reading atoms ...\n",
      "  84 atoms\n",
      "  read_data CPU = 0.000 seconds\n",
      "ERROR on proc 0: Not a valid floating-point number: 'INF' (src/MANYBODY/pair_eam_alloy.cpp:174)\n",
      "Last command: pair_coeff * * FeNiCr.eam.alloy Fe Ni Cr\n",
      "\n"
     ]
    },
    {
     "name": "stdout",
     "output_type": "stream",
     "text": [
      "The job S3_GB_30 was saved and received the ID: 2622\n",
      "The job S3_GB_31 was saved and received the ID: 2623\n",
      "The job S3_SLAB_31 was saved and received the ID: 2626\n",
      "The job S3_GB_32 was saved and received the ID: 2629\n",
      "The job S3_SLAB_32 was saved and received the ID: 2630\n",
      "The job S3_GB_33 was saved and received the ID: 2632\n",
      "The job S3_SLAB_33 was saved and received the ID: 2634\n",
      "The job S3_GB_34 was saved and received the ID: 2635\n",
      "The job S3_SLAB_34 was saved and received the ID: 2636\n",
      "The job S3_GB_35 was saved and received the ID: 2638\n",
      "The job S3_SLAB_35 was saved and received the ID: 2639\n"
     ]
    },
    {
     "name": "stderr",
     "output_type": "stream",
     "text": [
      "2023-08-17 00:07:50,958 - pyiron_log - WARNING - Job aborted - please remove it and run again! S3_GB_36\n",
      "2023-08-17 00:07:51,228 - pyiron_log - WARNING - Job aborted\n",
      "2023-08-17 00:07:51,229 - pyiron_log - WARNING - LAMMPS (28 Mar 2023 - Update 1)\n",
      "Reading data file ...\n",
      "  orthogonal box = (0 0 0) to (4.0048391 6.9365848 49.334343)\n",
      "  1 by 1 by 1 MPI processor grid\n",
      "  reading atoms ...\n",
      "  84 atoms\n",
      "  read_data CPU = 0.000 seconds\n",
      "ERROR on proc 0: Not a valid floating-point number: 'Infinity' (src/MANYBODY/pair_eam_alloy.cpp:174)\n",
      "Last command: pair_coeff * * eam/alloy FeCrW_d.eam.alloy Fe Cr W\n",
      "\n"
     ]
    },
    {
     "name": "stdout",
     "output_type": "stream",
     "text": [
      "The job S3_GB_36 was saved and received the ID: 2640\n",
      "The job S3_GB_37 was saved and received the ID: 2641\n",
      "The job S3_SLAB_37 was saved and received the ID: 2642\n",
      "The job S3_GB_38 was saved and received the ID: 2643\n",
      "The job S3_SLAB_38 was saved and received the ID: 2644\n",
      "The job S3_GB_39 was saved and received the ID: 2645\n",
      "The job S3_SLAB_39 was saved and received the ID: 2646\n",
      "The job S3_GB_40 was saved and received the ID: 2647\n",
      "The job S3_SLAB_40 was saved and received the ID: 2648\n"
     ]
    },
    {
     "name": "stderr",
     "output_type": "stream",
     "text": [
      "2023-08-17 00:07:58,249 - pyiron_log - WARNING - Job aborted - please remove it and run again! S3_GB_41\n",
      "2023-08-17 00:07:58,481 - pyiron_log - WARNING - Job aborted\n",
      "2023-08-17 00:07:58,482 - pyiron_log - WARNING - LAMMPS (28 Mar 2023 - Update 1)\n",
      "Reading data file ...\n",
      "  orthogonal box = (0 0 0) to (4.0048391 6.9365848 49.334343)\n",
      "  1 by 1 by 1 MPI processor grid\n",
      "  reading atoms ...\n",
      "  84 atoms\n",
      "  read_data CPU = 0.000 seconds\n",
      "ERROR on proc 0: Not a valid integer number: '0.000000' (src/MEAM/pair_meam.cpp:466)\n",
      "Last command: pair_coeff * * Fe3C_library_Liyanage_2014.meam Fe C Fe3C_Liyanage_2014.meam Fe C\n",
      "\n",
      "2023-08-17 00:07:58,495 - pyiron_log - WARNING - Job aborted - please remove it and run again! S3_GB_42\n"
     ]
    },
    {
     "name": "stdout",
     "output_type": "stream",
     "text": [
      "The job S3_GB_41 was saved and received the ID: 2649\n"
     ]
    },
    {
     "name": "stderr",
     "output_type": "stream",
     "text": [
      "2023-08-17 00:07:58,726 - pyiron_log - WARNING - Job aborted\n",
      "2023-08-17 00:07:58,727 - pyiron_log - WARNING - LAMMPS (28 Mar 2023 - Update 1)\n",
      "Reading data file ...\n",
      "  orthogonal box = (0 0 0) to (4.0048391 6.9365848 49.334343)\n",
      "  1 by 1 by 1 MPI processor grid\n",
      "  reading atoms ...\n",
      "  84 atoms\n",
      "  read_data CPU = 0.000 seconds\n",
      "ERROR on proc 0: Not a valid integer number: '-5.000000' (src/MEAM/pair_meam.cpp:466)\n",
      "Last command: pair_coeff * * library.Fe.meam Fe Fe.meam Fe\n",
      "\n"
     ]
    },
    {
     "name": "stdout",
     "output_type": "stream",
     "text": [
      "The job S3_GB_42 was saved and received the ID: 2650\n",
      "The job S3_GB_43 was saved and received the ID: 2651\n",
      "The job S3_SLAB_43 was saved and received the ID: 2652\n",
      "The job S3_GB_44 was saved and received the ID: 2653\n",
      "The job S3_SLAB_44 was saved and received the ID: 2654\n",
      "The job S3_GB_45 was saved and received the ID: 2655\n",
      "The job S3_SLAB_45 was saved and received the ID: 2656\n",
      "The job S3_GB_46 was saved and received the ID: 2657\n",
      "The job S3_SLAB_46 was saved and received the ID: 2658\n",
      "The job S3_GB_47 was saved and received the ID: 2659\n",
      "The job S3_SLAB_47 was saved and received the ID: 2660\n",
      "The job S3_GB_48 was saved and received the ID: 2661\n",
      "The job S3_SLAB_48 was saved and received the ID: 2662\n"
     ]
    },
    {
     "name": "stderr",
     "output_type": "stream",
     "text": [
      "2023-08-17 00:08:06,902 - pyiron_log - WARNING - Job aborted - please remove it and run again! S3_GB_49\n",
      "2023-08-17 00:08:07,160 - pyiron_log - WARNING - Job aborted\n",
      "2023-08-17 00:08:07,161 - pyiron_log - WARNING - LAMMPS (28 Mar 2023 - Update 1)\n",
      "Reading data file ...\n",
      "  orthogonal box = (0 0 0) to (4.0048391 6.9365848 49.334343)\n",
      "  1 by 1 by 1 MPI processor grid\n",
      "  reading atoms ...\n",
      "  84 atoms\n",
      "  read_data CPU = 0.000 seconds\n",
      "ERROR on proc 0: Not a valid integer number: '-5.000000' (src/MEAM/pair_meam.cpp:466)\n",
      "Last command: pair_coeff * * library.Fe.meam Fe Fe.meam Fe\n",
      "\n"
     ]
    },
    {
     "name": "stdout",
     "output_type": "stream",
     "text": [
      "The job S3_GB_49 was saved and received the ID: 2663\n",
      "The job S3_GB_50 was saved and received the ID: 2664\n",
      "The job S3_SLAB_50 was saved and received the ID: 2666\n",
      "The job S3_GB_51 was saved and received the ID: 2668\n",
      "The job S3_SLAB_51 was saved and received the ID: 2670\n",
      "The job S3_GB_52 was saved and received the ID: 2672\n",
      "The job S3_SLAB_52 was saved and received the ID: 2674\n",
      "The job S3_GB_53 was saved and received the ID: 2677\n",
      "The job S3_SLAB_53 was saved and received the ID: 2679\n",
      "The job S3_GB_54 was saved and received the ID: 2684\n",
      "The job S3_SLAB_54 was saved and received the ID: 2691\n",
      "The job S3_GB_55 was saved and received the ID: 2698\n",
      "The job S3_SLAB_55 was saved and received the ID: 2702\n",
      "The job S3_GB_56 was saved and received the ID: 2707\n",
      "The job S3_SLAB_56 was saved and received the ID: 2713\n",
      "The job S3_GB_57 was saved and received the ID: 2719\n",
      "The job S3_SLAB_57 was saved and received the ID: 2723\n",
      "The job S3_GB_58 was saved and received the ID: 2727\n",
      "The job S3_SLAB_58 was saved and received the ID: 2731\n",
      "The job S3_GB_59 was saved and received the ID: 2736\n",
      "The job S3_SLAB_59 was saved and received the ID: 2745\n"
     ]
    },
    {
     "name": "stderr",
     "output_type": "stream",
     "text": [
      "2023-08-17 00:08:25,321 - pyiron_log - WARNING - Job aborted - please remove it and run again! S3_GB_60\n"
     ]
    },
    {
     "name": "stdout",
     "output_type": "stream",
     "text": [
      "The job S3_GB_61 was saved and received the ID: 2752\n",
      "The job S3_SLAB_61 was saved and received the ID: 2753\n",
      "The job S3_GB_62 was saved and received the ID: 2754\n",
      "The job S3_SLAB_62 was saved and received the ID: 2755\n",
      "The job S3_GB_63 was saved and received the ID: 2756\n",
      "The job S3_SLAB_63 was saved and received the ID: 2757\n",
      "The job S3_GB_64 was saved and received the ID: 2758\n",
      "The job S3_SLAB_64 was saved and received the ID: 2759\n",
      "The job S3_GB_65 was saved and received the ID: 2760\n",
      "The job S3_SLAB_65 was saved and received the ID: 2761\n",
      "The job S3_GB_66 was saved and received the ID: 2762\n",
      "The job S3_SLAB_66 was saved and received the ID: 2763\n",
      "The job S3_GB_67 was saved and received the ID: 2764\n",
      "The job S3_SLAB_67 was saved and received the ID: 2765\n"
     ]
    },
    {
     "name": "stderr",
     "output_type": "stream",
     "text": [
      "2023-08-17 00:08:50,385 - pyiron_log - WARNING - Job aborted - please remove it and run again! S3_GB_68\n",
      "2023-08-17 00:08:50,607 - pyiron_log - WARNING - Job aborted\n",
      "2023-08-17 00:08:50,608 - pyiron_log - WARNING - LAMMPS (28 Mar 2023 - Update 1)\n",
      "Reading data file ...\n",
      "  orthogonal box = (0 0 0) to (4.0048391 6.9365848 49.334343)\n",
      "  1 by 1 by 1 MPI processor grid\n",
      "  reading atoms ...\n",
      "  84 atoms\n",
      "  read_data CPU = 0.000 seconds\n",
      "ERROR: KIM ModelCreate failed (src/KIM/pair_kim.cpp:828)\n",
      "Last command: pair_style kim EAM_Dynamo_AcklandBaconCalder_1997_Fe__MO_142799717516_005\n",
      "\n",
      "2023-08-17 00:08:50,621 - pyiron_log - WARNING - Job aborted - please remove it and run again! S3_GB_69\n"
     ]
    },
    {
     "name": "stdout",
     "output_type": "stream",
     "text": [
      "The job S3_GB_68 was saved and received the ID: 2766\n"
     ]
    },
    {
     "name": "stderr",
     "output_type": "stream",
     "text": [
      "2023-08-17 00:08:50,855 - pyiron_log - WARNING - Job aborted\n",
      "2023-08-17 00:08:50,856 - pyiron_log - WARNING - LAMMPS (28 Mar 2023 - Update 1)\n",
      "Reading data file ...\n",
      "  orthogonal box = (0 0 0) to (4.0048391 6.9365848 49.334343)\n",
      "  1 by 1 by 1 MPI processor grid\n",
      "  reading atoms ...\n",
      "  84 atoms\n",
      "  read_data CPU = 0.000 seconds\n",
      "ERROR: KIM ModelCreate failed (src/KIM/pair_kim.cpp:828)\n",
      "Last command: pair_style kim EAM_Dynamo_AcklandMendelevSrolovitz_2004_FeP__MO_884343146310_005\n",
      "\n",
      "2023-08-17 00:08:50,869 - pyiron_log - WARNING - Job aborted - please remove it and run again! S3_GB_70\n"
     ]
    },
    {
     "name": "stdout",
     "output_type": "stream",
     "text": [
      "The job S3_GB_69 was saved and received the ID: 2767\n"
     ]
    },
    {
     "name": "stderr",
     "output_type": "stream",
     "text": [
      "2023-08-17 00:08:51,125 - pyiron_log - WARNING - Job aborted\n",
      "2023-08-17 00:08:51,126 - pyiron_log - WARNING - LAMMPS (28 Mar 2023 - Update 1)\n",
      "Reading data file ...\n",
      "  orthogonal box = (0 0 0) to (4.0048391 6.9365848 49.334343)\n",
      "  1 by 1 by 1 MPI processor grid\n",
      "  reading atoms ...\n",
      "  84 atoms\n",
      "  read_data CPU = 0.001 seconds\n",
      "ERROR: KIM ModelCreate failed (src/KIM/pair_kim.cpp:828)\n",
      "Last command: pair_style kim EAM_Dynamo_BonnyCastinBullens_2013_FeW__MO_737567242631_000\n",
      "\n",
      "2023-08-17 00:08:51,139 - pyiron_log - WARNING - Job aborted - please remove it and run again! S3_GB_71\n"
     ]
    },
    {
     "name": "stdout",
     "output_type": "stream",
     "text": [
      "The job S3_GB_70 was saved and received the ID: 2768\n"
     ]
    },
    {
     "name": "stderr",
     "output_type": "stream",
     "text": [
      "2023-08-17 00:08:51,365 - pyiron_log - WARNING - Job aborted\n",
      "2023-08-17 00:08:51,366 - pyiron_log - WARNING - LAMMPS (28 Mar 2023 - Update 1)\n",
      "Reading data file ...\n",
      "  orthogonal box = (0 0 0) to (4.0048391 6.9365848 49.334343)\n",
      "  1 by 1 by 1 MPI processor grid\n",
      "  reading atoms ...\n",
      "  84 atoms\n",
      "  read_data CPU = 0.000 seconds\n",
      "ERROR: KIM ModelCreate failed (src/KIM/pair_kim.cpp:828)\n",
      "Last command: pair_style kim EAM_Dynamo_BonnyCastinTerentyev_2013_FeNiCr__MO_763197941039_000\n",
      "\n",
      "2023-08-17 00:08:51,379 - pyiron_log - WARNING - Job aborted - please remove it and run again! S3_GB_72\n"
     ]
    },
    {
     "name": "stdout",
     "output_type": "stream",
     "text": [
      "The job S3_GB_71 was saved and received the ID: 2769\n"
     ]
    },
    {
     "name": "stderr",
     "output_type": "stream",
     "text": [
      "2023-08-17 00:08:51,597 - pyiron_log - WARNING - Job aborted\n",
      "2023-08-17 00:08:51,597 - pyiron_log - WARNING - LAMMPS (28 Mar 2023 - Update 1)\n",
      "Reading data file ...\n",
      "  orthogonal box = (0 0 0) to (4.0048391 6.9365848 49.334343)\n",
      "  1 by 1 by 1 MPI processor grid\n",
      "  reading atoms ...\n",
      "  84 atoms\n",
      "  read_data CPU = 0.000 seconds\n",
      "ERROR: KIM ModelCreate failed (src/KIM/pair_kim.cpp:828)\n",
      "Last command: pair_style kim EAM_Dynamo_BonnyPasianotCastin_2009_FeCuNi__MO_469343973171_005\n",
      "\n",
      "2023-08-17 00:08:51,610 - pyiron_log - WARNING - Job aborted - please remove it and run again! S3_GB_73\n"
     ]
    },
    {
     "name": "stdout",
     "output_type": "stream",
     "text": [
      "The job S3_GB_72 was saved and received the ID: 2770\n"
     ]
    },
    {
     "name": "stderr",
     "output_type": "stream",
     "text": [
      "2023-08-17 00:08:51,838 - pyiron_log - WARNING - Job aborted\n",
      "2023-08-17 00:08:51,839 - pyiron_log - WARNING - LAMMPS (28 Mar 2023 - Update 1)\n",
      "Reading data file ...\n",
      "  orthogonal box = (0 0 0) to (4.0048391 6.9365848 49.334343)\n",
      "  1 by 1 by 1 MPI processor grid\n",
      "  reading atoms ...\n",
      "  84 atoms\n",
      "  read_data CPU = 0.001 seconds\n",
      "ERROR: KIM ModelCreate failed (src/KIM/pair_kim.cpp:828)\n",
      "Last command: pair_style kim EAM_Dynamo_BonnyPasianotMalerba_2009_FeNi__MO_267721408934_005\n",
      "\n",
      "2023-08-17 00:08:51,852 - pyiron_log - WARNING - Job aborted - please remove it and run again! S3_GB_74\n"
     ]
    },
    {
     "name": "stdout",
     "output_type": "stream",
     "text": [
      "The job S3_GB_73 was saved and received the ID: 2771\n"
     ]
    },
    {
     "name": "stderr",
     "output_type": "stream",
     "text": [
      "2023-08-17 00:08:52,059 - pyiron_log - WARNING - Job aborted\n",
      "2023-08-17 00:08:52,060 - pyiron_log - WARNING - LAMMPS (28 Mar 2023 - Update 1)\n",
      "Reading data file ...\n",
      "  orthogonal box = (0 0 0) to (4.0048391 6.9365848 49.334343)\n",
      "  1 by 1 by 1 MPI processor grid\n",
      "  reading atoms ...\n",
      "  84 atoms\n",
      "  read_data CPU = 0.000 seconds\n",
      "ERROR: KIM ModelCreate failed (src/KIM/pair_kim.cpp:828)\n",
      "Last command: pair_style kim EAM_Dynamo_ChamatiPapanicolaouMishin_2006_Fe__MO_960699513424_000\n",
      "\n",
      "2023-08-17 00:08:52,074 - pyiron_log - WARNING - Job aborted - please remove it and run again! S3_GB_75\n"
     ]
    },
    {
     "name": "stdout",
     "output_type": "stream",
     "text": [
      "The job S3_GB_74 was saved and received the ID: 2772\n"
     ]
    },
    {
     "name": "stderr",
     "output_type": "stream",
     "text": [
      "2023-08-17 00:08:52,300 - pyiron_log - WARNING - Job aborted\n",
      "2023-08-17 00:08:52,301 - pyiron_log - WARNING - LAMMPS (28 Mar 2023 - Update 1)\n",
      "Reading data file ...\n",
      "  orthogonal box = (0 0 0) to (4.0048391 6.9365848 49.334343)\n",
      "  1 by 1 by 1 MPI processor grid\n",
      "  reading atoms ...\n",
      "  84 atoms\n",
      "  read_data CPU = 0.001 seconds\n",
      "ERROR: KIM ModelCreate failed (src/KIM/pair_kim.cpp:828)\n",
      "Last command: pair_style kim EAM_Dynamo_HepburnAckland_2008_FeC__MO_143977152728_005\n",
      "\n",
      "2023-08-17 00:08:52,317 - pyiron_log - WARNING - Job aborted - please remove it and run again! S3_GB_76\n"
     ]
    },
    {
     "name": "stdout",
     "output_type": "stream",
     "text": [
      "The job S3_GB_75 was saved and received the ID: 2773\n"
     ]
    },
    {
     "name": "stderr",
     "output_type": "stream",
     "text": [
      "2023-08-17 00:08:52,527 - pyiron_log - WARNING - Job aborted\n",
      "2023-08-17 00:08:52,528 - pyiron_log - WARNING - LAMMPS (28 Mar 2023 - Update 1)\n",
      "Reading data file ...\n",
      "  orthogonal box = (0 0 0) to (4.0048391 6.9365848 49.334343)\n",
      "  1 by 1 by 1 MPI processor grid\n",
      "  reading atoms ...\n",
      "  84 atoms\n",
      "  read_data CPU = 0.000 seconds\n",
      "ERROR: KIM ModelCreate failed (src/KIM/pair_kim.cpp:828)\n",
      "Last command: pair_style kim EAM_Dynamo_Marinica_2007_Fe__MO_466808877130_000\n",
      "\n",
      "2023-08-17 00:08:52,540 - pyiron_log - WARNING - Job aborted - please remove it and run again! S3_GB_77\n"
     ]
    },
    {
     "name": "stdout",
     "output_type": "stream",
     "text": [
      "The job S3_GB_76 was saved and received the ID: 2774\n"
     ]
    },
    {
     "name": "stderr",
     "output_type": "stream",
     "text": [
      "2023-08-17 00:08:52,762 - pyiron_log - WARNING - Job aborted\n",
      "2023-08-17 00:08:52,763 - pyiron_log - WARNING - LAMMPS (28 Mar 2023 - Update 1)\n",
      "Reading data file ...\n",
      "  orthogonal box = (0 0 0) to (4.0048391 6.9365848 49.334343)\n",
      "  1 by 1 by 1 MPI processor grid\n",
      "  reading atoms ...\n",
      "  84 atoms\n",
      "  read_data CPU = 0.000 seconds\n",
      "ERROR: KIM ModelCreate failed (src/KIM/pair_kim.cpp:828)\n",
      "Last command: pair_style kim EAM_Dynamo_Marinica_2011_Fe__MO_255315407910_000\n",
      "\n",
      "2023-08-17 00:08:52,777 - pyiron_log - WARNING - Job aborted - please remove it and run again! S3_GB_78\n"
     ]
    },
    {
     "name": "stdout",
     "output_type": "stream",
     "text": [
      "The job S3_GB_77 was saved and received the ID: 2775\n"
     ]
    },
    {
     "name": "stderr",
     "output_type": "stream",
     "text": [
      "2023-08-17 00:08:52,994 - pyiron_log - WARNING - Job aborted\n",
      "2023-08-17 00:08:52,995 - pyiron_log - WARNING - LAMMPS (28 Mar 2023 - Update 1)\n",
      "Reading data file ...\n",
      "  orthogonal box = (0 0 0) to (4.0048391 6.9365848 49.334343)\n",
      "  1 by 1 by 1 MPI processor grid\n",
      "  reading atoms ...\n",
      "  84 atoms\n",
      "  read_data CPU = 0.000 seconds\n",
      "ERROR: KIM ModelCreate failed (src/KIM/pair_kim.cpp:828)\n",
      "Last command: pair_style kim EAM_Dynamo_MendelevBorovikov_2020_FeNiCr__MO_922363340570_000\n",
      "\n",
      "2023-08-17 00:08:53,008 - pyiron_log - WARNING - Job aborted - please remove it and run again! S3_GB_79\n"
     ]
    },
    {
     "name": "stdout",
     "output_type": "stream",
     "text": [
      "The job S3_GB_78 was saved and received the ID: 2776\n"
     ]
    },
    {
     "name": "stderr",
     "output_type": "stream",
     "text": [
      "2023-08-17 00:08:53,237 - pyiron_log - WARNING - Job aborted\n",
      "2023-08-17 00:08:53,238 - pyiron_log - WARNING - LAMMPS (28 Mar 2023 - Update 1)\n",
      "Reading data file ...\n",
      "  orthogonal box = (0 0 0) to (4.0048391 6.9365848 49.334343)\n",
      "  1 by 1 by 1 MPI processor grid\n",
      "  reading atoms ...\n",
      "  84 atoms\n",
      "  read_data CPU = 0.000 seconds\n",
      "ERROR: KIM ModelCreate failed (src/KIM/pair_kim.cpp:828)\n",
      "Last command: pair_style kim EAM_Dynamo_MendelevHanSon_2007_VFe__MO_249706810527_005\n",
      "\n",
      "2023-08-17 00:08:53,251 - pyiron_log - WARNING - Job aborted - please remove it and run again! S3_GB_80\n"
     ]
    },
    {
     "name": "stdout",
     "output_type": "stream",
     "text": [
      "The job S3_GB_79 was saved and received the ID: 2777\n"
     ]
    },
    {
     "name": "stderr",
     "output_type": "stream",
     "text": [
      "2023-08-17 00:08:53,466 - pyiron_log - WARNING - Job aborted\n",
      "2023-08-17 00:08:53,466 - pyiron_log - WARNING - LAMMPS (28 Mar 2023 - Update 1)\n",
      "Reading data file ...\n",
      "  orthogonal box = (0 0 0) to (4.0048391 6.9365848 49.334343)\n",
      "  1 by 1 by 1 MPI processor grid\n",
      "  reading atoms ...\n",
      "  84 atoms\n",
      "  read_data CPU = 0.000 seconds\n",
      "ERROR: KIM ModelCreate failed (src/KIM/pair_kim.cpp:828)\n",
      "Last command: pair_style kim EAM_Dynamo_MendelevHanSrolovitz_2003Potential2_Fe__MO_769582363439_005\n",
      "\n",
      "2023-08-17 00:08:53,479 - pyiron_log - WARNING - Job aborted - please remove it and run again! S3_GB_81\n"
     ]
    },
    {
     "name": "stdout",
     "output_type": "stream",
     "text": [
      "The job S3_GB_80 was saved and received the ID: 2778\n"
     ]
    },
    {
     "name": "stderr",
     "output_type": "stream",
     "text": [
      "2023-08-17 00:08:53,710 - pyiron_log - WARNING - Job aborted\n",
      "2023-08-17 00:08:53,712 - pyiron_log - WARNING - LAMMPS (28 Mar 2023 - Update 1)\n",
      "Reading data file ...\n",
      "  orthogonal box = (0 0 0) to (4.0048391 6.9365848 49.334343)\n",
      "  1 by 1 by 1 MPI processor grid\n",
      "  reading atoms ...\n",
      "  84 atoms\n",
      "  read_data CPU = 0.000 seconds\n",
      "ERROR: KIM ModelCreate failed (src/KIM/pair_kim.cpp:828)\n",
      "Last command: pair_style kim EAM_Dynamo_MendelevHanSrolovitz_2003Potential5_Fe__MO_942420706858_005\n",
      "\n",
      "2023-08-17 00:08:53,726 - pyiron_log - WARNING - Job aborted - please remove it and run again! S3_GB_82\n"
     ]
    },
    {
     "name": "stdout",
     "output_type": "stream",
     "text": [
      "The job S3_GB_81 was saved and received the ID: 2779\n"
     ]
    },
    {
     "name": "stderr",
     "output_type": "stream",
     "text": [
      "2023-08-17 00:08:53,941 - pyiron_log - WARNING - Job aborted\n",
      "2023-08-17 00:08:53,942 - pyiron_log - WARNING - LAMMPS (28 Mar 2023 - Update 1)\n",
      "Reading data file ...\n",
      "  orthogonal box = (0 0 0) to (4.0048391 6.9365848 49.334343)\n",
      "  1 by 1 by 1 MPI processor grid\n",
      "  reading atoms ...\n",
      "  84 atoms\n",
      "  read_data CPU = 0.000 seconds\n",
      "ERROR: KIM ModelCreate failed (src/KIM/pair_kim.cpp:828)\n",
      "Last command: pair_style kim EAM_Dynamo_MendelevHanSrolovitz_2003_Fe__MO_807997826449_000\n",
      "\n",
      "2023-08-17 00:08:53,953 - pyiron_log - WARNING - Job aborted - please remove it and run again! S3_GB_83\n"
     ]
    },
    {
     "name": "stdout",
     "output_type": "stream",
     "text": [
      "The job S3_GB_82 was saved and received the ID: 2780\n"
     ]
    },
    {
     "name": "stderr",
     "output_type": "stream",
     "text": [
      "2023-08-17 00:08:54,166 - pyiron_log - WARNING - Job aborted\n",
      "2023-08-17 00:08:54,167 - pyiron_log - WARNING - LAMMPS (28 Mar 2023 - Update 1)\n",
      "Reading data file ...\n",
      "  orthogonal box = (0 0 0) to (4.0048391 6.9365848 49.334343)\n",
      "  1 by 1 by 1 MPI processor grid\n",
      "  reading atoms ...\n",
      "  84 atoms\n",
      "  read_data CPU = 0.000 seconds\n",
      "ERROR: KIM ModelCreate failed (src/KIM/pair_kim.cpp:828)\n",
      "Last command: pair_style kim EAM_Dynamo_MendelevSrolovitzAckland_2005_AlFe__MO_577453891941_005\n",
      "\n",
      "2023-08-17 00:08:54,181 - pyiron_log - WARNING - Job aborted - please remove it and run again! S3_GB_84\n"
     ]
    },
    {
     "name": "stdout",
     "output_type": "stream",
     "text": [
      "The job S3_GB_83 was saved and received the ID: 2781\n"
     ]
    },
    {
     "name": "stderr",
     "output_type": "stream",
     "text": [
      "2023-08-17 00:08:54,406 - pyiron_log - WARNING - Job aborted\n",
      "2023-08-17 00:08:54,407 - pyiron_log - WARNING - LAMMPS (28 Mar 2023 - Update 1)\n",
      "Reading data file ...\n",
      "  orthogonal box = (0 0 0) to (4.0048391 6.9365848 49.334343)\n",
      "  1 by 1 by 1 MPI processor grid\n",
      "  reading atoms ...\n",
      "  84 atoms\n",
      "  read_data CPU = 0.000 seconds\n",
      "ERROR: KIM ModelCreate failed (src/KIM/pair_kim.cpp:828)\n",
      "Last command: pair_style kim EAM_Dynamo_Mendelev_2003_Fe__MO_546673549085_000\n",
      "\n",
      "2023-08-17 00:08:54,421 - pyiron_log - WARNING - Job aborted - please remove it and run again! S3_GB_85\n"
     ]
    },
    {
     "name": "stdout",
     "output_type": "stream",
     "text": [
      "The job S3_GB_84 was saved and received the ID: 2782\n"
     ]
    },
    {
     "name": "stderr",
     "output_type": "stream",
     "text": [
      "2023-08-17 00:08:54,637 - pyiron_log - WARNING - Job aborted\n",
      "2023-08-17 00:08:54,638 - pyiron_log - WARNING - LAMMPS (28 Mar 2023 - Update 1)\n",
      "Reading data file ...\n",
      "  orthogonal box = (0 0 0) to (4.0048391 6.9365848 49.334343)\n",
      "  1 by 1 by 1 MPI processor grid\n",
      "  reading atoms ...\n",
      "  84 atoms\n",
      "  read_data CPU = 0.000 seconds\n",
      "ERROR: KIM ModelCreate failed (src/KIM/pair_kim.cpp:828)\n",
      "Last command: pair_style kim EAM_Dynamo_ZhouJohnsonWadley_2004NISTretabulation_Fe__MO_681088298208_000\n",
      "\n",
      "2023-08-17 00:08:54,650 - pyiron_log - WARNING - Job aborted - please remove it and run again! S3_GB_86\n"
     ]
    },
    {
     "name": "stdout",
     "output_type": "stream",
     "text": [
      "The job S3_GB_85 was saved and received the ID: 2783\n"
     ]
    },
    {
     "name": "stderr",
     "output_type": "stream",
     "text": [
      "2023-08-17 00:08:54,864 - pyiron_log - WARNING - Job aborted\n",
      "2023-08-17 00:08:54,864 - pyiron_log - WARNING - LAMMPS (28 Mar 2023 - Update 1)\n",
      "Reading data file ...\n",
      "  orthogonal box = (0 0 0) to (4.0048391 6.9365848 49.334343)\n",
      "  1 by 1 by 1 MPI processor grid\n",
      "  reading atoms ...\n",
      "  84 atoms\n",
      "  read_data CPU = 0.000 seconds\n",
      "ERROR: KIM ModelCreate failed (src/KIM/pair_kim.cpp:828)\n",
      "Last command: pair_style kim EAM_Dynamo_ZhouJohnsonWadley_2004_Fe__MO_650279905230_005\n",
      "\n",
      "2023-08-17 00:08:54,882 - pyiron_log - WARNING - Job aborted - please remove it and run again! S3_GB_87\n"
     ]
    },
    {
     "name": "stdout",
     "output_type": "stream",
     "text": [
      "The job S3_GB_86 was saved and received the ID: 2784\n"
     ]
    },
    {
     "name": "stderr",
     "output_type": "stream",
     "text": [
      "2023-08-17 00:08:55,103 - pyiron_log - WARNING - Job aborted\n",
      "2023-08-17 00:08:55,104 - pyiron_log - WARNING - LAMMPS (28 Mar 2023 - Update 1)\n",
      "Reading data file ...\n",
      "  orthogonal box = (0 0 0) to (4.0048391 6.9365848 49.334343)\n",
      "  1 by 1 by 1 MPI processor grid\n",
      "  reading atoms ...\n",
      "  84 atoms\n",
      "  read_data CPU = 0.000 seconds\n",
      "ERROR: KIM ModelCreate failed (src/KIM/pair_kim.cpp:828)\n",
      "Last command: pair_style kim EAM_Magnetic2GQuintic_ChiesaDerletDudarev_2011_Fe__MO_140444321607_002\n",
      "\n",
      "2023-08-17 00:08:55,115 - pyiron_log - WARNING - Job aborted - please remove it and run again! S3_GB_88\n"
     ]
    },
    {
     "name": "stdout",
     "output_type": "stream",
     "text": [
      "The job S3_GB_87 was saved and received the ID: 2785\n"
     ]
    },
    {
     "name": "stderr",
     "output_type": "stream",
     "text": [
      "2023-08-17 00:08:55,321 - pyiron_log - WARNING - Job aborted\n",
      "2023-08-17 00:08:55,322 - pyiron_log - WARNING - LAMMPS (28 Mar 2023 - Update 1)\n",
      "Reading data file ...\n",
      "  orthogonal box = (0 0 0) to (4.0048391 6.9365848 49.334343)\n",
      "  1 by 1 by 1 MPI processor grid\n",
      "  reading atoms ...\n",
      "  84 atoms\n",
      "  read_data CPU = 0.000 seconds\n",
      "ERROR: KIM ModelCreate failed (src/KIM/pair_kim.cpp:828)\n",
      "Last command: pair_style kim EAM_MagneticCubic_DudarevDerlet_2005_Fe__MO_135034229282_002\n",
      "\n",
      "2023-08-17 00:08:55,334 - pyiron_log - WARNING - Job aborted - please remove it and run again! S3_GB_89\n"
     ]
    },
    {
     "name": "stdout",
     "output_type": "stream",
     "text": [
      "The job S3_GB_88 was saved and received the ID: 2786\n"
     ]
    },
    {
     "name": "stderr",
     "output_type": "stream",
     "text": [
      "2023-08-17 00:08:55,550 - pyiron_log - WARNING - Job aborted\n",
      "2023-08-17 00:08:55,552 - pyiron_log - WARNING - LAMMPS (28 Mar 2023 - Update 1)\n",
      "Reading data file ...\n",
      "  orthogonal box = (0 0 0) to (4.0048391 6.9365848 49.334343)\n",
      "  1 by 1 by 1 MPI processor grid\n",
      "  reading atoms ...\n",
      "  84 atoms\n",
      "  read_data CPU = 0.000 seconds\n",
      "ERROR: KIM ModelCreate failed (src/KIM/pair_kim.cpp:828)\n",
      "Last command: pair_style kim EAM_MagneticCubic_MendelevHanSrolovitz_2003_Fe__MO_856295952425_002\n",
      "\n",
      "2023-08-17 00:08:55,564 - pyiron_log - WARNING - Job aborted - please remove it and run again! S3_GB_90\n"
     ]
    },
    {
     "name": "stdout",
     "output_type": "stream",
     "text": [
      "The job S3_GB_89 was saved and received the ID: 2787\n"
     ]
    },
    {
     "name": "stderr",
     "output_type": "stream",
     "text": [
      "2023-08-17 00:08:55,772 - pyiron_log - WARNING - Job aborted\n",
      "2023-08-17 00:08:55,773 - pyiron_log - WARNING - LAMMPS (28 Mar 2023 - Update 1)\n",
      "Reading data file ...\n",
      "  orthogonal box = (0 0 0) to (4.0048391 6.9365848 49.334343)\n",
      "  1 by 1 by 1 MPI processor grid\n",
      "  reading atoms ...\n",
      "  84 atoms\n",
      "  read_data CPU = 0.000 seconds\n",
      "ERROR: KIM ModelCreate failed (src/KIM/pair_kim.cpp:828)\n",
      "Last command: pair_style kim MEAM_LAMMPS_AsadiZaeemNouranian_2015_Fe__MO_492310898779_000\n",
      "\n",
      "2023-08-17 00:08:55,784 - pyiron_log - WARNING - Job aborted - please remove it and run again! S3_GB_91\n"
     ]
    },
    {
     "name": "stdout",
     "output_type": "stream",
     "text": [
      "The job S3_GB_90 was saved and received the ID: 2788\n"
     ]
    },
    {
     "name": "stderr",
     "output_type": "stream",
     "text": [
      "2023-08-17 00:08:55,989 - pyiron_log - WARNING - Job aborted\n",
      "2023-08-17 00:08:55,989 - pyiron_log - WARNING - LAMMPS (28 Mar 2023 - Update 1)\n",
      "Reading data file ...\n",
      "  orthogonal box = (0 0 0) to (4.0048391 6.9365848 49.334343)\n",
      "  1 by 1 by 1 MPI processor grid\n",
      "  reading atoms ...\n",
      "  84 atoms\n",
      "  read_data CPU = 0.000 seconds\n",
      "ERROR: KIM ModelCreate failed (src/KIM/pair_kim.cpp:828)\n",
      "Last command: pair_style kim MEAM_LAMMPS_ChoiJoSohn_2018_CoNiCrFeMn__MO_115454747503_000\n",
      "\n",
      "2023-08-17 00:08:56,003 - pyiron_log - WARNING - Job aborted - please remove it and run again! S3_GB_92\n"
     ]
    },
    {
     "name": "stdout",
     "output_type": "stream",
     "text": [
      "The job S3_GB_91 was saved and received the ID: 2789\n"
     ]
    },
    {
     "name": "stderr",
     "output_type": "stream",
     "text": [
      "2023-08-17 00:08:56,217 - pyiron_log - WARNING - Job aborted\n",
      "2023-08-17 00:08:56,217 - pyiron_log - WARNING - LAMMPS (28 Mar 2023 - Update 1)\n",
      "Reading data file ...\n",
      "  orthogonal box = (0 0 0) to (4.0048391 6.9365848 49.334343)\n",
      "  1 by 1 by 1 MPI processor grid\n",
      "  reading atoms ...\n",
      "  84 atoms\n",
      "  read_data CPU = 0.000 seconds\n",
      "ERROR: KIM ModelCreate failed (src/KIM/pair_kim.cpp:828)\n",
      "Last command: pair_style kim MEAM_LAMMPS_ChoiKimSeol_2017_CoFe__MO_179158257180_000\n",
      "\n",
      "2023-08-17 00:08:56,229 - pyiron_log - WARNING - Job aborted - please remove it and run again! S3_GB_93\n"
     ]
    },
    {
     "name": "stdout",
     "output_type": "stream",
     "text": [
      "The job S3_GB_92 was saved and received the ID: 2790\n"
     ]
    },
    {
     "name": "stderr",
     "output_type": "stream",
     "text": [
      "2023-08-17 00:08:56,452 - pyiron_log - WARNING - Job aborted\n",
      "2023-08-17 00:08:56,453 - pyiron_log - WARNING - LAMMPS (28 Mar 2023 - Update 1)\n",
      "Reading data file ...\n",
      "  orthogonal box = (0 0 0) to (4.0048391 6.9365848 49.334343)\n",
      "  1 by 1 by 1 MPI processor grid\n",
      "  reading atoms ...\n",
      "  84 atoms\n",
      "  read_data CPU = 0.000 seconds\n",
      "ERROR: KIM ModelCreate failed (src/KIM/pair_kim.cpp:828)\n",
      "Last command: pair_style kim MEAM_LAMMPS_EtesamiAsadi_2018_Fe__MO_549900287421_000\n",
      "\n",
      "2023-08-17 00:08:56,466 - pyiron_log - WARNING - Job aborted - please remove it and run again! S3_GB_94\n"
     ]
    },
    {
     "name": "stdout",
     "output_type": "stream",
     "text": [
      "The job S3_GB_93 was saved and received the ID: 2791\n"
     ]
    },
    {
     "name": "stderr",
     "output_type": "stream",
     "text": [
      "2023-08-17 00:08:56,683 - pyiron_log - WARNING - Job aborted\n",
      "2023-08-17 00:08:56,684 - pyiron_log - WARNING - LAMMPS (28 Mar 2023 - Update 1)\n",
      "Reading data file ...\n",
      "  orthogonal box = (0 0 0) to (4.0048391 6.9365848 49.334343)\n",
      "  1 by 1 by 1 MPI processor grid\n",
      "  reading atoms ...\n",
      "  84 atoms\n",
      "  read_data CPU = 0.000 seconds\n",
      "ERROR: KIM ModelCreate failed (src/KIM/pair_kim.cpp:828)\n",
      "Last command: pair_style kim MEAM_LAMMPS_JelinekGrohHorstemeyer_2012_AlSiMgCuFe__MO_262519520678_000\n",
      "\n",
      "2023-08-17 00:08:56,697 - pyiron_log - WARNING - Job aborted - please remove it and run again! S3_GB_95\n"
     ]
    },
    {
     "name": "stdout",
     "output_type": "stream",
     "text": [
      "The job S3_GB_94 was saved and received the ID: 2792\n"
     ]
    },
    {
     "name": "stderr",
     "output_type": "stream",
     "text": [
      "2023-08-17 00:08:57,180 - pyiron_log - WARNING - Job aborted\n",
      "2023-08-17 00:08:57,181 - pyiron_log - WARNING - LAMMPS (28 Mar 2023 - Update 1)\n",
      "Reading data file ...\n",
      "  orthogonal box = (0 0 0) to (4.0048391 6.9365848 49.334343)\n",
      "  1 by 1 by 1 MPI processor grid\n",
      "  reading atoms ...\n",
      "  84 atoms\n",
      "  read_data CPU = 0.000 seconds\n",
      "ERROR: KIM ModelCreate failed (src/KIM/pair_kim.cpp:828)\n",
      "Last command: pair_style kim MEAM_LAMMPS_JeongParkDo_2018_PdFe__MO_924736622203_000\n",
      "\n",
      "2023-08-17 00:08:57,193 - pyiron_log - WARNING - Job aborted - please remove it and run again! S3_GB_96\n"
     ]
    },
    {
     "name": "stdout",
     "output_type": "stream",
     "text": [
      "The job S3_GB_95 was saved and received the ID: 2793\n"
     ]
    },
    {
     "name": "stderr",
     "output_type": "stream",
     "text": [
      "2023-08-17 00:08:57,407 - pyiron_log - WARNING - Job aborted\n",
      "2023-08-17 00:08:57,408 - pyiron_log - WARNING - LAMMPS (28 Mar 2023 - Update 1)\n",
      "Reading data file ...\n",
      "  orthogonal box = (0 0 0) to (4.0048391 6.9365848 49.334343)\n",
      "  1 by 1 by 1 MPI processor grid\n",
      "  reading atoms ...\n",
      "  84 atoms\n",
      "  read_data CPU = 0.000 seconds\n",
      "ERROR: KIM ModelCreate failed (src/KIM/pair_kim.cpp:828)\n",
      "Last command: pair_style kim MEAM_LAMMPS_KimJungLee_2009_FeTiC__MO_110119204723_000\n",
      "\n",
      "2023-08-17 00:08:57,420 - pyiron_log - WARNING - Job aborted - please remove it and run again! S3_GB_97\n"
     ]
    },
    {
     "name": "stdout",
     "output_type": "stream",
     "text": [
      "The job S3_GB_96 was saved and received the ID: 2794\n"
     ]
    },
    {
     "name": "stderr",
     "output_type": "stream",
     "text": [
      "2023-08-17 00:08:57,632 - pyiron_log - WARNING - Job aborted\n",
      "2023-08-17 00:08:57,633 - pyiron_log - WARNING - LAMMPS (28 Mar 2023 - Update 1)\n",
      "Reading data file ...\n",
      "  orthogonal box = (0 0 0) to (4.0048391 6.9365848 49.334343)\n",
      "  1 by 1 by 1 MPI processor grid\n",
      "  reading atoms ...\n",
      "  84 atoms\n",
      "  read_data CPU = 0.000 seconds\n",
      "ERROR: KIM ModelCreate failed (src/KIM/pair_kim.cpp:828)\n",
      "Last command: pair_style kim MEAM_LAMMPS_KimJungLee_2010_FeNbC__MO_072689718616_000\n",
      "\n",
      "2023-08-17 00:08:57,644 - pyiron_log - WARNING - Job aborted - please remove it and run again! S3_GB_98\n"
     ]
    },
    {
     "name": "stdout",
     "output_type": "stream",
     "text": [
      "The job S3_GB_97 was saved and received the ID: 2795\n"
     ]
    },
    {
     "name": "stderr",
     "output_type": "stream",
     "text": [
      "2023-08-17 00:08:57,853 - pyiron_log - WARNING - Job aborted\n",
      "2023-08-17 00:08:57,854 - pyiron_log - WARNING - LAMMPS (28 Mar 2023 - Update 1)\n",
      "Reading data file ...\n",
      "  orthogonal box = (0 0 0) to (4.0048391 6.9365848 49.334343)\n",
      "  1 by 1 by 1 MPI processor grid\n",
      "  reading atoms ...\n",
      "  84 atoms\n",
      "  read_data CPU = 0.000 seconds\n",
      "ERROR: KIM ModelCreate failed (src/KIM/pair_kim.cpp:828)\n",
      "Last command: pair_style kim MEAM_LAMMPS_KimLee_2006_PtFe__MO_343168101490_000\n",
      "\n",
      "2023-08-17 00:08:57,866 - pyiron_log - WARNING - Job aborted - please remove it and run again! S3_GB_99\n"
     ]
    },
    {
     "name": "stdout",
     "output_type": "stream",
     "text": [
      "The job S3_GB_98 was saved and received the ID: 2796\n"
     ]
    },
    {
     "name": "stderr",
     "output_type": "stream",
     "text": [
      "2023-08-17 00:08:58,083 - pyiron_log - WARNING - Job aborted\n",
      "2023-08-17 00:08:58,084 - pyiron_log - WARNING - LAMMPS (28 Mar 2023 - Update 1)\n",
      "Reading data file ...\n",
      "  orthogonal box = (0 0 0) to (4.0048391 6.9365848 49.334343)\n",
      "  1 by 1 by 1 MPI processor grid\n",
      "  reading atoms ...\n",
      "  84 atoms\n",
      "  read_data CPU = 0.000 seconds\n",
      "ERROR: KIM ModelCreate failed (src/KIM/pair_kim.cpp:828)\n",
      "Last command: pair_style kim MEAM_LAMMPS_KimShinLee_2009_FeMn__MO_058735400462_000\n",
      "\n",
      "2023-08-17 00:08:58,097 - pyiron_log - WARNING - Job aborted - please remove it and run again! S3_GB_100\n"
     ]
    },
    {
     "name": "stdout",
     "output_type": "stream",
     "text": [
      "The job S3_GB_99 was saved and received the ID: 2797\n"
     ]
    },
    {
     "name": "stderr",
     "output_type": "stream",
     "text": [
      "2023-08-17 00:08:58,318 - pyiron_log - WARNING - Job aborted\n",
      "2023-08-17 00:08:58,319 - pyiron_log - WARNING - LAMMPS (28 Mar 2023 - Update 1)\n",
      "Reading data file ...\n",
      "  orthogonal box = (0 0 0) to (4.0048391 6.9365848 49.334343)\n",
      "  1 by 1 by 1 MPI processor grid\n",
      "  reading atoms ...\n",
      "  84 atoms\n",
      "  read_data CPU = 0.000 seconds\n",
      "ERROR: KIM ModelCreate failed (src/KIM/pair_kim.cpp:828)\n",
      "Last command: pair_style kim MEAM_LAMMPS_KoJimLee_2012_FeP__MO_179420363944_000\n",
      "\n",
      "2023-08-17 00:08:58,332 - pyiron_log - WARNING - Job aborted - please remove it and run again! S3_GB_101\n"
     ]
    },
    {
     "name": "stdout",
     "output_type": "stream",
     "text": [
      "The job S3_GB_100 was saved and received the ID: 2798\n"
     ]
    },
    {
     "name": "stderr",
     "output_type": "stream",
     "text": [
      "2023-08-17 00:08:58,570 - pyiron_log - WARNING - Job aborted\n",
      "2023-08-17 00:08:58,571 - pyiron_log - WARNING - LAMMPS (28 Mar 2023 - Update 1)\n",
      "Reading data file ...\n",
      "  orthogonal box = (0 0 0) to (4.0048391 6.9365848 49.334343)\n",
      "  1 by 1 by 1 MPI processor grid\n",
      "  reading atoms ...\n",
      "  84 atoms\n",
      "  read_data CPU = 0.000 seconds\n",
      "ERROR: KIM ModelCreate failed (src/KIM/pair_kim.cpp:828)\n",
      "Last command: pair_style kim MEAM_LAMMPS_LeeJang_2007_FeH__MO_095610951957_000\n",
      "\n",
      "2023-08-17 00:08:58,586 - pyiron_log - WARNING - Job aborted - please remove it and run again! S3_GB_102\n"
     ]
    },
    {
     "name": "stdout",
     "output_type": "stream",
     "text": [
      "The job S3_GB_101 was saved and received the ID: 2799\n"
     ]
    },
    {
     "name": "stderr",
     "output_type": "stream",
     "text": [
      "2023-08-17 00:08:58,801 - pyiron_log - WARNING - Job aborted\n",
      "2023-08-17 00:08:58,802 - pyiron_log - WARNING - LAMMPS (28 Mar 2023 - Update 1)\n",
      "Reading data file ...\n",
      "  orthogonal box = (0 0 0) to (4.0048391 6.9365848 49.334343)\n",
      "  1 by 1 by 1 MPI processor grid\n",
      "  reading atoms ...\n",
      "  84 atoms\n",
      "  read_data CPU = 0.000 seconds\n",
      "ERROR: KIM ModelCreate failed (src/KIM/pair_kim.cpp:828)\n",
      "Last command: pair_style kim MEAM_LAMMPS_LeeLeeKim_2006_FeN__MO_432861766738_000\n",
      "\n",
      "2023-08-17 00:08:58,817 - pyiron_log - WARNING - Job aborted - please remove it and run again! S3_GB_103\n"
     ]
    },
    {
     "name": "stdout",
     "output_type": "stream",
     "text": [
      "The job S3_GB_102 was saved and received the ID: 2800\n"
     ]
    },
    {
     "name": "stderr",
     "output_type": "stream",
     "text": [
      "2023-08-17 00:08:59,060 - pyiron_log - WARNING - Job aborted\n",
      "2023-08-17 00:08:59,061 - pyiron_log - WARNING - LAMMPS (28 Mar 2023 - Update 1)\n",
      "Reading data file ...\n",
      "  orthogonal box = (0 0 0) to (4.0048391 6.9365848 49.334343)\n",
      "  1 by 1 by 1 MPI processor grid\n",
      "  reading atoms ...\n",
      "  84 atoms\n",
      "  read_data CPU = 0.000 seconds\n",
      "ERROR: KIM ModelCreate failed (src/KIM/pair_kim.cpp:828)\n",
      "Last command: pair_style kim MEAM_LAMMPS_LeeLee_2010_FeAl__MO_332211522050_000\n",
      "\n",
      "2023-08-17 00:08:59,075 - pyiron_log - WARNING - Job aborted - please remove it and run again! S3_GB_104\n"
     ]
    },
    {
     "name": "stdout",
     "output_type": "stream",
     "text": [
      "The job S3_GB_103 was saved and received the ID: 2801\n"
     ]
    },
    {
     "name": "stderr",
     "output_type": "stream",
     "text": [
      "2023-08-17 00:08:59,296 - pyiron_log - WARNING - Job aborted\n",
      "2023-08-17 00:08:59,296 - pyiron_log - WARNING - LAMMPS (28 Mar 2023 - Update 1)\n",
      "Reading data file ...\n",
      "  orthogonal box = (0 0 0) to (4.0048391 6.9365848 49.334343)\n",
      "  1 by 1 by 1 MPI processor grid\n",
      "  reading atoms ...\n",
      "  84 atoms\n",
      "  read_data CPU = 0.001 seconds\n",
      "ERROR: KIM ModelCreate failed (src/KIM/pair_kim.cpp:828)\n",
      "Last command: pair_style kim MEAM_LAMMPS_LeeWirthShim_2005_FeCu__MO_063626065437_000\n",
      "\n",
      "2023-08-17 00:08:59,310 - pyiron_log - WARNING - Job aborted - please remove it and run again! S3_GB_105\n"
     ]
    },
    {
     "name": "stdout",
     "output_type": "stream",
     "text": [
      "The job S3_GB_104 was saved and received the ID: 2802\n"
     ]
    },
    {
     "name": "stderr",
     "output_type": "stream",
     "text": [
      "2023-08-17 00:08:59,556 - pyiron_log - WARNING - Job aborted\n",
      "2023-08-17 00:08:59,557 - pyiron_log - WARNING - LAMMPS (28 Mar 2023 - Update 1)\n",
      "Reading data file ...\n",
      "  orthogonal box = (0 0 0) to (4.0048391 6.9365848 49.334343)\n",
      "  1 by 1 by 1 MPI processor grid\n",
      "  reading atoms ...\n",
      "  84 atoms\n",
      "  read_data CPU = 0.000 seconds\n",
      "ERROR: KIM ModelCreate failed (src/KIM/pair_kim.cpp:828)\n",
      "Last command: pair_style kim MEAM_LAMMPS_Lee_2006_FeC__MO_856956178669_000\n",
      "\n",
      "2023-08-17 00:08:59,570 - pyiron_log - WARNING - Job aborted - please remove it and run again! S3_GB_106\n"
     ]
    },
    {
     "name": "stdout",
     "output_type": "stream",
     "text": [
      "The job S3_GB_105 was saved and received the ID: 2803\n"
     ]
    },
    {
     "name": "stderr",
     "output_type": "stream",
     "text": [
      "2023-08-17 00:08:59,785 - pyiron_log - WARNING - Job aborted\n",
      "2023-08-17 00:08:59,786 - pyiron_log - WARNING - LAMMPS (28 Mar 2023 - Update 1)\n",
      "Reading data file ...\n",
      "  orthogonal box = (0 0 0) to (4.0048391 6.9365848 49.334343)\n",
      "  1 by 1 by 1 MPI processor grid\n",
      "  reading atoms ...\n",
      "  84 atoms\n",
      "  read_data CPU = 0.000 seconds\n",
      "ERROR: KIM ModelCreate failed (src/KIM/pair_kim.cpp:828)\n",
      "Last command: pair_style kim MEAM_LAMMPS_LiyanageKimHouze_2014_FeC__MO_075279800195_000\n",
      "\n",
      "2023-08-17 00:08:59,798 - pyiron_log - WARNING - Job aborted - please remove it and run again! S3_GB_107\n"
     ]
    },
    {
     "name": "stdout",
     "output_type": "stream",
     "text": [
      "The job S3_GB_106 was saved and received the ID: 2804\n"
     ]
    },
    {
     "name": "stderr",
     "output_type": "stream",
     "text": [
      "2023-08-17 00:09:00,008 - pyiron_log - WARNING - Job aborted\n",
      "2023-08-17 00:09:00,008 - pyiron_log - WARNING - LAMMPS (28 Mar 2023 - Update 1)\n",
      "Reading data file ...\n",
      "  orthogonal box = (0 0 0) to (4.0048391 6.9365848 49.334343)\n",
      "  1 by 1 by 1 MPI processor grid\n",
      "  reading atoms ...\n",
      "  84 atoms\n",
      "  read_data CPU = 0.000 seconds\n",
      "ERROR: KIM ModelCreate failed (src/KIM/pair_kim.cpp:828)\n",
      "Last command: pair_style kim MEAM_LAMMPS_SaLee_2008_FeTi__MO_260546967793_000\n",
      "\n",
      "2023-08-17 00:09:00,024 - pyiron_log - WARNING - Job aborted - please remove it and run again! S3_GB_108\n"
     ]
    },
    {
     "name": "stdout",
     "output_type": "stream",
     "text": [
      "The job S3_GB_107 was saved and received the ID: 2805\n"
     ]
    },
    {
     "name": "stderr",
     "output_type": "stream",
     "text": [
      "2023-08-17 00:09:00,261 - pyiron_log - WARNING - Job aborted\n",
      "2023-08-17 00:09:00,262 - pyiron_log - WARNING - LAMMPS (28 Mar 2023 - Update 1)\n",
      "Reading data file ...\n",
      "  orthogonal box = (0 0 0) to (4.0048391 6.9365848 49.334343)\n",
      "  1 by 1 by 1 MPI processor grid\n",
      "  reading atoms ...\n",
      "  84 atoms\n",
      "  read_data CPU = 0.001 seconds\n",
      "ERROR: KIM ModelCreate failed (src/KIM/pair_kim.cpp:828)\n",
      "Last command: pair_style kim MEAM_LAMMPS_SaLee_2008_NbFe__MO_162036141261_000\n",
      "\n",
      "2023-08-17 00:09:00,274 - pyiron_log - WARNING - Job aborted - please remove it and run again! S3_GB_109\n"
     ]
    },
    {
     "name": "stdout",
     "output_type": "stream",
     "text": [
      "The job S3_GB_108 was saved and received the ID: 2806\n"
     ]
    },
    {
     "name": "stderr",
     "output_type": "stream",
     "text": [
      "2023-08-17 00:09:00,492 - pyiron_log - WARNING - Job aborted\n",
      "2023-08-17 00:09:00,493 - pyiron_log - WARNING - LAMMPS (28 Mar 2023 - Update 1)\n",
      "Reading data file ...\n",
      "  orthogonal box = (0 0 0) to (4.0048391 6.9365848 49.334343)\n",
      "  1 by 1 by 1 MPI processor grid\n",
      "  reading atoms ...\n",
      "  84 atoms\n",
      "  read_data CPU = 0.001 seconds\n",
      "ERROR: KIM ModelCreate failed (src/KIM/pair_kim.cpp:828)\n",
      "Last command: pair_style kim MEAM_LAMMPS_WuLeeSu_2017_NiCrFe__MO_912636107108_000\n",
      "\n",
      "2023-08-17 00:09:00,507 - pyiron_log - WARNING - Job aborted - please remove it and run again! S3_GB_110\n"
     ]
    },
    {
     "name": "stdout",
     "output_type": "stream",
     "text": [
      "The job S3_GB_109 was saved and received the ID: 2807\n"
     ]
    },
    {
     "name": "stderr",
     "output_type": "stream",
     "text": [
      "2023-08-17 00:09:00,735 - pyiron_log - WARNING - Job aborted\n",
      "2023-08-17 00:09:00,737 - pyiron_log - WARNING - LAMMPS (28 Mar 2023 - Update 1)\n",
      "Reading data file ...\n",
      "  orthogonal box = (0 0 0) to (4.0048391 6.9365848 49.334343)\n",
      "  1 by 1 by 1 MPI processor grid\n",
      "  reading atoms ...\n",
      "  84 atoms\n",
      "  read_data CPU = 0.000 seconds\n",
      "ERROR: KIM ModelCreate failed (src/KIM/pair_kim.cpp:828)\n",
      "Last command: pair_style kim MEAM_LAMMPS_WuLeeSu_2017_NiFe__MO_321233176498_000\n",
      "\n",
      "2023-08-17 00:09:00,752 - pyiron_log - WARNING - Job aborted - please remove it and run again! S3_GB_111\n"
     ]
    },
    {
     "name": "stdout",
     "output_type": "stream",
     "text": [
      "The job S3_GB_110 was saved and received the ID: 2808\n"
     ]
    },
    {
     "name": "stderr",
     "output_type": "stream",
     "text": [
      "2023-08-17 00:09:00,971 - pyiron_log - WARNING - Job aborted\n",
      "2023-08-17 00:09:00,972 - pyiron_log - WARNING - LAMMPS (28 Mar 2023 - Update 1)\n",
      "Reading data file ...\n",
      "  orthogonal box = (0 0 0) to (4.0048391 6.9365848 49.334343)\n",
      "  1 by 1 by 1 MPI processor grid\n",
      "  reading atoms ...\n",
      "  84 atoms\n",
      "  read_data CPU = 0.001 seconds\n",
      "ERROR: KIM ModelCreate failed (src/KIM/pair_kim.cpp:828)\n",
      "Last command: pair_style kim MJ_MorrisAgaLevashov_2008_Fe__MO_857282754307_003\n",
      "\n",
      "2023-08-17 00:09:00,985 - pyiron_log - WARNING - Job aborted - please remove it and run again! S3_GB_112\n"
     ]
    },
    {
     "name": "stdout",
     "output_type": "stream",
     "text": [
      "The job S3_GB_111 was saved and received the ID: 2809\n"
     ]
    },
    {
     "name": "stderr",
     "output_type": "stream",
     "text": [
      "2023-08-17 00:09:01,205 - pyiron_log - WARNING - Job aborted\n",
      "2023-08-17 00:09:01,206 - pyiron_log - WARNING - LAMMPS (28 Mar 2023 - Update 1)\n",
      "Reading data file ...\n",
      "  orthogonal box = (0 0 0) to (4.0048391 6.9365848 49.334343)\n",
      "  1 by 1 by 1 MPI processor grid\n",
      "  reading atoms ...\n",
      "  84 atoms\n",
      "  read_data CPU = 0.001 seconds\n",
      "ERROR: KIM ModelCreate failed (src/KIM/pair_kim.cpp:828)\n",
      "Last command: pair_style kim Morse_Shifted_GirifalcoWeizer_1959HighCutoff_Fe__MO_147603128437_004\n",
      "\n",
      "2023-08-17 00:09:01,218 - pyiron_log - WARNING - Job aborted - please remove it and run again! S3_GB_113\n"
     ]
    },
    {
     "name": "stdout",
     "output_type": "stream",
     "text": [
      "The job S3_GB_112 was saved and received the ID: 2810\n"
     ]
    },
    {
     "name": "stderr",
     "output_type": "stream",
     "text": [
      "2023-08-17 00:09:01,452 - pyiron_log - WARNING - Job aborted\n",
      "2023-08-17 00:09:01,453 - pyiron_log - WARNING - LAMMPS (28 Mar 2023 - Update 1)\n",
      "Reading data file ...\n",
      "  orthogonal box = (0 0 0) to (4.0048391 6.9365848 49.334343)\n",
      "  1 by 1 by 1 MPI processor grid\n",
      "  reading atoms ...\n",
      "  84 atoms\n",
      "  read_data CPU = 0.000 seconds\n",
      "ERROR: KIM ModelCreate failed (src/KIM/pair_kim.cpp:828)\n",
      "Last command: pair_style kim Morse_Shifted_GirifalcoWeizer_1959LowCutoff_Fe__MO_331285495617_004\n",
      "\n",
      "2023-08-17 00:09:01,465 - pyiron_log - WARNING - Job aborted - please remove it and run again! S3_GB_114\n"
     ]
    },
    {
     "name": "stdout",
     "output_type": "stream",
     "text": [
      "The job S3_GB_113 was saved and received the ID: 2811\n"
     ]
    },
    {
     "name": "stderr",
     "output_type": "stream",
     "text": [
      "2023-08-17 00:09:01,680 - pyiron_log - WARNING - Job aborted\n",
      "2023-08-17 00:09:01,681 - pyiron_log - WARNING - LAMMPS (28 Mar 2023 - Update 1)\n",
      "Reading data file ...\n",
      "  orthogonal box = (0 0 0) to (4.0048391 6.9365848 49.334343)\n",
      "  1 by 1 by 1 MPI processor grid\n",
      "  reading atoms ...\n",
      "  84 atoms\n",
      "  read_data CPU = 0.000 seconds\n",
      "ERROR: KIM ModelCreate failed (src/KIM/pair_kim.cpp:828)\n",
      "Last command: pair_style kim Morse_Shifted_GirifalcoWeizer_1959MedCutoff_Fe__MO_984358344196_004\n",
      "\n",
      "2023-08-17 00:09:01,695 - pyiron_log - WARNING - Job aborted - please remove it and run again! S3_GB_115\n"
     ]
    },
    {
     "name": "stdout",
     "output_type": "stream",
     "text": [
      "The job S3_GB_114 was saved and received the ID: 2812\n"
     ]
    },
    {
     "name": "stderr",
     "output_type": "stream",
     "text": [
      "2023-08-17 00:09:01,914 - pyiron_log - WARNING - Job aborted\n",
      "2023-08-17 00:09:01,915 - pyiron_log - WARNING - LAMMPS (28 Mar 2023 - Update 1)\n",
      "Reading data file ...\n",
      "  orthogonal box = (0 0 0) to (4.0048391 6.9365848 49.334343)\n",
      "  1 by 1 by 1 MPI processor grid\n",
      "  reading atoms ...\n",
      "  84 atoms\n",
      "  read_data CPU = 0.000 seconds\n",
      "ERROR: KIM ModelCreate failed (src/KIM/pair_kim.cpp:828)\n",
      "Last command: pair_style kim Tersoff_LAMMPS_MuellerErhartAlbe_2007_Fe__MO_137964310702_003\n",
      "\n",
      "2023-08-17 00:09:01,927 - pyiron_log - WARNING - Job aborted - please remove it and run again! S3_GB_116\n"
     ]
    },
    {
     "name": "stdout",
     "output_type": "stream",
     "text": [
      "The job S3_GB_115 was saved and received the ID: 2813\n"
     ]
    },
    {
     "name": "stderr",
     "output_type": "stream",
     "text": [
      "2023-08-17 00:09:02,190 - pyiron_log - WARNING - Job aborted\n",
      "2023-08-17 00:09:02,191 - pyiron_log - WARNING - LAMMPS (28 Mar 2023 - Update 1)\n",
      "Reading data file ...\n",
      "  orthogonal box = (0 0 0) to (4.0048391 6.9365848 49.334343)\n",
      "  1 by 1 by 1 MPI processor grid\n",
      "  reading atoms ...\n",
      "  84 atoms\n",
      "  read_data CPU = 0.000 seconds\n",
      "ERROR: KIM ModelCreate failed (src/KIM/pair_kim.cpp:828)\n",
      "Last command: pair_style kim Sim_LAMMPS_EAMCD_StukowskiSadighErhart_2009_FeCr__SM_775564499513_000\n",
      "\n",
      "2023-08-17 00:09:02,205 - pyiron_log - WARNING - Job aborted - please remove it and run again! S3_GB_117\n"
     ]
    },
    {
     "name": "stdout",
     "output_type": "stream",
     "text": [
      "The job S3_GB_116 was saved and received the ID: 2814\n"
     ]
    },
    {
     "name": "stderr",
     "output_type": "stream",
     "text": [
      "2023-08-17 00:09:02,420 - pyiron_log - WARNING - Job aborted\n",
      "2023-08-17 00:09:02,421 - pyiron_log - WARNING - LAMMPS (28 Mar 2023 - Update 1)\n",
      "Reading data file ...\n",
      "  orthogonal box = (0 0 0) to (4.0048391 6.9365848 49.334343)\n",
      "  1 by 1 by 1 MPI processor grid\n",
      "  reading atoms ...\n",
      "  84 atoms\n",
      "  read_data CPU = 0.000 seconds\n",
      "ERROR: KIM ModelCreate failed (src/KIM/pair_kim.cpp:828)\n",
      "Last command: pair_style kim Sim_LAMMPS_EAM_BonnyCastinBullens_2013_FeCrW__SM_699257350704_000\n",
      "\n",
      "2023-08-17 00:09:02,434 - pyiron_log - WARNING - Job aborted - please remove it and run again! S3_GB_118\n"
     ]
    },
    {
     "name": "stdout",
     "output_type": "stream",
     "text": [
      "The job S3_GB_117 was saved and received the ID: 2815\n"
     ]
    },
    {
     "name": "stderr",
     "output_type": "stream",
     "text": [
      "2023-08-17 00:09:02,654 - pyiron_log - WARNING - Job aborted\n",
      "2023-08-17 00:09:02,655 - pyiron_log - WARNING - LAMMPS (28 Mar 2023 - Update 1)\n",
      "Reading data file ...\n",
      "  orthogonal box = (0 0 0) to (4.0048391 6.9365848 49.334343)\n",
      "  1 by 1 by 1 MPI processor grid\n",
      "  reading atoms ...\n",
      "  84 atoms\n",
      "  read_data CPU = 0.000 seconds\n",
      "ERROR: KIM ModelCreate failed (src/KIM/pair_kim.cpp:828)\n",
      "Last command: pair_style kim Sim_LAMMPS_EAM_BonnyPasianotTerentyev_2011_FeCr__SM_237089298463_000\n",
      "\n",
      "2023-08-17 00:09:02,667 - pyiron_log - WARNING - Job aborted - please remove it and run again! S3_GB_119\n"
     ]
    },
    {
     "name": "stdout",
     "output_type": "stream",
     "text": [
      "The job S3_GB_118 was saved and received the ID: 2816\n"
     ]
    },
    {
     "name": "stderr",
     "output_type": "stream",
     "text": [
      "2023-08-17 00:09:02,893 - pyiron_log - WARNING - Job aborted\n",
      "2023-08-17 00:09:02,894 - pyiron_log - WARNING - LAMMPS (28 Mar 2023 - Update 1)\n",
      "Reading data file ...\n",
      "  orthogonal box = (0 0 0) to (4.0048391 6.9365848 49.334343)\n",
      "  1 by 1 by 1 MPI processor grid\n",
      "  reading atoms ...\n",
      "  84 atoms\n",
      "  read_data CPU = 0.000 seconds\n",
      "ERROR: KIM ModelCreate failed (src/KIM/pair_kim.cpp:828)\n",
      "Last command: pair_style kim Sim_LAMMPS_MEAM_AsadiZaeemNouranian_2015_Fe__SM_042630680993_000\n",
      "\n",
      "2023-08-17 00:09:02,907 - pyiron_log - WARNING - Job aborted - please remove it and run again! S3_GB_120\n"
     ]
    },
    {
     "name": "stdout",
     "output_type": "stream",
     "text": [
      "The job S3_GB_119 was saved and received the ID: 2817\n"
     ]
    },
    {
     "name": "stderr",
     "output_type": "stream",
     "text": [
      "2023-08-17 00:09:03,154 - pyiron_log - WARNING - Job aborted\n",
      "2023-08-17 00:09:03,155 - pyiron_log - WARNING - LAMMPS (28 Mar 2023 - Update 1)\n",
      "Reading data file ...\n",
      "  orthogonal box = (0 0 0) to (4.0048391 6.9365848 49.334343)\n",
      "  1 by 1 by 1 MPI processor grid\n",
      "  reading atoms ...\n",
      "  84 atoms\n",
      "  read_data CPU = 0.000 seconds\n",
      "ERROR: KIM ModelCreate failed (src/KIM/pair_kim.cpp:828)\n",
      "Last command: pair_style kim Sim_LAMMPS_MEAM_EtesamiAsadi_2018_Fe__SM_267016608755_000\n",
      "\n",
      "2023-08-17 00:09:03,166 - pyiron_log - WARNING - Job aborted - please remove it and run again! S3_GB_121\n"
     ]
    },
    {
     "name": "stdout",
     "output_type": "stream",
     "text": [
      "The job S3_GB_120 was saved and received the ID: 2818\n"
     ]
    },
    {
     "name": "stderr",
     "output_type": "stream",
     "text": [
      "2023-08-17 00:09:03,389 - pyiron_log - WARNING - Job aborted\n",
      "2023-08-17 00:09:03,390 - pyiron_log - WARNING - LAMMPS (28 Mar 2023 - Update 1)\n",
      "Reading data file ...\n",
      "  orthogonal box = (0 0 0) to (4.0048391 6.9365848 49.334343)\n",
      "  1 by 1 by 1 MPI processor grid\n",
      "  reading atoms ...\n",
      "  84 atoms\n",
      "  read_data CPU = 0.000 seconds\n",
      "ERROR: KIM ModelCreate failed (src/KIM/pair_kim.cpp:828)\n",
      "Last command: pair_style kim Sim_LAMMPS_MEAM_JelinekGrohHorstemeyer_2012_AlSiMgCuFe__SM_656517352485_000\n",
      "\n",
      "2023-08-17 00:09:03,402 - pyiron_log - WARNING - Job aborted - please remove it and run again! S3_GB_122\n"
     ]
    },
    {
     "name": "stdout",
     "output_type": "stream",
     "text": [
      "The job S3_GB_121 was saved and received the ID: 2819\n"
     ]
    },
    {
     "name": "stderr",
     "output_type": "stream",
     "text": [
      "2023-08-17 00:09:03,610 - pyiron_log - WARNING - Job aborted\n",
      "2023-08-17 00:09:03,611 - pyiron_log - WARNING - LAMMPS (28 Mar 2023 - Update 1)\n",
      "Reading data file ...\n",
      "  orthogonal box = (0 0 0) to (4.0048391 6.9365848 49.334343)\n",
      "  1 by 1 by 1 MPI processor grid\n",
      "  reading atoms ...\n",
      "  84 atoms\n",
      "  read_data CPU = 0.000 seconds\n",
      "ERROR: KIM ModelCreate failed (src/KIM/pair_kim.cpp:828)\n",
      "Last command: pair_style kim Sim_LAMMPS_MEAM_KimJungLee_2009_FeTiC__SM_531038274471_000\n",
      "\n",
      "2023-08-17 00:09:03,624 - pyiron_log - WARNING - Job aborted - please remove it and run again! S3_GB_123\n"
     ]
    },
    {
     "name": "stdout",
     "output_type": "stream",
     "text": [
      "The job S3_GB_122 was saved and received the ID: 2820\n"
     ]
    },
    {
     "name": "stderr",
     "output_type": "stream",
     "text": [
      "2023-08-17 00:09:03,830 - pyiron_log - WARNING - Job aborted\n",
      "2023-08-17 00:09:03,831 - pyiron_log - WARNING - LAMMPS (28 Mar 2023 - Update 1)\n",
      "Reading data file ...\n",
      "  orthogonal box = (0 0 0) to (4.0048391 6.9365848 49.334343)\n",
      "  1 by 1 by 1 MPI processor grid\n",
      "  reading atoms ...\n",
      "  84 atoms\n",
      "  read_data CPU = 0.000 seconds\n",
      "ERROR: KIM ModelCreate failed (src/KIM/pair_kim.cpp:828)\n",
      "Last command: pair_style kim Sim_LAMMPS_MEAM_LiyanageKimHouze_2014_FeC__SM_652425777808_000\n",
      "\n",
      "2023-08-17 00:09:03,844 - pyiron_log - WARNING - Job aborted - please remove it and run again! S3_GB_124\n"
     ]
    },
    {
     "name": "stdout",
     "output_type": "stream",
     "text": [
      "The job S3_GB_123 was saved and received the ID: 2821\n"
     ]
    },
    {
     "name": "stderr",
     "output_type": "stream",
     "text": [
      "2023-08-17 00:09:04,064 - pyiron_log - WARNING - Job aborted\n",
      "2023-08-17 00:09:04,065 - pyiron_log - WARNING - LAMMPS (28 Mar 2023 - Update 1)\n",
      "Reading data file ...\n",
      "  orthogonal box = (0 0 0) to (4.0048391 6.9365848 49.334343)\n",
      "  1 by 1 by 1 MPI processor grid\n",
      "  reading atoms ...\n",
      "  84 atoms\n",
      "  read_data CPU = 0.001 seconds\n",
      "ERROR: KIM ModelCreate failed (src/KIM/pair_kim.cpp:828)\n",
      "Last command: pair_style kim Sim_LAMMPS_ReaxFF_AryanpourVanDuinKubicki_2010_FeHO__SM_222964216001_001\n",
      "\n",
      "2023-08-17 00:09:04,078 - pyiron_log - WARNING - Job aborted - please remove it and run again! S3_GB_125\n"
     ]
    },
    {
     "name": "stdout",
     "output_type": "stream",
     "text": [
      "The job S3_GB_124 was saved and received the ID: 2822\n"
     ]
    },
    {
     "name": "stderr",
     "output_type": "stream",
     "text": [
      "2023-08-17 00:09:04,307 - pyiron_log - WARNING - Job aborted\n",
      "2023-08-17 00:09:04,307 - pyiron_log - WARNING - LAMMPS (28 Mar 2023 - Update 1)\n",
      "Reading data file ...\n",
      "  orthogonal box = (0 0 0) to (4.0048391 6.9365848 49.334343)\n",
      "  1 by 1 by 1 MPI processor grid\n",
      "  reading atoms ...\n",
      "  84 atoms\n",
      "  read_data CPU = 0.000 seconds\n",
      "ERROR: KIM ModelCreate failed (src/KIM/pair_kim.cpp:828)\n",
      "Last command: pair_style kim Sim_LAMMPS_TersoffZBL_ByggmastarGranberg_2020_Fe__SM_958863895234_000\n",
      "\n",
      "2023-08-17 00:09:04,321 - pyiron_log - WARNING - Job aborted - please remove it and run again! S3_GB_126\n"
     ]
    },
    {
     "name": "stdout",
     "output_type": "stream",
     "text": [
      "The job S3_GB_125 was saved and received the ID: 2823\n"
     ]
    },
    {
     "name": "stderr",
     "output_type": "stream",
     "text": [
      "2023-08-17 00:09:04,553 - pyiron_log - WARNING - Job aborted\n",
      "2023-08-17 00:09:04,553 - pyiron_log - WARNING - LAMMPS (28 Mar 2023 - Update 1)\n",
      "Reading data file ...\n",
      "  orthogonal box = (0 0 0) to (4.0048391 6.9365848 49.334343)\n",
      "  1 by 1 by 1 MPI processor grid\n",
      "  reading atoms ...\n",
      "  84 atoms\n",
      "  read_data CPU = 0.000 seconds\n",
      "ERROR: KIM ModelCreate failed (src/KIM/pair_kim.cpp:828)\n",
      "Last command: pair_style kim Sim_LAMMPS_TersoffZBL_HenrikssonBjorkasNordlund_2013_FeC__SM_473463498269_000\n",
      "\n"
     ]
    },
    {
     "name": "stdout",
     "output_type": "stream",
     "text": [
      "The job S3_GB_126 was saved and received the ID: 2824\n"
     ]
    }
   ],
   "source": [
    "potentials_tested = job.list_potentials()\n",
    "GB_energy_list = []\n",
    "for i, potential in enumerate(potentials_tested):\n",
    "    try:\n",
    "        job_GB_name = f\"S3_GB_{i}\"\n",
    "        GB_toten = run_lammps_calc(pymatgen_to_pyiron(gb_pmg), job_GB_name, potential)\n",
    "        \n",
    "        job_SLAB_name = f\"S3_SLAB_{i}\"\n",
    "        SLAB_toten = run_lammps_calc(pymatgen_to_pyiron(slab_pmg), job_SLAB_name, potential)\n",
    "        \n",
    "        # Formula for GB energy is E_GB_tot - E_SLAB_tot / 2 * (Interface area)\n",
    "        # The 2 in the denominator is to account for the second interface present in the cell due to the periodic conditions\n",
    "        \n",
    "        GB_energy = (GB_toten - SLAB_toten) \\\n",
    "                    / (gb_pmg.volume / gb_pmg.lattice.c) * 16.02\n",
    "        \n",
    "        GB_energy_list.append(GB_energy)\n",
    "    except:\n",
    "        GB_energy_list.append(np.nan)"
   ]
  },
  {
   "cell_type": "markdown",
   "metadata": {},
   "source": [
    "Construct a dataframe which contains the information about GB energy, and their errors with respect to a DFT computed value.\n",
    "\n",
    "The GB energy of 1.58 J/m^2 is from the value computed in this study:\n",
    "\n",
    "Mai, H.L., Cui, X.Y., Scheiber, D., Romaner, L. and Ringer, S.P., 2022. The segregation of transition metals to iron grain boundaries and their effects on cohesion. Acta materialia, 231, p.117902."
   ]
  },
  {
   "cell_type": "code",
   "execution_count": 9,
   "metadata": {},
   "outputs": [
    {
     "data": {
      "text/html": [
       "<div>\n",
       "<style scoped>\n",
       "    .dataframe tbody tr th:only-of-type {\n",
       "        vertical-align: middle;\n",
       "    }\n",
       "\n",
       "    .dataframe tbody tr th {\n",
       "        vertical-align: top;\n",
       "    }\n",
       "\n",
       "    .dataframe thead th {\n",
       "        text-align: right;\n",
       "    }\n",
       "</style>\n",
       "<table border=\"1\" class=\"dataframe\">\n",
       "  <thead>\n",
       "    <tr style=\"text-align: right;\">\n",
       "      <th></th>\n",
       "      <th>potential</th>\n",
       "      <th>GB_energy</th>\n",
       "      <th>err_DFT</th>\n",
       "      <th>abs_rel_err_DFT</th>\n",
       "    </tr>\n",
       "  </thead>\n",
       "  <tbody>\n",
       "    <tr>\n",
       "      <th>0</th>\n",
       "      <td>1997--Ackland-G-J--Fe--LAMMPS--ipr1</td>\n",
       "      <td>1.547</td>\n",
       "      <td>0.033</td>\n",
       "      <td>2.0</td>\n",
       "    </tr>\n",
       "    <tr>\n",
       "      <th>1</th>\n",
       "      <td>1998--Meyer-R--Fe--LAMMPS--ipr1</td>\n",
       "      <td>1.324</td>\n",
       "      <td>0.256</td>\n",
       "      <td>16.0</td>\n",
       "    </tr>\n",
       "    <tr>\n",
       "      <th>2</th>\n",
       "      <td>2001--Lee-B-J--Fe--LAMMPS--ipr1</td>\n",
       "      <td>1.221</td>\n",
       "      <td>0.359</td>\n",
       "      <td>23.0</td>\n",
       "    </tr>\n",
       "    <tr>\n",
       "      <th>3</th>\n",
       "      <td>2001--Lee-B-J--Fe-Cr--LAMMPS--ipr1</td>\n",
       "      <td>1.185</td>\n",
       "      <td>0.395</td>\n",
       "      <td>25.0</td>\n",
       "    </tr>\n",
       "    <tr>\n",
       "      <th>4</th>\n",
       "      <td>2003--Mendelev-M-I--Fe-2--LAMMPS--ipr3</td>\n",
       "      <td>1.296</td>\n",
       "      <td>0.284</td>\n",
       "      <td>18.0</td>\n",
       "    </tr>\n",
       "    <tr>\n",
       "      <th>...</th>\n",
       "      <td>...</td>\n",
       "      <td>...</td>\n",
       "      <td>...</td>\n",
       "      <td>...</td>\n",
       "    </tr>\n",
       "    <tr>\n",
       "      <th>63</th>\n",
       "      <td>2021--Starikov-S--Fe--LAMMPS--ipr2</td>\n",
       "      <td>5.006</td>\n",
       "      <td>-3.426</td>\n",
       "      <td>217.0</td>\n",
       "    </tr>\n",
       "    <tr>\n",
       "      <th>64</th>\n",
       "      <td>2021--Wen-M--Fe-H--LAMMPS--ipr1</td>\n",
       "      <td>1.309</td>\n",
       "      <td>0.271</td>\n",
       "      <td>17.0</td>\n",
       "    </tr>\n",
       "    <tr>\n",
       "      <th>65</th>\n",
       "      <td>2022--Mahata-A--Al-Fe--LAMMPS--ipr1</td>\n",
       "      <td>1.130</td>\n",
       "      <td>0.450</td>\n",
       "      <td>29.0</td>\n",
       "    </tr>\n",
       "    <tr>\n",
       "      <th>66</th>\n",
       "      <td>2022--Starikov-S--Fe-Cr-H--LAMMPS--ipr1</td>\n",
       "      <td>1.487</td>\n",
       "      <td>0.093</td>\n",
       "      <td>6.0</td>\n",
       "    </tr>\n",
       "    <tr>\n",
       "      <th>67</th>\n",
       "      <td>2022--Sun-Y--Fe--LAMMPS--ipr1</td>\n",
       "      <td>0.441</td>\n",
       "      <td>1.139</td>\n",
       "      <td>72.0</td>\n",
       "    </tr>\n",
       "  </tbody>\n",
       "</table>\n",
       "<p>61 rows × 4 columns</p>\n",
       "</div>"
      ],
      "text/plain": [
       "                                  potential  GB_energy  err_DFT   \n",
       "0       1997--Ackland-G-J--Fe--LAMMPS--ipr1      1.547    0.033  \\\n",
       "1           1998--Meyer-R--Fe--LAMMPS--ipr1      1.324    0.256   \n",
       "2           2001--Lee-B-J--Fe--LAMMPS--ipr1      1.221    0.359   \n",
       "3        2001--Lee-B-J--Fe-Cr--LAMMPS--ipr1      1.185    0.395   \n",
       "4    2003--Mendelev-M-I--Fe-2--LAMMPS--ipr3      1.296    0.284   \n",
       "..                                      ...        ...      ...   \n",
       "63       2021--Starikov-S--Fe--LAMMPS--ipr2      5.006   -3.426   \n",
       "64          2021--Wen-M--Fe-H--LAMMPS--ipr1      1.309    0.271   \n",
       "65      2022--Mahata-A--Al-Fe--LAMMPS--ipr1      1.130    0.450   \n",
       "66  2022--Starikov-S--Fe-Cr-H--LAMMPS--ipr1      1.487    0.093   \n",
       "67            2022--Sun-Y--Fe--LAMMPS--ipr1      0.441    1.139   \n",
       "\n",
       "    abs_rel_err_DFT  \n",
       "0               2.0  \n",
       "1              16.0  \n",
       "2              23.0  \n",
       "3              25.0  \n",
       "4              18.0  \n",
       "..              ...  \n",
       "63            217.0  \n",
       "64             17.0  \n",
       "65             29.0  \n",
       "66              6.0  \n",
       "67             72.0  \n",
       "\n",
       "[61 rows x 4 columns]"
      ]
     },
     "execution_count": 9,
     "metadata": {},
     "output_type": "execute_result"
    }
   ],
   "source": [
    "data = {'potential': potentials_tested, 'GB_energy': GB_energy_list}\n",
    "df = pd.DataFrame(data)\n",
    "\n",
    "GB_energy_DFT = 1.58\n",
    "df[\"err_DFT\"] = np.round(GB_energy_DFT - df[\"GB_energy\"], 3)\n",
    "df[\"abs_rel_err_DFT\"] = abs(np.round((GB_energy_DFT - df[\"GB_energy\"]) / GB_energy_DFT * 100, 0))\n",
    "df[\"GB_energy\"] = np.round(df.GB_energy.tolist(), 3)\n",
    "df = df.dropna(subset=\"GB_energy\")\n",
    "df"
   ]
  },
  {
   "cell_type": "markdown",
   "metadata": {},
   "source": [
    "Order the potentials by the minimum error wrt. DFT!\n",
    "\n",
    "Now we have a good idea of how to search for an empirical potential which best captures the GB energetics of a specific grain boundary.\n",
    "\n",
    "You can see that there are some potentials that are very, very accurate at predicting this specific GB energy. \n",
    "\n",
    "For a real study you should consider not just a single GB, but validate it across multiple GBs and ideally the specific phenomena you want to study."
   ]
  },
  {
   "cell_type": "code",
   "execution_count": 10,
   "metadata": {},
   "outputs": [
    {
     "data": {
      "text/html": [
       "<div>\n",
       "<style scoped>\n",
       "    .dataframe tbody tr th:only-of-type {\n",
       "        vertical-align: middle;\n",
       "    }\n",
       "\n",
       "    .dataframe tbody tr th {\n",
       "        vertical-align: top;\n",
       "    }\n",
       "\n",
       "    .dataframe thead th {\n",
       "        text-align: right;\n",
       "    }\n",
       "</style>\n",
       "<table border=\"1\" class=\"dataframe\">\n",
       "  <thead>\n",
       "    <tr style=\"text-align: right;\">\n",
       "      <th></th>\n",
       "      <th>potential</th>\n",
       "      <th>GB_energy</th>\n",
       "      <th>err_DFT</th>\n",
       "      <th>abs_rel_err_DFT</th>\n",
       "    </tr>\n",
       "  </thead>\n",
       "  <tbody>\n",
       "    <tr>\n",
       "      <th>0</th>\n",
       "      <td>1997--Ackland-G-J--Fe--LAMMPS--ipr1</td>\n",
       "      <td>1.547</td>\n",
       "      <td>0.033</td>\n",
       "      <td>2.0</td>\n",
       "    </tr>\n",
       "    <tr>\n",
       "      <th>44</th>\n",
       "      <td>2017--Beland-L-K--Fe-Ni-Cr--LAMMPS--ipr1</td>\n",
       "      <td>1.632</td>\n",
       "      <td>-0.052</td>\n",
       "      <td>3.0</td>\n",
       "    </tr>\n",
       "    <tr>\n",
       "      <th>31</th>\n",
       "      <td>2011--Bonny-G--Fe-Ni-Cr--LAMMPS--ipr2</td>\n",
       "      <td>1.641</td>\n",
       "      <td>-0.061</td>\n",
       "      <td>4.0</td>\n",
       "    </tr>\n",
       "    <tr>\n",
       "      <th>66</th>\n",
       "      <td>2022--Starikov-S--Fe-Cr-H--LAMMPS--ipr1</td>\n",
       "      <td>1.487</td>\n",
       "      <td>0.093</td>\n",
       "      <td>6.0</td>\n",
       "    </tr>\n",
       "    <tr>\n",
       "      <th>32</th>\n",
       "      <td>2011--Chiesa-S--Fe-33--LAMMPS--ipr1</td>\n",
       "      <td>1.671</td>\n",
       "      <td>-0.091</td>\n",
       "      <td>6.0</td>\n",
       "    </tr>\n",
       "    <tr>\n",
       "      <th>23</th>\n",
       "      <td>2009--Olsson-P-A-T--Fe--LAMMPS--ipr1</td>\n",
       "      <td>1.468</td>\n",
       "      <td>0.112</td>\n",
       "      <td>7.0</td>\n",
       "    </tr>\n",
       "    <tr>\n",
       "      <th>7</th>\n",
       "      <td>2004--Zhou-X-W--Fe--LAMMPS--ipr2</td>\n",
       "      <td>1.437</td>\n",
       "      <td>0.143</td>\n",
       "      <td>9.0</td>\n",
       "    </tr>\n",
       "    <tr>\n",
       "      <th>27</th>\n",
       "      <td>2010--Malerba-L--Fe--LAMMPS--ipr1</td>\n",
       "      <td>1.428</td>\n",
       "      <td>0.152</td>\n",
       "      <td>10.0</td>\n",
       "    </tr>\n",
       "    <tr>\n",
       "      <th>52</th>\n",
       "      <td>2018--Zhou-X-W--Fe-Ni-Cr--LAMMPS--ipr1</td>\n",
       "      <td>1.760</td>\n",
       "      <td>-0.180</td>\n",
       "      <td>11.0</td>\n",
       "    </tr>\n",
       "    <tr>\n",
       "      <th>53</th>\n",
       "      <td>2018--Zhou-X-W--Fe-Ni-Cr--LAMMPS--ipr2</td>\n",
       "      <td>1.760</td>\n",
       "      <td>-0.180</td>\n",
       "      <td>11.0</td>\n",
       "    </tr>\n",
       "  </tbody>\n",
       "</table>\n",
       "</div>"
      ],
      "text/plain": [
       "                                   potential  GB_energy  err_DFT   \n",
       "0        1997--Ackland-G-J--Fe--LAMMPS--ipr1      1.547    0.033  \\\n",
       "44  2017--Beland-L-K--Fe-Ni-Cr--LAMMPS--ipr1      1.632   -0.052   \n",
       "31     2011--Bonny-G--Fe-Ni-Cr--LAMMPS--ipr2      1.641   -0.061   \n",
       "66   2022--Starikov-S--Fe-Cr-H--LAMMPS--ipr1      1.487    0.093   \n",
       "32       2011--Chiesa-S--Fe-33--LAMMPS--ipr1      1.671   -0.091   \n",
       "23      2009--Olsson-P-A-T--Fe--LAMMPS--ipr1      1.468    0.112   \n",
       "7           2004--Zhou-X-W--Fe--LAMMPS--ipr2      1.437    0.143   \n",
       "27         2010--Malerba-L--Fe--LAMMPS--ipr1      1.428    0.152   \n",
       "52    2018--Zhou-X-W--Fe-Ni-Cr--LAMMPS--ipr1      1.760   -0.180   \n",
       "53    2018--Zhou-X-W--Fe-Ni-Cr--LAMMPS--ipr2      1.760   -0.180   \n",
       "\n",
       "    abs_rel_err_DFT  \n",
       "0               2.0  \n",
       "44              3.0  \n",
       "31              4.0  \n",
       "66              6.0  \n",
       "32              6.0  \n",
       "23              7.0  \n",
       "7               9.0  \n",
       "27             10.0  \n",
       "52             11.0  \n",
       "53             11.0  "
      ]
     },
     "execution_count": 10,
     "metadata": {},
     "output_type": "execute_result"
    }
   ],
   "source": [
    "df.sort_values(by=\"abs_rel_err_DFT\").head(10)"
   ]
  },
  {
   "cell_type": "code",
   "execution_count": null,
   "metadata": {},
   "outputs": [],
   "source": []
  }
 ],
 "metadata": {
  "kernelspec": {
   "display_name": "Python 3",
   "language": "python",
   "name": "python3"
  },
  "language_info": {
   "codemirror_mode": {
    "name": "ipython",
    "version": 3
   },
   "file_extension": ".py",
   "mimetype": "text/x-python",
   "name": "python",
   "nbconvert_exporter": "python",
   "pygments_lexer": "ipython3",
   "version": "3.10.10"
  },
  "orig_nbformat": 4
 },
 "nbformat": 4,
 "nbformat_minor": 2
}
